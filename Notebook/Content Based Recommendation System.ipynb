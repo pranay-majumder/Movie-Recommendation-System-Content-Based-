{
 "cells": [
  {
   "cell_type": "code",
   "execution_count": 1,
   "id": "51c1f731-5e93-4d1f-90d7-659603d673b0",
   "metadata": {},
   "outputs": [
    {
     "name": "stdout",
     "output_type": "stream",
     "text": [
      "Requirement already satisfied: numpy in c:\\users\\prana\\anaconda3\\lib\\site-packages (1.26.2)\n",
      "Note: you may need to restart the kernel to use updated packages.\n"
     ]
    }
   ],
   "source": [
    "pip install numpy\n"
   ]
  },
  {
   "cell_type": "code",
   "execution_count": 2,
   "id": "335770fc",
   "metadata": {},
   "outputs": [],
   "source": [
    "import numpy as np\n",
    "import pandas as pd"
   ]
  },
  {
   "cell_type": "code",
   "execution_count": 3,
   "id": "bae8bebe-c926-42b6-a49a-b0bcce367402",
   "metadata": {},
   "outputs": [
    {
     "data": {
      "text/html": [
       "<div>\n",
       "<style scoped>\n",
       "    .dataframe tbody tr th:only-of-type {\n",
       "        vertical-align: middle;\n",
       "    }\n",
       "\n",
       "    .dataframe tbody tr th {\n",
       "        vertical-align: top;\n",
       "    }\n",
       "\n",
       "    .dataframe thead th {\n",
       "        text-align: right;\n",
       "    }\n",
       "</style>\n",
       "<table border=\"1\" class=\"dataframe\">\n",
       "  <thead>\n",
       "    <tr style=\"text-align: right;\">\n",
       "      <th></th>\n",
       "      <th>budget</th>\n",
       "      <th>genres</th>\n",
       "      <th>homepage</th>\n",
       "      <th>id</th>\n",
       "      <th>keywords</th>\n",
       "      <th>original_language</th>\n",
       "      <th>original_title</th>\n",
       "      <th>overview</th>\n",
       "      <th>popularity</th>\n",
       "      <th>production_companies</th>\n",
       "      <th>production_countries</th>\n",
       "      <th>release_date</th>\n",
       "      <th>revenue</th>\n",
       "      <th>runtime</th>\n",
       "      <th>spoken_languages</th>\n",
       "      <th>status</th>\n",
       "      <th>tagline</th>\n",
       "      <th>title</th>\n",
       "      <th>vote_average</th>\n",
       "      <th>vote_count</th>\n",
       "    </tr>\n",
       "  </thead>\n",
       "  <tbody>\n",
       "    <tr>\n",
       "      <th>0</th>\n",
       "      <td>237000000</td>\n",
       "      <td>[{\"id\": 28, \"name\": \"Action\"}, {\"id\": 12, \"nam...</td>\n",
       "      <td>http://www.avatarmovie.com/</td>\n",
       "      <td>19995</td>\n",
       "      <td>[{\"id\": 1463, \"name\": \"culture clash\"}, {\"id\":...</td>\n",
       "      <td>en</td>\n",
       "      <td>Avatar</td>\n",
       "      <td>In the 22nd century, a paraplegic Marine is di...</td>\n",
       "      <td>150.437577</td>\n",
       "      <td>[{\"name\": \"Ingenious Film Partners\", \"id\": 289...</td>\n",
       "      <td>[{\"iso_3166_1\": \"US\", \"name\": \"United States o...</td>\n",
       "      <td>2009-12-10</td>\n",
       "      <td>2787965087</td>\n",
       "      <td>162.0</td>\n",
       "      <td>[{\"iso_639_1\": \"en\", \"name\": \"English\"}, {\"iso...</td>\n",
       "      <td>Released</td>\n",
       "      <td>Enter the World of Pandora.</td>\n",
       "      <td>Avatar</td>\n",
       "      <td>7.2</td>\n",
       "      <td>11800</td>\n",
       "    </tr>\n",
       "    <tr>\n",
       "      <th>1</th>\n",
       "      <td>300000000</td>\n",
       "      <td>[{\"id\": 12, \"name\": \"Adventure\"}, {\"id\": 14, \"...</td>\n",
       "      <td>http://disney.go.com/disneypictures/pirates/</td>\n",
       "      <td>285</td>\n",
       "      <td>[{\"id\": 270, \"name\": \"ocean\"}, {\"id\": 726, \"na...</td>\n",
       "      <td>en</td>\n",
       "      <td>Pirates of the Caribbean: At World's End</td>\n",
       "      <td>Captain Barbossa, long believed to be dead, ha...</td>\n",
       "      <td>139.082615</td>\n",
       "      <td>[{\"name\": \"Walt Disney Pictures\", \"id\": 2}, {\"...</td>\n",
       "      <td>[{\"iso_3166_1\": \"US\", \"name\": \"United States o...</td>\n",
       "      <td>2007-05-19</td>\n",
       "      <td>961000000</td>\n",
       "      <td>169.0</td>\n",
       "      <td>[{\"iso_639_1\": \"en\", \"name\": \"English\"}]</td>\n",
       "      <td>Released</td>\n",
       "      <td>At the end of the world, the adventure begins.</td>\n",
       "      <td>Pirates of the Caribbean: At World's End</td>\n",
       "      <td>6.9</td>\n",
       "      <td>4500</td>\n",
       "    </tr>\n",
       "  </tbody>\n",
       "</table>\n",
       "</div>"
      ],
      "text/plain": [
       "      budget                                             genres  \\\n",
       "0  237000000  [{\"id\": 28, \"name\": \"Action\"}, {\"id\": 12, \"nam...   \n",
       "1  300000000  [{\"id\": 12, \"name\": \"Adventure\"}, {\"id\": 14, \"...   \n",
       "\n",
       "                                       homepage     id  \\\n",
       "0                   http://www.avatarmovie.com/  19995   \n",
       "1  http://disney.go.com/disneypictures/pirates/    285   \n",
       "\n",
       "                                            keywords original_language  \\\n",
       "0  [{\"id\": 1463, \"name\": \"culture clash\"}, {\"id\":...                en   \n",
       "1  [{\"id\": 270, \"name\": \"ocean\"}, {\"id\": 726, \"na...                en   \n",
       "\n",
       "                             original_title  \\\n",
       "0                                    Avatar   \n",
       "1  Pirates of the Caribbean: At World's End   \n",
       "\n",
       "                                            overview  popularity  \\\n",
       "0  In the 22nd century, a paraplegic Marine is di...  150.437577   \n",
       "1  Captain Barbossa, long believed to be dead, ha...  139.082615   \n",
       "\n",
       "                                production_companies  \\\n",
       "0  [{\"name\": \"Ingenious Film Partners\", \"id\": 289...   \n",
       "1  [{\"name\": \"Walt Disney Pictures\", \"id\": 2}, {\"...   \n",
       "\n",
       "                                production_countries release_date     revenue  \\\n",
       "0  [{\"iso_3166_1\": \"US\", \"name\": \"United States o...   2009-12-10  2787965087   \n",
       "1  [{\"iso_3166_1\": \"US\", \"name\": \"United States o...   2007-05-19   961000000   \n",
       "\n",
       "   runtime                                   spoken_languages    status  \\\n",
       "0    162.0  [{\"iso_639_1\": \"en\", \"name\": \"English\"}, {\"iso...  Released   \n",
       "1    169.0           [{\"iso_639_1\": \"en\", \"name\": \"English\"}]  Released   \n",
       "\n",
       "                                          tagline  \\\n",
       "0                     Enter the World of Pandora.   \n",
       "1  At the end of the world, the adventure begins.   \n",
       "\n",
       "                                      title  vote_average  vote_count  \n",
       "0                                    Avatar           7.2       11800  \n",
       "1  Pirates of the Caribbean: At World's End           6.9        4500  "
      ]
     },
     "execution_count": 3,
     "metadata": {},
     "output_type": "execute_result"
    }
   ],
   "source": [
    "movies = pd.read_csv('../Dataset/tmdb_5000_movies.csv')\n",
    "movies.head(2)"
   ]
  },
  {
   "cell_type": "code",
   "execution_count": 4,
   "id": "b1353744-af5c-4f71-9659-e2dd42362d23",
   "metadata": {},
   "outputs": [
    {
     "data": {
      "text/html": [
       "<div>\n",
       "<style scoped>\n",
       "    .dataframe tbody tr th:only-of-type {\n",
       "        vertical-align: middle;\n",
       "    }\n",
       "\n",
       "    .dataframe tbody tr th {\n",
       "        vertical-align: top;\n",
       "    }\n",
       "\n",
       "    .dataframe thead th {\n",
       "        text-align: right;\n",
       "    }\n",
       "</style>\n",
       "<table border=\"1\" class=\"dataframe\">\n",
       "  <thead>\n",
       "    <tr style=\"text-align: right;\">\n",
       "      <th></th>\n",
       "      <th>movie_id</th>\n",
       "      <th>title</th>\n",
       "      <th>cast</th>\n",
       "      <th>crew</th>\n",
       "    </tr>\n",
       "  </thead>\n",
       "  <tbody>\n",
       "    <tr>\n",
       "      <th>0</th>\n",
       "      <td>19995</td>\n",
       "      <td>Avatar</td>\n",
       "      <td>[{\"cast_id\": 242, \"character\": \"Jake Sully\", \"...</td>\n",
       "      <td>[{\"credit_id\": \"52fe48009251416c750aca23\", \"de...</td>\n",
       "    </tr>\n",
       "    <tr>\n",
       "      <th>1</th>\n",
       "      <td>285</td>\n",
       "      <td>Pirates of the Caribbean: At World's End</td>\n",
       "      <td>[{\"cast_id\": 4, \"character\": \"Captain Jack Spa...</td>\n",
       "      <td>[{\"credit_id\": \"52fe4232c3a36847f800b579\", \"de...</td>\n",
       "    </tr>\n",
       "  </tbody>\n",
       "</table>\n",
       "</div>"
      ],
      "text/plain": [
       "   movie_id                                     title  \\\n",
       "0     19995                                    Avatar   \n",
       "1       285  Pirates of the Caribbean: At World's End   \n",
       "\n",
       "                                                cast  \\\n",
       "0  [{\"cast_id\": 242, \"character\": \"Jake Sully\", \"...   \n",
       "1  [{\"cast_id\": 4, \"character\": \"Captain Jack Spa...   \n",
       "\n",
       "                                                crew  \n",
       "0  [{\"credit_id\": \"52fe48009251416c750aca23\", \"de...  \n",
       "1  [{\"credit_id\": \"52fe4232c3a36847f800b579\", \"de...  "
      ]
     },
     "execution_count": 4,
     "metadata": {},
     "output_type": "execute_result"
    }
   ],
   "source": [
    "credits = pd.read_csv('../Dataset/tmdb_5000_credits.csv') \n",
    "credits.head(2)"
   ]
  },
  {
   "cell_type": "code",
   "execution_count": 5,
   "id": "7cad919f-3246-42e9-8566-b6187776012d",
   "metadata": {},
   "outputs": [
    {
     "data": {
      "text/plain": [
       "original_language\n",
       "en    4505\n",
       "fr      70\n",
       "es      32\n",
       "zh      27\n",
       "de      27\n",
       "hi      19\n",
       "ja      16\n",
       "it      14\n",
       "cn      12\n",
       "ru      11\n",
       "ko      11\n",
       "pt       9\n",
       "da       7\n",
       "sv       5\n",
       "nl       4\n",
       "fa       4\n",
       "th       3\n",
       "he       3\n",
       "ta       2\n",
       "cs       2\n",
       "ro       2\n",
       "id       2\n",
       "ar       2\n",
       "vi       1\n",
       "sl       1\n",
       "ps       1\n",
       "no       1\n",
       "ky       1\n",
       "hu       1\n",
       "pl       1\n",
       "af       1\n",
       "nb       1\n",
       "tr       1\n",
       "is       1\n",
       "xx       1\n",
       "te       1\n",
       "el       1\n",
       "Name: count, dtype: int64"
      ]
     },
     "execution_count": 5,
     "metadata": {},
     "output_type": "execute_result"
    }
   ],
   "source": [
    "# Highly Imbalance as most of the movie are in English\n",
    "movies['original_language'].value_counts()"
   ]
  },
  {
   "cell_type": "markdown",
   "id": "5d8a4733-bcf9-43f7-8a79-782cd3ab92c7",
   "metadata": {},
   "source": [
    "## Drop Unwanted Columns"
   ]
  },
  {
   "cell_type": "code",
   "execution_count": 6,
   "id": "04b39603-0b73-4513-b50e-3ea4294c3104",
   "metadata": {},
   "outputs": [
    {
     "data": {
      "text/html": [
       "<div>\n",
       "<style scoped>\n",
       "    .dataframe tbody tr th:only-of-type {\n",
       "        vertical-align: middle;\n",
       "    }\n",
       "\n",
       "    .dataframe tbody tr th {\n",
       "        vertical-align: top;\n",
       "    }\n",
       "\n",
       "    .dataframe thead th {\n",
       "        text-align: right;\n",
       "    }\n",
       "</style>\n",
       "<table border=\"1\" class=\"dataframe\">\n",
       "  <thead>\n",
       "    <tr style=\"text-align: right;\">\n",
       "      <th></th>\n",
       "      <th>id</th>\n",
       "      <th>title</th>\n",
       "      <th>keywords</th>\n",
       "      <th>genres</th>\n",
       "      <th>overview</th>\n",
       "      <th>production_companies</th>\n",
       "    </tr>\n",
       "  </thead>\n",
       "  <tbody>\n",
       "    <tr>\n",
       "      <th>0</th>\n",
       "      <td>19995</td>\n",
       "      <td>Avatar</td>\n",
       "      <td>[{\"id\": 1463, \"name\": \"culture clash\"}, {\"id\":...</td>\n",
       "      <td>[{\"id\": 28, \"name\": \"Action\"}, {\"id\": 12, \"nam...</td>\n",
       "      <td>In the 22nd century, a paraplegic Marine is di...</td>\n",
       "      <td>[{\"name\": \"Ingenious Film Partners\", \"id\": 289...</td>\n",
       "    </tr>\n",
       "    <tr>\n",
       "      <th>1</th>\n",
       "      <td>285</td>\n",
       "      <td>Pirates of the Caribbean: At World's End</td>\n",
       "      <td>[{\"id\": 270, \"name\": \"ocean\"}, {\"id\": 726, \"na...</td>\n",
       "      <td>[{\"id\": 12, \"name\": \"Adventure\"}, {\"id\": 14, \"...</td>\n",
       "      <td>Captain Barbossa, long believed to be dead, ha...</td>\n",
       "      <td>[{\"name\": \"Walt Disney Pictures\", \"id\": 2}, {\"...</td>\n",
       "    </tr>\n",
       "  </tbody>\n",
       "</table>\n",
       "</div>"
      ],
      "text/plain": [
       "      id                                     title  \\\n",
       "0  19995                                    Avatar   \n",
       "1    285  Pirates of the Caribbean: At World's End   \n",
       "\n",
       "                                            keywords  \\\n",
       "0  [{\"id\": 1463, \"name\": \"culture clash\"}, {\"id\":...   \n",
       "1  [{\"id\": 270, \"name\": \"ocean\"}, {\"id\": 726, \"na...   \n",
       "\n",
       "                                              genres  \\\n",
       "0  [{\"id\": 28, \"name\": \"Action\"}, {\"id\": 12, \"nam...   \n",
       "1  [{\"id\": 12, \"name\": \"Adventure\"}, {\"id\": 14, \"...   \n",
       "\n",
       "                                            overview  \\\n",
       "0  In the 22nd century, a paraplegic Marine is di...   \n",
       "1  Captain Barbossa, long believed to be dead, ha...   \n",
       "\n",
       "                                production_companies  \n",
       "0  [{\"name\": \"Ingenious Film Partners\", \"id\": 289...  \n",
       "1  [{\"name\": \"Walt Disney Pictures\", \"id\": 2}, {\"...  "
      ]
     },
     "execution_count": 6,
     "metadata": {},
     "output_type": "execute_result"
    }
   ],
   "source": [
    "movies = movies[['id','title','keywords','genres','overview','production_companies']]\n",
    "movies.head(2)"
   ]
  },
  {
   "cell_type": "markdown",
   "id": "92e16790-f572-4c16-8535-46141fa52852",
   "metadata": {},
   "source": [
    "## Merge Both the DataSet"
   ]
  },
  {
   "cell_type": "code",
   "execution_count": 7,
   "id": "10fbaddc-d440-4d65-9f29-702edb319f8b",
   "metadata": {},
   "outputs": [
    {
     "data": {
      "text/html": [
       "<div>\n",
       "<style scoped>\n",
       "    .dataframe tbody tr th:only-of-type {\n",
       "        vertical-align: middle;\n",
       "    }\n",
       "\n",
       "    .dataframe tbody tr th {\n",
       "        vertical-align: top;\n",
       "    }\n",
       "\n",
       "    .dataframe thead th {\n",
       "        text-align: right;\n",
       "    }\n",
       "</style>\n",
       "<table border=\"1\" class=\"dataframe\">\n",
       "  <thead>\n",
       "    <tr style=\"text-align: right;\">\n",
       "      <th></th>\n",
       "      <th>id</th>\n",
       "      <th>title</th>\n",
       "      <th>keywords</th>\n",
       "      <th>genres</th>\n",
       "      <th>overview</th>\n",
       "      <th>production_companies</th>\n",
       "      <th>movie_id</th>\n",
       "      <th>cast</th>\n",
       "      <th>crew</th>\n",
       "    </tr>\n",
       "  </thead>\n",
       "  <tbody>\n",
       "    <tr>\n",
       "      <th>0</th>\n",
       "      <td>19995</td>\n",
       "      <td>Avatar</td>\n",
       "      <td>[{\"id\": 1463, \"name\": \"culture clash\"}, {\"id\":...</td>\n",
       "      <td>[{\"id\": 28, \"name\": \"Action\"}, {\"id\": 12, \"nam...</td>\n",
       "      <td>In the 22nd century, a paraplegic Marine is di...</td>\n",
       "      <td>[{\"name\": \"Ingenious Film Partners\", \"id\": 289...</td>\n",
       "      <td>19995</td>\n",
       "      <td>[{\"cast_id\": 242, \"character\": \"Jake Sully\", \"...</td>\n",
       "      <td>[{\"credit_id\": \"52fe48009251416c750aca23\", \"de...</td>\n",
       "    </tr>\n",
       "    <tr>\n",
       "      <th>1</th>\n",
       "      <td>285</td>\n",
       "      <td>Pirates of the Caribbean: At World's End</td>\n",
       "      <td>[{\"id\": 270, \"name\": \"ocean\"}, {\"id\": 726, \"na...</td>\n",
       "      <td>[{\"id\": 12, \"name\": \"Adventure\"}, {\"id\": 14, \"...</td>\n",
       "      <td>Captain Barbossa, long believed to be dead, ha...</td>\n",
       "      <td>[{\"name\": \"Walt Disney Pictures\", \"id\": 2}, {\"...</td>\n",
       "      <td>285</td>\n",
       "      <td>[{\"cast_id\": 4, \"character\": \"Captain Jack Spa...</td>\n",
       "      <td>[{\"credit_id\": \"52fe4232c3a36847f800b579\", \"de...</td>\n",
       "    </tr>\n",
       "  </tbody>\n",
       "</table>\n",
       "</div>"
      ],
      "text/plain": [
       "      id                                     title  \\\n",
       "0  19995                                    Avatar   \n",
       "1    285  Pirates of the Caribbean: At World's End   \n",
       "\n",
       "                                            keywords  \\\n",
       "0  [{\"id\": 1463, \"name\": \"culture clash\"}, {\"id\":...   \n",
       "1  [{\"id\": 270, \"name\": \"ocean\"}, {\"id\": 726, \"na...   \n",
       "\n",
       "                                              genres  \\\n",
       "0  [{\"id\": 28, \"name\": \"Action\"}, {\"id\": 12, \"nam...   \n",
       "1  [{\"id\": 12, \"name\": \"Adventure\"}, {\"id\": 14, \"...   \n",
       "\n",
       "                                            overview  \\\n",
       "0  In the 22nd century, a paraplegic Marine is di...   \n",
       "1  Captain Barbossa, long believed to be dead, ha...   \n",
       "\n",
       "                                production_companies  movie_id  \\\n",
       "0  [{\"name\": \"Ingenious Film Partners\", \"id\": 289...     19995   \n",
       "1  [{\"name\": \"Walt Disney Pictures\", \"id\": 2}, {\"...       285   \n",
       "\n",
       "                                                cast  \\\n",
       "0  [{\"cast_id\": 242, \"character\": \"Jake Sully\", \"...   \n",
       "1  [{\"cast_id\": 4, \"character\": \"Captain Jack Spa...   \n",
       "\n",
       "                                                crew  \n",
       "0  [{\"credit_id\": \"52fe48009251416c750aca23\", \"de...  \n",
       "1  [{\"credit_id\": \"52fe4232c3a36847f800b579\", \"de...  "
      ]
     },
     "execution_count": 7,
     "metadata": {},
     "output_type": "execute_result"
    }
   ],
   "source": [
    "movies = movies.merge(credits,on='title')\n",
    "movies.head(2)"
   ]
  },
  {
   "cell_type": "code",
   "execution_count": 8,
   "id": "85c9de34-5d7f-44bc-b4bb-1353d163922b",
   "metadata": {},
   "outputs": [
    {
     "name": "stdout",
     "output_type": "stream",
     "text": [
      "<class 'pandas.core.frame.DataFrame'>\n",
      "RangeIndex: 4809 entries, 0 to 4808\n",
      "Data columns (total 9 columns):\n",
      " #   Column                Non-Null Count  Dtype \n",
      "---  ------                --------------  ----- \n",
      " 0   id                    4809 non-null   int64 \n",
      " 1   title                 4809 non-null   object\n",
      " 2   keywords              4809 non-null   object\n",
      " 3   genres                4809 non-null   object\n",
      " 4   overview              4806 non-null   object\n",
      " 5   production_companies  4809 non-null   object\n",
      " 6   movie_id              4809 non-null   int64 \n",
      " 7   cast                  4809 non-null   object\n",
      " 8   crew                  4809 non-null   object\n",
      "dtypes: int64(2), object(7)\n",
      "memory usage: 338.3+ KB\n"
     ]
    }
   ],
   "source": [
    "movies.info()"
   ]
  },
  {
   "cell_type": "markdown",
   "id": "9def176d-5fa2-40e3-beef-d3b5ba45b440",
   "metadata": {},
   "source": [
    "## Handeling Null Values"
   ]
  },
  {
   "cell_type": "code",
   "execution_count": 9,
   "id": "6e848761-2c08-46ee-a565-6cac0a0a368c",
   "metadata": {},
   "outputs": [
    {
     "data": {
      "text/plain": [
       "id                      False\n",
       "title                   False\n",
       "keywords                False\n",
       "genres                  False\n",
       "overview                 True\n",
       "production_companies    False\n",
       "movie_id                False\n",
       "cast                    False\n",
       "crew                    False\n",
       "dtype: bool"
      ]
     },
     "execution_count": 9,
     "metadata": {},
     "output_type": "execute_result"
    }
   ],
   "source": [
    "movies.isnull().any()"
   ]
  },
  {
   "cell_type": "code",
   "execution_count": 10,
   "id": "723206ff-7d5b-4bd7-bb7f-d9839a87cc57",
   "metadata": {},
   "outputs": [
    {
     "data": {
      "text/plain": [
       "id                      0\n",
       "title                   0\n",
       "keywords                0\n",
       "genres                  0\n",
       "overview                3\n",
       "production_companies    0\n",
       "movie_id                0\n",
       "cast                    0\n",
       "crew                    0\n",
       "dtype: int64"
      ]
     },
     "execution_count": 10,
     "metadata": {},
     "output_type": "execute_result"
    }
   ],
   "source": [
    "movies.isnull().sum()"
   ]
  },
  {
   "cell_type": "code",
   "execution_count": 11,
   "id": "010da108-326e-4ade-9f40-9326ebceda23",
   "metadata": {},
   "outputs": [],
   "source": [
    "movies.dropna(axis=0, inplace=True)\n",
    "movies.reset_index(drop=True, inplace=True)"
   ]
  },
  {
   "cell_type": "code",
   "execution_count": 12,
   "id": "8f62dbef-2135-4ae5-9a1b-ade659e7c800",
   "metadata": {},
   "outputs": [
    {
     "data": {
      "text/plain": [
       "(4806, 9)"
      ]
     },
     "execution_count": 12,
     "metadata": {},
     "output_type": "execute_result"
    }
   ],
   "source": [
    "movies.shape"
   ]
  },
  {
   "cell_type": "markdown",
   "id": "055f62ec-3121-495a-9596-bd262f46d79f",
   "metadata": {},
   "source": [
    "## Check for Duplicates"
   ]
  },
  {
   "cell_type": "code",
   "execution_count": 13,
   "id": "b734d7a9-4fc4-486a-b012-9e95e0d36111",
   "metadata": {},
   "outputs": [
    {
     "data": {
      "text/plain": [
       "0"
      ]
     },
     "execution_count": 13,
     "metadata": {},
     "output_type": "execute_result"
    }
   ],
   "source": [
    "movies.duplicated().sum()"
   ]
  },
  {
   "cell_type": "markdown",
   "id": "0fbda37c-c071-498b-ac95-1b049211bddb",
   "metadata": {},
   "source": [
    "## Feature Engineering"
   ]
  },
  {
   "cell_type": "code",
   "execution_count": 14,
   "id": "f2fe9fb7-a819-48e8-abc4-4444c081f0d7",
   "metadata": {},
   "outputs": [
    {
     "data": {
      "text/html": [
       "<div>\n",
       "<style scoped>\n",
       "    .dataframe tbody tr th:only-of-type {\n",
       "        vertical-align: middle;\n",
       "    }\n",
       "\n",
       "    .dataframe tbody tr th {\n",
       "        vertical-align: top;\n",
       "    }\n",
       "\n",
       "    .dataframe thead th {\n",
       "        text-align: right;\n",
       "    }\n",
       "</style>\n",
       "<table border=\"1\" class=\"dataframe\">\n",
       "  <thead>\n",
       "    <tr style=\"text-align: right;\">\n",
       "      <th></th>\n",
       "      <th>id</th>\n",
       "      <th>title</th>\n",
       "      <th>keywords</th>\n",
       "      <th>genres</th>\n",
       "      <th>overview</th>\n",
       "      <th>production_companies</th>\n",
       "      <th>movie_id</th>\n",
       "      <th>cast</th>\n",
       "      <th>crew</th>\n",
       "    </tr>\n",
       "  </thead>\n",
       "  <tbody>\n",
       "    <tr>\n",
       "      <th>0</th>\n",
       "      <td>19995</td>\n",
       "      <td>Avatar</td>\n",
       "      <td>[{\"id\": 1463, \"name\": \"culture clash\"}, {\"id\":...</td>\n",
       "      <td>[{\"id\": 28, \"name\": \"Action\"}, {\"id\": 12, \"nam...</td>\n",
       "      <td>In the 22nd century, a paraplegic Marine is di...</td>\n",
       "      <td>[{\"name\": \"Ingenious Film Partners\", \"id\": 289...</td>\n",
       "      <td>19995</td>\n",
       "      <td>[{\"cast_id\": 242, \"character\": \"Jake Sully\", \"...</td>\n",
       "      <td>[{\"credit_id\": \"52fe48009251416c750aca23\", \"de...</td>\n",
       "    </tr>\n",
       "    <tr>\n",
       "      <th>1</th>\n",
       "      <td>285</td>\n",
       "      <td>Pirates of the Caribbean: At World's End</td>\n",
       "      <td>[{\"id\": 270, \"name\": \"ocean\"}, {\"id\": 726, \"na...</td>\n",
       "      <td>[{\"id\": 12, \"name\": \"Adventure\"}, {\"id\": 14, \"...</td>\n",
       "      <td>Captain Barbossa, long believed to be dead, ha...</td>\n",
       "      <td>[{\"name\": \"Walt Disney Pictures\", \"id\": 2}, {\"...</td>\n",
       "      <td>285</td>\n",
       "      <td>[{\"cast_id\": 4, \"character\": \"Captain Jack Spa...</td>\n",
       "      <td>[{\"credit_id\": \"52fe4232c3a36847f800b579\", \"de...</td>\n",
       "    </tr>\n",
       "  </tbody>\n",
       "</table>\n",
       "</div>"
      ],
      "text/plain": [
       "      id                                     title  \\\n",
       "0  19995                                    Avatar   \n",
       "1    285  Pirates of the Caribbean: At World's End   \n",
       "\n",
       "                                            keywords  \\\n",
       "0  [{\"id\": 1463, \"name\": \"culture clash\"}, {\"id\":...   \n",
       "1  [{\"id\": 270, \"name\": \"ocean\"}, {\"id\": 726, \"na...   \n",
       "\n",
       "                                              genres  \\\n",
       "0  [{\"id\": 28, \"name\": \"Action\"}, {\"id\": 12, \"nam...   \n",
       "1  [{\"id\": 12, \"name\": \"Adventure\"}, {\"id\": 14, \"...   \n",
       "\n",
       "                                            overview  \\\n",
       "0  In the 22nd century, a paraplegic Marine is di...   \n",
       "1  Captain Barbossa, long believed to be dead, ha...   \n",
       "\n",
       "                                production_companies  movie_id  \\\n",
       "0  [{\"name\": \"Ingenious Film Partners\", \"id\": 289...     19995   \n",
       "1  [{\"name\": \"Walt Disney Pictures\", \"id\": 2}, {\"...       285   \n",
       "\n",
       "                                                cast  \\\n",
       "0  [{\"cast_id\": 242, \"character\": \"Jake Sully\", \"...   \n",
       "1  [{\"cast_id\": 4, \"character\": \"Captain Jack Spa...   \n",
       "\n",
       "                                                crew  \n",
       "0  [{\"credit_id\": \"52fe48009251416c750aca23\", \"de...  \n",
       "1  [{\"credit_id\": \"52fe4232c3a36847f800b579\", \"de...  "
      ]
     },
     "execution_count": 14,
     "metadata": {},
     "output_type": "execute_result"
    }
   ],
   "source": [
    "movies.head(2)"
   ]
  },
  {
   "cell_type": "code",
   "execution_count": 15,
   "id": "10d003fb-ab29-4b90-9c3e-f58642b615fa",
   "metadata": {},
   "outputs": [
    {
     "data": {
      "text/plain": [
       "'[{\"id\": 1463, \"name\": \"culture clash\"}, {\"id\": 2964, \"name\": \"future\"}, {\"id\": 3386, \"name\": \"space war\"}, {\"id\": 3388, \"name\": \"space colony\"}, {\"id\": 3679, \"name\": \"society\"}, {\"id\": 3801, \"name\": \"space travel\"}, {\"id\": 9685, \"name\": \"futuristic\"}, {\"id\": 9840, \"name\": \"romance\"}, {\"id\": 9882, \"name\": \"space\"}, {\"id\": 9951, \"name\": \"alien\"}, {\"id\": 10148, \"name\": \"tribe\"}, {\"id\": 10158, \"name\": \"alien planet\"}, {\"id\": 10987, \"name\": \"cgi\"}, {\"id\": 11399, \"name\": \"marine\"}, {\"id\": 13065, \"name\": \"soldier\"}, {\"id\": 14643, \"name\": \"battle\"}, {\"id\": 14720, \"name\": \"love affair\"}, {\"id\": 165431, \"name\": \"anti war\"}, {\"id\": 193554, \"name\": \"power relations\"}, {\"id\": 206690, \"name\": \"mind and soul\"}, {\"id\": 209714, \"name\": \"3d\"}]'"
      ]
     },
     "execution_count": 15,
     "metadata": {},
     "output_type": "execute_result"
    }
   ],
   "source": [
    "movies['keywords'].iloc[0]"
   ]
  },
  {
   "cell_type": "code",
   "execution_count": 16,
   "id": "41006f2a-d3c8-4aa4-a96c-be9041e3f2c6",
   "metadata": {},
   "outputs": [
    {
     "name": "stdout",
     "output_type": "stream",
     "text": [
      "[{'id': 1463, 'name': 'culture clash'}, {'id': 2964, 'name': 'future'}, {'id': 3386, 'name': 'space war'}, {'id': 3388, 'name': 'space colony'}, {'id': 3679, 'name': 'society'}, {'id': 3801, 'name': 'space travel'}, {'id': 9685, 'name': 'futuristic'}, {'id': 9840, 'name': 'romance'}, {'id': 9882, 'name': 'space'}, {'id': 9951, 'name': 'alien'}, {'id': 10148, 'name': 'tribe'}, {'id': 10158, 'name': 'alien planet'}, {'id': 10987, 'name': 'cgi'}, {'id': 11399, 'name': 'marine'}, {'id': 13065, 'name': 'soldier'}, {'id': 14643, 'name': 'battle'}, {'id': 14720, 'name': 'love affair'}, {'id': 165431, 'name': 'anti war'}, {'id': 193554, 'name': 'power relations'}, {'id': 206690, 'name': 'mind and soul'}, {'id': 209714, 'name': '3d'}]\n"
     ]
    }
   ],
   "source": [
    "import json\n",
    "\n",
    "# Convert JSON string to Python list\n",
    "keywords = json.loads(movies['keywords'].iloc[0])\n",
    "\n",
    "# Print the resulting list\n",
    "print(keywords)"
   ]
  },
  {
   "cell_type": "code",
   "execution_count": 17,
   "id": "6a43c82c-ed96-4b48-b785-6dabab2c4039",
   "metadata": {},
   "outputs": [
    {
     "data": {
      "text/plain": [
       "'culture clash'"
      ]
     },
     "execution_count": 17,
     "metadata": {},
     "output_type": "execute_result"
    }
   ],
   "source": [
    "l=[]\n",
    "keywords[0]['name']"
   ]
  },
  {
   "cell_type": "code",
   "execution_count": 18,
   "id": "98979c14-1c4a-42a8-9cc6-978f0953ab11",
   "metadata": {},
   "outputs": [
    {
     "data": {
      "text/plain": [
       "'cultureclash'"
      ]
     },
     "execution_count": 18,
     "metadata": {},
     "output_type": "execute_result"
    }
   ],
   "source": [
    "keywords[0]['name'].replace(\" \",\"\")"
   ]
  },
  {
   "cell_type": "code",
   "execution_count": 19,
   "id": "659021f5-8d88-470a-aa21-b2ae1501a388",
   "metadata": {},
   "outputs": [],
   "source": [
    "def convert(text):\n",
    "    L=[]\n",
    "    data=json.loads(text)\n",
    "    for i in range(len(data)):\n",
    "        L.append(data[i]['name'].replace(\" \",\"\").lower())\n",
    "    return L    "
   ]
  },
  {
   "cell_type": "code",
   "execution_count": 20,
   "id": "fb8edf16-d736-4bba-8f88-2ec4f80c69c0",
   "metadata": {},
   "outputs": [
    {
     "data": {
      "text/html": [
       "<div>\n",
       "<style scoped>\n",
       "    .dataframe tbody tr th:only-of-type {\n",
       "        vertical-align: middle;\n",
       "    }\n",
       "\n",
       "    .dataframe tbody tr th {\n",
       "        vertical-align: top;\n",
       "    }\n",
       "\n",
       "    .dataframe thead th {\n",
       "        text-align: right;\n",
       "    }\n",
       "</style>\n",
       "<table border=\"1\" class=\"dataframe\">\n",
       "  <thead>\n",
       "    <tr style=\"text-align: right;\">\n",
       "      <th></th>\n",
       "      <th>id</th>\n",
       "      <th>title</th>\n",
       "      <th>keywords</th>\n",
       "      <th>genres</th>\n",
       "      <th>overview</th>\n",
       "      <th>production_companies</th>\n",
       "      <th>movie_id</th>\n",
       "      <th>cast</th>\n",
       "      <th>crew</th>\n",
       "    </tr>\n",
       "  </thead>\n",
       "  <tbody>\n",
       "    <tr>\n",
       "      <th>0</th>\n",
       "      <td>19995</td>\n",
       "      <td>Avatar</td>\n",
       "      <td>[cultureclash, future, spacewar, spacecolony, ...</td>\n",
       "      <td>[{\"id\": 28, \"name\": \"Action\"}, {\"id\": 12, \"nam...</td>\n",
       "      <td>In the 22nd century, a paraplegic Marine is di...</td>\n",
       "      <td>[{\"name\": \"Ingenious Film Partners\", \"id\": 289...</td>\n",
       "      <td>19995</td>\n",
       "      <td>[{\"cast_id\": 242, \"character\": \"Jake Sully\", \"...</td>\n",
       "      <td>[{\"credit_id\": \"52fe48009251416c750aca23\", \"de...</td>\n",
       "    </tr>\n",
       "    <tr>\n",
       "      <th>1</th>\n",
       "      <td>285</td>\n",
       "      <td>Pirates of the Caribbean: At World's End</td>\n",
       "      <td>[ocean, drugabuse, exoticisland, eastindiatrad...</td>\n",
       "      <td>[{\"id\": 12, \"name\": \"Adventure\"}, {\"id\": 14, \"...</td>\n",
       "      <td>Captain Barbossa, long believed to be dead, ha...</td>\n",
       "      <td>[{\"name\": \"Walt Disney Pictures\", \"id\": 2}, {\"...</td>\n",
       "      <td>285</td>\n",
       "      <td>[{\"cast_id\": 4, \"character\": \"Captain Jack Spa...</td>\n",
       "      <td>[{\"credit_id\": \"52fe4232c3a36847f800b579\", \"de...</td>\n",
       "    </tr>\n",
       "  </tbody>\n",
       "</table>\n",
       "</div>"
      ],
      "text/plain": [
       "      id                                     title  \\\n",
       "0  19995                                    Avatar   \n",
       "1    285  Pirates of the Caribbean: At World's End   \n",
       "\n",
       "                                            keywords  \\\n",
       "0  [cultureclash, future, spacewar, spacecolony, ...   \n",
       "1  [ocean, drugabuse, exoticisland, eastindiatrad...   \n",
       "\n",
       "                                              genres  \\\n",
       "0  [{\"id\": 28, \"name\": \"Action\"}, {\"id\": 12, \"nam...   \n",
       "1  [{\"id\": 12, \"name\": \"Adventure\"}, {\"id\": 14, \"...   \n",
       "\n",
       "                                            overview  \\\n",
       "0  In the 22nd century, a paraplegic Marine is di...   \n",
       "1  Captain Barbossa, long believed to be dead, ha...   \n",
       "\n",
       "                                production_companies  movie_id  \\\n",
       "0  [{\"name\": \"Ingenious Film Partners\", \"id\": 289...     19995   \n",
       "1  [{\"name\": \"Walt Disney Pictures\", \"id\": 2}, {\"...       285   \n",
       "\n",
       "                                                cast  \\\n",
       "0  [{\"cast_id\": 242, \"character\": \"Jake Sully\", \"...   \n",
       "1  [{\"cast_id\": 4, \"character\": \"Captain Jack Spa...   \n",
       "\n",
       "                                                crew  \n",
       "0  [{\"credit_id\": \"52fe48009251416c750aca23\", \"de...  \n",
       "1  [{\"credit_id\": \"52fe4232c3a36847f800b579\", \"de...  "
      ]
     },
     "execution_count": 20,
     "metadata": {},
     "output_type": "execute_result"
    }
   ],
   "source": [
    "# Each Cell Data are one by one tranfar to the Function\n",
    "movies['keywords'] = movies['keywords'].apply(convert)\n",
    "movies.head(2)"
   ]
  },
  {
   "cell_type": "code",
   "execution_count": 21,
   "id": "1c0dbfe9-2b1f-4431-a252-595f9e7c6873",
   "metadata": {},
   "outputs": [
    {
     "data": {
      "text/plain": [
       "'[{\"id\": 28, \"name\": \"Action\"}, {\"id\": 12, \"name\": \"Adventure\"}, {\"id\": 14, \"name\": \"Fantasy\"}, {\"id\": 878, \"name\": \"Science Fiction\"}]'"
      ]
     },
     "execution_count": 21,
     "metadata": {},
     "output_type": "execute_result"
    }
   ],
   "source": [
    "movies['genres'].iloc[0]"
   ]
  },
  {
   "cell_type": "code",
   "execution_count": 22,
   "id": "cd7cf730-a135-458c-977f-54b2bf48b559",
   "metadata": {},
   "outputs": [
    {
     "data": {
      "text/html": [
       "<div>\n",
       "<style scoped>\n",
       "    .dataframe tbody tr th:only-of-type {\n",
       "        vertical-align: middle;\n",
       "    }\n",
       "\n",
       "    .dataframe tbody tr th {\n",
       "        vertical-align: top;\n",
       "    }\n",
       "\n",
       "    .dataframe thead th {\n",
       "        text-align: right;\n",
       "    }\n",
       "</style>\n",
       "<table border=\"1\" class=\"dataframe\">\n",
       "  <thead>\n",
       "    <tr style=\"text-align: right;\">\n",
       "      <th></th>\n",
       "      <th>id</th>\n",
       "      <th>title</th>\n",
       "      <th>keywords</th>\n",
       "      <th>genres</th>\n",
       "      <th>overview</th>\n",
       "      <th>production_companies</th>\n",
       "      <th>movie_id</th>\n",
       "      <th>cast</th>\n",
       "      <th>crew</th>\n",
       "    </tr>\n",
       "  </thead>\n",
       "  <tbody>\n",
       "    <tr>\n",
       "      <th>0</th>\n",
       "      <td>19995</td>\n",
       "      <td>Avatar</td>\n",
       "      <td>[cultureclash, future, spacewar, spacecolony, ...</td>\n",
       "      <td>[action, adventure, fantasy, sciencefiction]</td>\n",
       "      <td>In the 22nd century, a paraplegic Marine is di...</td>\n",
       "      <td>[{\"name\": \"Ingenious Film Partners\", \"id\": 289...</td>\n",
       "      <td>19995</td>\n",
       "      <td>[{\"cast_id\": 242, \"character\": \"Jake Sully\", \"...</td>\n",
       "      <td>[{\"credit_id\": \"52fe48009251416c750aca23\", \"de...</td>\n",
       "    </tr>\n",
       "    <tr>\n",
       "      <th>1</th>\n",
       "      <td>285</td>\n",
       "      <td>Pirates of the Caribbean: At World's End</td>\n",
       "      <td>[ocean, drugabuse, exoticisland, eastindiatrad...</td>\n",
       "      <td>[adventure, fantasy, action]</td>\n",
       "      <td>Captain Barbossa, long believed to be dead, ha...</td>\n",
       "      <td>[{\"name\": \"Walt Disney Pictures\", \"id\": 2}, {\"...</td>\n",
       "      <td>285</td>\n",
       "      <td>[{\"cast_id\": 4, \"character\": \"Captain Jack Spa...</td>\n",
       "      <td>[{\"credit_id\": \"52fe4232c3a36847f800b579\", \"de...</td>\n",
       "    </tr>\n",
       "  </tbody>\n",
       "</table>\n",
       "</div>"
      ],
      "text/plain": [
       "      id                                     title  \\\n",
       "0  19995                                    Avatar   \n",
       "1    285  Pirates of the Caribbean: At World's End   \n",
       "\n",
       "                                            keywords  \\\n",
       "0  [cultureclash, future, spacewar, spacecolony, ...   \n",
       "1  [ocean, drugabuse, exoticisland, eastindiatrad...   \n",
       "\n",
       "                                         genres  \\\n",
       "0  [action, adventure, fantasy, sciencefiction]   \n",
       "1                  [adventure, fantasy, action]   \n",
       "\n",
       "                                            overview  \\\n",
       "0  In the 22nd century, a paraplegic Marine is di...   \n",
       "1  Captain Barbossa, long believed to be dead, ha...   \n",
       "\n",
       "                                production_companies  movie_id  \\\n",
       "0  [{\"name\": \"Ingenious Film Partners\", \"id\": 289...     19995   \n",
       "1  [{\"name\": \"Walt Disney Pictures\", \"id\": 2}, {\"...       285   \n",
       "\n",
       "                                                cast  \\\n",
       "0  [{\"cast_id\": 242, \"character\": \"Jake Sully\", \"...   \n",
       "1  [{\"cast_id\": 4, \"character\": \"Captain Jack Spa...   \n",
       "\n",
       "                                                crew  \n",
       "0  [{\"credit_id\": \"52fe48009251416c750aca23\", \"de...  \n",
       "1  [{\"credit_id\": \"52fe4232c3a36847f800b579\", \"de...  "
      ]
     },
     "execution_count": 22,
     "metadata": {},
     "output_type": "execute_result"
    }
   ],
   "source": [
    "movies['genres'] = movies['genres'].apply(convert)\n",
    "movies.head(2)"
   ]
  },
  {
   "cell_type": "code",
   "execution_count": 23,
   "id": "3995d7d2-75a7-4de0-92e7-dfb587ba4761",
   "metadata": {},
   "outputs": [
    {
     "data": {
      "text/plain": [
       "'[{\"cast_id\": 242, \"character\": \"Jake Sully\", \"credit_id\": \"5602a8a7c3a3685532001c9a\", \"gender\": 2, \"id\": 65731, \"name\": \"Sam Worthington\", \"order\": 0}, {\"cast_id\": 3, \"character\": \"Neytiri\", \"credit_id\": \"52fe48009251416c750ac9cb\", \"gender\": 1, \"id\": 8691, \"name\": \"Zoe Saldana\", \"order\": 1}, {\"cast_id\": 25, \"character\": \"Dr. Grace Augustine\", \"credit_id\": \"52fe48009251416c750aca39\", \"gender\": 1, \"id\": 10205, \"name\": \"Sigourney Weaver\", \"order\": 2}, {\"cast_id\": 4, \"character\": \"Col. Quaritch\", \"credit_id\": \"52fe48009251416c750ac9cf\", \"gender\": 2, \"id\": 32747, \"name\": \"Stephen Lang\", \"order\": 3}, {\"cast_id\": 5, \"character\": \"Trudy Chacon\", \"credit_id\": \"52fe48009251416c750ac9d3\", \"gender\": 1, \"id\": 17647, \"name\": \"Michelle Rodriguez\", \"order\": 4}, {\"cast_id\": 8, \"character\": \"Selfridge\", \"credit_id\": \"52fe48009251416c750ac9e1\", \"gender\": 2, \"id\": 1771, \"name\": \"Giovanni Ribisi\", \"order\": 5}, {\"cast_id\": 7, \"character\": \"Norm Spellman\", \"credit_id\": \"52fe48009251416c750ac9dd\", \"gender\": 2, \"id\": 59231, \"name\": \"Joel David Moore\", \"order\": 6}, {\"cast_id\": 9, \"character\": \"Moat\", \"credit_id\": \"52fe48009251416c750ac9e5\", \"gender\": 1, \"id\": 30485, \"name\": \"CCH Pounder\", \"order\": 7}, {\"cast_id\": 11, \"character\": \"Eytukan\", \"credit_id\": \"52fe48009251416c750ac9ed\", \"gender\": 2, \"id\": 15853, \"name\": \"Wes Studi\", \"order\": 8}, {\"cast_id\": 10, \"character\": \"Tsu\\'Tey\", \"credit_id\": \"52fe48009251416c750ac9e9\", \"gender\": 2, \"id\": 10964, \"name\": \"Laz Alonso\", \"order\": 9}, {\"cast_id\": 12, \"character\": \"Dr. Max Patel\", \"credit_id\": \"52fe48009251416c750ac9f1\", \"gender\": 2, \"id\": 95697, \"name\": \"Dileep Rao\", \"order\": 10}, {\"cast_id\": 13, \"character\": \"Lyle Wainfleet\", \"credit_id\": \"52fe48009251416c750ac9f5\", \"gender\": 2, \"id\": 98215, \"name\": \"Matt Gerald\", \"order\": 11}, {\"cast_id\": 32, \"character\": \"Private Fike\", \"credit_id\": \"52fe48009251416c750aca5b\", \"gender\": 2, \"id\": 154153, \"name\": \"Sean Anthony Moran\", \"order\": 12}, {\"cast_id\": 33, \"character\": \"Cryo Vault Med Tech\", \"credit_id\": \"52fe48009251416c750aca5f\", \"gender\": 2, \"id\": 397312, \"name\": \"Jason Whyte\", \"order\": 13}, {\"cast_id\": 34, \"character\": \"Venture Star Crew Chief\", \"credit_id\": \"52fe48009251416c750aca63\", \"gender\": 2, \"id\": 42317, \"name\": \"Scott Lawrence\", \"order\": 14}, {\"cast_id\": 35, \"character\": \"Lock Up Trooper\", \"credit_id\": \"52fe48009251416c750aca67\", \"gender\": 2, \"id\": 986734, \"name\": \"Kelly Kilgour\", \"order\": 15}, {\"cast_id\": 36, \"character\": \"Shuttle Pilot\", \"credit_id\": \"52fe48009251416c750aca6b\", \"gender\": 0, \"id\": 1207227, \"name\": \"James Patrick Pitt\", \"order\": 16}, {\"cast_id\": 37, \"character\": \"Shuttle Co-Pilot\", \"credit_id\": \"52fe48009251416c750aca6f\", \"gender\": 0, \"id\": 1180936, \"name\": \"Sean Patrick Murphy\", \"order\": 17}, {\"cast_id\": 38, \"character\": \"Shuttle Crew Chief\", \"credit_id\": \"52fe48009251416c750aca73\", \"gender\": 2, \"id\": 1019578, \"name\": \"Peter Dillon\", \"order\": 18}, {\"cast_id\": 39, \"character\": \"Tractor Operator / Troupe\", \"credit_id\": \"52fe48009251416c750aca77\", \"gender\": 0, \"id\": 91443, \"name\": \"Kevin Dorman\", \"order\": 19}, {\"cast_id\": 40, \"character\": \"Dragon Gunship Pilot\", \"credit_id\": \"52fe48009251416c750aca7b\", \"gender\": 2, \"id\": 173391, \"name\": \"Kelson Henderson\", \"order\": 20}, {\"cast_id\": 41, \"character\": \"Dragon Gunship Gunner\", \"credit_id\": \"52fe48009251416c750aca7f\", \"gender\": 0, \"id\": 1207236, \"name\": \"David Van Horn\", \"order\": 21}, {\"cast_id\": 42, \"character\": \"Dragon Gunship Navigator\", \"credit_id\": \"52fe48009251416c750aca83\", \"gender\": 0, \"id\": 215913, \"name\": \"Jacob Tomuri\", \"order\": 22}, {\"cast_id\": 43, \"character\": \"Suit #1\", \"credit_id\": \"52fe48009251416c750aca87\", \"gender\": 0, \"id\": 143206, \"name\": \"Michael Blain-Rozgay\", \"order\": 23}, {\"cast_id\": 44, \"character\": \"Suit #2\", \"credit_id\": \"52fe48009251416c750aca8b\", \"gender\": 2, \"id\": 169676, \"name\": \"Jon Curry\", \"order\": 24}, {\"cast_id\": 46, \"character\": \"Ambient Room Tech\", \"credit_id\": \"52fe48009251416c750aca8f\", \"gender\": 0, \"id\": 1048610, \"name\": \"Luke Hawker\", \"order\": 25}, {\"cast_id\": 47, \"character\": \"Ambient Room Tech / Troupe\", \"credit_id\": \"52fe48009251416c750aca93\", \"gender\": 0, \"id\": 42288, \"name\": \"Woody Schultz\", \"order\": 26}, {\"cast_id\": 48, \"character\": \"Horse Clan Leader\", \"credit_id\": \"52fe48009251416c750aca97\", \"gender\": 2, \"id\": 68278, \"name\": \"Peter Mensah\", \"order\": 27}, {\"cast_id\": 49, \"character\": \"Link Room Tech\", \"credit_id\": \"52fe48009251416c750aca9b\", \"gender\": 0, \"id\": 1207247, \"name\": \"Sonia Yee\", \"order\": 28}, {\"cast_id\": 50, \"character\": \"Basketball Avatar / Troupe\", \"credit_id\": \"52fe48009251416c750aca9f\", \"gender\": 1, \"id\": 1207248, \"name\": \"Jahnel Curfman\", \"order\": 29}, {\"cast_id\": 51, \"character\": \"Basketball Avatar\", \"credit_id\": \"52fe48009251416c750acaa3\", \"gender\": 0, \"id\": 89714, \"name\": \"Ilram Choi\", \"order\": 30}, {\"cast_id\": 52, \"character\": \"Na\\'vi Child\", \"credit_id\": \"52fe48009251416c750acaa7\", \"gender\": 0, \"id\": 1207249, \"name\": \"Kyla Warren\", \"order\": 31}, {\"cast_id\": 53, \"character\": \"Troupe\", \"credit_id\": \"52fe48009251416c750acaab\", \"gender\": 0, \"id\": 1207250, \"name\": \"Lisa Roumain\", \"order\": 32}, {\"cast_id\": 54, \"character\": \"Troupe\", \"credit_id\": \"52fe48009251416c750acaaf\", \"gender\": 1, \"id\": 83105, \"name\": \"Debra Wilson\", \"order\": 33}, {\"cast_id\": 57, \"character\": \"Troupe\", \"credit_id\": \"52fe48009251416c750acabb\", \"gender\": 0, \"id\": 1207253, \"name\": \"Chris Mala\", \"order\": 34}, {\"cast_id\": 55, \"character\": \"Troupe\", \"credit_id\": \"52fe48009251416c750acab3\", \"gender\": 0, \"id\": 1207251, \"name\": \"Taylor Kibby\", \"order\": 35}, {\"cast_id\": 56, \"character\": \"Troupe\", \"credit_id\": \"52fe48009251416c750acab7\", \"gender\": 0, \"id\": 1207252, \"name\": \"Jodie Landau\", \"order\": 36}, {\"cast_id\": 58, \"character\": \"Troupe\", \"credit_id\": \"52fe48009251416c750acabf\", \"gender\": 0, \"id\": 1207254, \"name\": \"Julie Lamm\", \"order\": 37}, {\"cast_id\": 59, \"character\": \"Troupe\", \"credit_id\": \"52fe48009251416c750acac3\", \"gender\": 0, \"id\": 1207257, \"name\": \"Cullen B. Madden\", \"order\": 38}, {\"cast_id\": 60, \"character\": \"Troupe\", \"credit_id\": \"52fe48009251416c750acac7\", \"gender\": 0, \"id\": 1207259, \"name\": \"Joseph Brady Madden\", \"order\": 39}, {\"cast_id\": 61, \"character\": \"Troupe\", \"credit_id\": \"52fe48009251416c750acacb\", \"gender\": 0, \"id\": 1207262, \"name\": \"Frankie Torres\", \"order\": 40}, {\"cast_id\": 62, \"character\": \"Troupe\", \"credit_id\": \"52fe48009251416c750acacf\", \"gender\": 1, \"id\": 1158600, \"name\": \"Austin Wilson\", \"order\": 41}, {\"cast_id\": 63, \"character\": \"Troupe\", \"credit_id\": \"52fe48019251416c750acad3\", \"gender\": 1, \"id\": 983705, \"name\": \"Sara Wilson\", \"order\": 42}, {\"cast_id\": 64, \"character\": \"Troupe\", \"credit_id\": \"52fe48019251416c750acad7\", \"gender\": 0, \"id\": 1207263, \"name\": \"Tamica Washington-Miller\", \"order\": 43}, {\"cast_id\": 65, \"character\": \"Op Center Staff\", \"credit_id\": \"52fe48019251416c750acadb\", \"gender\": 1, \"id\": 1145098, \"name\": \"Lucy Briant\", \"order\": 44}, {\"cast_id\": 66, \"character\": \"Op Center Staff\", \"credit_id\": \"52fe48019251416c750acadf\", \"gender\": 2, \"id\": 33305, \"name\": \"Nathan Meister\", \"order\": 45}, {\"cast_id\": 67, \"character\": \"Op Center Staff\", \"credit_id\": \"52fe48019251416c750acae3\", \"gender\": 0, \"id\": 1207264, \"name\": \"Gerry Blair\", \"order\": 46}, {\"cast_id\": 68, \"character\": \"Op Center Staff\", \"credit_id\": \"52fe48019251416c750acae7\", \"gender\": 2, \"id\": 33311, \"name\": \"Matthew Chamberlain\", \"order\": 47}, {\"cast_id\": 69, \"character\": \"Op Center Staff\", \"credit_id\": \"52fe48019251416c750acaeb\", \"gender\": 0, \"id\": 1207265, \"name\": \"Paul Yates\", \"order\": 48}, {\"cast_id\": 70, \"character\": \"Op Center Duty Officer\", \"credit_id\": \"52fe48019251416c750acaef\", \"gender\": 0, \"id\": 1207266, \"name\": \"Wray Wilson\", \"order\": 49}, {\"cast_id\": 71, \"character\": \"Op Center Staff\", \"credit_id\": \"52fe48019251416c750acaf3\", \"gender\": 2, \"id\": 54492, \"name\": \"James Gaylyn\", \"order\": 50}, {\"cast_id\": 72, \"character\": \"Dancer\", \"credit_id\": \"52fe48019251416c750acaf7\", \"gender\": 0, \"id\": 1207267, \"name\": \"Melvin Leno Clark III\", \"order\": 51}, {\"cast_id\": 73, \"character\": \"Dancer\", \"credit_id\": \"52fe48019251416c750acafb\", \"gender\": 0, \"id\": 1207268, \"name\": \"Carvon Futrell\", \"order\": 52}, {\"cast_id\": 74, \"character\": \"Dancer\", \"credit_id\": \"52fe48019251416c750acaff\", \"gender\": 0, \"id\": 1207269, \"name\": \"Brandon Jelkes\", \"order\": 53}, {\"cast_id\": 75, \"character\": \"Dancer\", \"credit_id\": \"52fe48019251416c750acb03\", \"gender\": 0, \"id\": 1207270, \"name\": \"Micah Moch\", \"order\": 54}, {\"cast_id\": 76, \"character\": \"Dancer\", \"credit_id\": \"52fe48019251416c750acb07\", \"gender\": 0, \"id\": 1207271, \"name\": \"Hanniyah Muhammad\", \"order\": 55}, {\"cast_id\": 77, \"character\": \"Dancer\", \"credit_id\": \"52fe48019251416c750acb0b\", \"gender\": 0, \"id\": 1207272, \"name\": \"Christopher Nolen\", \"order\": 56}, {\"cast_id\": 78, \"character\": \"Dancer\", \"credit_id\": \"52fe48019251416c750acb0f\", \"gender\": 0, \"id\": 1207273, \"name\": \"Christa Oliver\", \"order\": 57}, {\"cast_id\": 79, \"character\": \"Dancer\", \"credit_id\": \"52fe48019251416c750acb13\", \"gender\": 0, \"id\": 1207274, \"name\": \"April Marie Thomas\", \"order\": 58}, {\"cast_id\": 80, \"character\": \"Dancer\", \"credit_id\": \"52fe48019251416c750acb17\", \"gender\": 0, \"id\": 1207275, \"name\": \"Bravita A. Threatt\", \"order\": 59}, {\"cast_id\": 81, \"character\": \"Mining Chief (uncredited)\", \"credit_id\": \"52fe48019251416c750acb1b\", \"gender\": 0, \"id\": 1207276, \"name\": \"Colin Bleasdale\", \"order\": 60}, {\"cast_id\": 82, \"character\": \"Veteran Miner (uncredited)\", \"credit_id\": \"52fe48019251416c750acb1f\", \"gender\": 0, \"id\": 107969, \"name\": \"Mike Bodnar\", \"order\": 61}, {\"cast_id\": 83, \"character\": \"Richard (uncredited)\", \"credit_id\": \"52fe48019251416c750acb23\", \"gender\": 0, \"id\": 1207278, \"name\": \"Matt Clayton\", \"order\": 62}, {\"cast_id\": 84, \"character\": \"Nav\\'i (uncredited)\", \"credit_id\": \"52fe48019251416c750acb27\", \"gender\": 1, \"id\": 147898, \"name\": \"Nicole Dionne\", \"order\": 63}, {\"cast_id\": 85, \"character\": \"Trooper (uncredited)\", \"credit_id\": \"52fe48019251416c750acb2b\", \"gender\": 0, \"id\": 1207280, \"name\": \"Jamie Harrison\", \"order\": 64}, {\"cast_id\": 86, \"character\": \"Trooper (uncredited)\", \"credit_id\": \"52fe48019251416c750acb2f\", \"gender\": 0, \"id\": 1207281, \"name\": \"Allan Henry\", \"order\": 65}, {\"cast_id\": 87, \"character\": \"Ground Technician (uncredited)\", \"credit_id\": \"52fe48019251416c750acb33\", \"gender\": 2, \"id\": 1207282, \"name\": \"Anthony Ingruber\", \"order\": 66}, {\"cast_id\": 88, \"character\": \"Flight Crew Mechanic (uncredited)\", \"credit_id\": \"52fe48019251416c750acb37\", \"gender\": 0, \"id\": 1207283, \"name\": \"Ashley Jeffery\", \"order\": 67}, {\"cast_id\": 14, \"character\": \"Samson Pilot\", \"credit_id\": \"52fe48009251416c750ac9f9\", \"gender\": 0, \"id\": 98216, \"name\": \"Dean Knowsley\", \"order\": 68}, {\"cast_id\": 89, \"character\": \"Trooper (uncredited)\", \"credit_id\": \"52fe48019251416c750acb3b\", \"gender\": 0, \"id\": 1201399, \"name\": \"Joseph Mika-Hunt\", \"order\": 69}, {\"cast_id\": 90, \"character\": \"Banshee (uncredited)\", \"credit_id\": \"52fe48019251416c750acb3f\", \"gender\": 0, \"id\": 236696, \"name\": \"Terry Notary\", \"order\": 70}, {\"cast_id\": 91, \"character\": \"Soldier (uncredited)\", \"credit_id\": \"52fe48019251416c750acb43\", \"gender\": 0, \"id\": 1207287, \"name\": \"Kai Pantano\", \"order\": 71}, {\"cast_id\": 92, \"character\": \"Blast Technician (uncredited)\", \"credit_id\": \"52fe48019251416c750acb47\", \"gender\": 0, \"id\": 1207288, \"name\": \"Logan Pithyou\", \"order\": 72}, {\"cast_id\": 93, \"character\": \"Vindum Raah (uncredited)\", \"credit_id\": \"52fe48019251416c750acb4b\", \"gender\": 0, \"id\": 1207289, \"name\": \"Stuart Pollock\", \"order\": 73}, {\"cast_id\": 94, \"character\": \"Hero (uncredited)\", \"credit_id\": \"52fe48019251416c750acb4f\", \"gender\": 0, \"id\": 584868, \"name\": \"Raja\", \"order\": 74}, {\"cast_id\": 95, \"character\": \"Ops Centreworker (uncredited)\", \"credit_id\": \"52fe48019251416c750acb53\", \"gender\": 0, \"id\": 1207290, \"name\": \"Gareth Ruck\", \"order\": 75}, {\"cast_id\": 96, \"character\": \"Engineer (uncredited)\", \"credit_id\": \"52fe48019251416c750acb57\", \"gender\": 0, \"id\": 1062463, \"name\": \"Rhian Sheehan\", \"order\": 76}, {\"cast_id\": 97, \"character\": \"Col. Quaritch\\'s Mech Suit (uncredited)\", \"credit_id\": \"52fe48019251416c750acb5b\", \"gender\": 0, \"id\": 60656, \"name\": \"T. J. Storm\", \"order\": 77}, {\"cast_id\": 98, \"character\": \"Female Marine (uncredited)\", \"credit_id\": \"52fe48019251416c750acb5f\", \"gender\": 0, \"id\": 1207291, \"name\": \"Jodie Taylor\", \"order\": 78}, {\"cast_id\": 99, \"character\": \"Ikran Clan Leader (uncredited)\", \"credit_id\": \"52fe48019251416c750acb63\", \"gender\": 1, \"id\": 1186027, \"name\": \"Alicia Vela-Bailey\", \"order\": 79}, {\"cast_id\": 100, \"character\": \"Geologist (uncredited)\", \"credit_id\": \"52fe48019251416c750acb67\", \"gender\": 0, \"id\": 1207292, \"name\": \"Richard Whiteside\", \"order\": 80}, {\"cast_id\": 101, \"character\": \"Na\\'vi (uncredited)\", \"credit_id\": \"52fe48019251416c750acb6b\", \"gender\": 0, \"id\": 103259, \"name\": \"Nikie Zambo\", \"order\": 81}, {\"cast_id\": 102, \"character\": \"Ambient Room Tech / Troupe\", \"credit_id\": \"52fe48019251416c750acb6f\", \"gender\": 1, \"id\": 42286, \"name\": \"Julene Renee\", \"order\": 82}]'"
      ]
     },
     "execution_count": 23,
     "metadata": {},
     "output_type": "execute_result"
    }
   ],
   "source": [
    "movies['cast'].iloc[0]"
   ]
  },
  {
   "cell_type": "markdown",
   "id": "14f6eb20-772c-420f-832c-10b00546d762",
   "metadata": {},
   "source": [
    "## From \"cast\" we will take first 4 Actors"
   ]
  },
  {
   "cell_type": "code",
   "execution_count": 24,
   "id": "98a783b4-7fd0-476d-8851-458f1fb639ce",
   "metadata": {},
   "outputs": [],
   "source": [
    "def cast_convert(text):\n",
    "    L=[]\n",
    "    count=0\n",
    "    data=json.loads(text)\n",
    "    for i in range(len(data)):\n",
    "        if count==4:\n",
    "            break\n",
    "        L.append(data[i]['name'].replace(\" \",\"\").lower())\n",
    "        count=count+1;\n",
    "    return L "
   ]
  },
  {
   "cell_type": "code",
   "execution_count": 25,
   "id": "c3746d63-ddb2-4f7e-b0ff-a424076176b5",
   "metadata": {},
   "outputs": [
    {
     "data": {
      "text/html": [
       "<div>\n",
       "<style scoped>\n",
       "    .dataframe tbody tr th:only-of-type {\n",
       "        vertical-align: middle;\n",
       "    }\n",
       "\n",
       "    .dataframe tbody tr th {\n",
       "        vertical-align: top;\n",
       "    }\n",
       "\n",
       "    .dataframe thead th {\n",
       "        text-align: right;\n",
       "    }\n",
       "</style>\n",
       "<table border=\"1\" class=\"dataframe\">\n",
       "  <thead>\n",
       "    <tr style=\"text-align: right;\">\n",
       "      <th></th>\n",
       "      <th>id</th>\n",
       "      <th>title</th>\n",
       "      <th>keywords</th>\n",
       "      <th>genres</th>\n",
       "      <th>overview</th>\n",
       "      <th>production_companies</th>\n",
       "      <th>movie_id</th>\n",
       "      <th>cast</th>\n",
       "      <th>crew</th>\n",
       "    </tr>\n",
       "  </thead>\n",
       "  <tbody>\n",
       "    <tr>\n",
       "      <th>0</th>\n",
       "      <td>19995</td>\n",
       "      <td>Avatar</td>\n",
       "      <td>[cultureclash, future, spacewar, spacecolony, ...</td>\n",
       "      <td>[action, adventure, fantasy, sciencefiction]</td>\n",
       "      <td>In the 22nd century, a paraplegic Marine is di...</td>\n",
       "      <td>[{\"name\": \"Ingenious Film Partners\", \"id\": 289...</td>\n",
       "      <td>19995</td>\n",
       "      <td>[samworthington, zoesaldana, sigourneyweaver, ...</td>\n",
       "      <td>[{\"credit_id\": \"52fe48009251416c750aca23\", \"de...</td>\n",
       "    </tr>\n",
       "    <tr>\n",
       "      <th>1</th>\n",
       "      <td>285</td>\n",
       "      <td>Pirates of the Caribbean: At World's End</td>\n",
       "      <td>[ocean, drugabuse, exoticisland, eastindiatrad...</td>\n",
       "      <td>[adventure, fantasy, action]</td>\n",
       "      <td>Captain Barbossa, long believed to be dead, ha...</td>\n",
       "      <td>[{\"name\": \"Walt Disney Pictures\", \"id\": 2}, {\"...</td>\n",
       "      <td>285</td>\n",
       "      <td>[johnnydepp, orlandobloom, keiraknightley, ste...</td>\n",
       "      <td>[{\"credit_id\": \"52fe4232c3a36847f800b579\", \"de...</td>\n",
       "    </tr>\n",
       "  </tbody>\n",
       "</table>\n",
       "</div>"
      ],
      "text/plain": [
       "      id                                     title  \\\n",
       "0  19995                                    Avatar   \n",
       "1    285  Pirates of the Caribbean: At World's End   \n",
       "\n",
       "                                            keywords  \\\n",
       "0  [cultureclash, future, spacewar, spacecolony, ...   \n",
       "1  [ocean, drugabuse, exoticisland, eastindiatrad...   \n",
       "\n",
       "                                         genres  \\\n",
       "0  [action, adventure, fantasy, sciencefiction]   \n",
       "1                  [adventure, fantasy, action]   \n",
       "\n",
       "                                            overview  \\\n",
       "0  In the 22nd century, a paraplegic Marine is di...   \n",
       "1  Captain Barbossa, long believed to be dead, ha...   \n",
       "\n",
       "                                production_companies  movie_id  \\\n",
       "0  [{\"name\": \"Ingenious Film Partners\", \"id\": 289...     19995   \n",
       "1  [{\"name\": \"Walt Disney Pictures\", \"id\": 2}, {\"...       285   \n",
       "\n",
       "                                                cast  \\\n",
       "0  [samworthington, zoesaldana, sigourneyweaver, ...   \n",
       "1  [johnnydepp, orlandobloom, keiraknightley, ste...   \n",
       "\n",
       "                                                crew  \n",
       "0  [{\"credit_id\": \"52fe48009251416c750aca23\", \"de...  \n",
       "1  [{\"credit_id\": \"52fe4232c3a36847f800b579\", \"de...  "
      ]
     },
     "execution_count": 25,
     "metadata": {},
     "output_type": "execute_result"
    }
   ],
   "source": [
    "movies['cast'] = movies['cast'].apply(cast_convert)\n",
    "movies.head(2)"
   ]
  },
  {
   "cell_type": "code",
   "execution_count": 26,
   "id": "9d41b988-3f07-42c0-8763-ed6f45cceda9",
   "metadata": {},
   "outputs": [
    {
     "data": {
      "text/plain": [
       "(['samworthington', 'zoesaldana', 'sigourneyweaver', 'stephenlang'],\n",
       " ['johnnydepp', 'orlandobloom', 'keiraknightley', 'stellanskarsgård'])"
      ]
     },
     "execution_count": 26,
     "metadata": {},
     "output_type": "execute_result"
    }
   ],
   "source": [
    "movies['cast'].iloc[0],movies['cast'].iloc[1]"
   ]
  },
  {
   "cell_type": "code",
   "execution_count": 27,
   "id": "77b04ca6-9006-41d8-9e4e-673ef7225e4f",
   "metadata": {},
   "outputs": [
    {
     "data": {
      "text/plain": [
       "'[{\"name\": \"Ingenious Film Partners\", \"id\": 289}, {\"name\": \"Twentieth Century Fox Film Corporation\", \"id\": 306}, {\"name\": \"Dune Entertainment\", \"id\": 444}, {\"name\": \"Lightstorm Entertainment\", \"id\": 574}]'"
      ]
     },
     "execution_count": 27,
     "metadata": {},
     "output_type": "execute_result"
    }
   ],
   "source": [
    "movies['production_companies'].iloc[0]"
   ]
  },
  {
   "cell_type": "code",
   "execution_count": 28,
   "id": "3ee67d7c-d37b-4791-9804-7857b193ee40",
   "metadata": {},
   "outputs": [
    {
     "data": {
      "text/html": [
       "<div>\n",
       "<style scoped>\n",
       "    .dataframe tbody tr th:only-of-type {\n",
       "        vertical-align: middle;\n",
       "    }\n",
       "\n",
       "    .dataframe tbody tr th {\n",
       "        vertical-align: top;\n",
       "    }\n",
       "\n",
       "    .dataframe thead th {\n",
       "        text-align: right;\n",
       "    }\n",
       "</style>\n",
       "<table border=\"1\" class=\"dataframe\">\n",
       "  <thead>\n",
       "    <tr style=\"text-align: right;\">\n",
       "      <th></th>\n",
       "      <th>id</th>\n",
       "      <th>title</th>\n",
       "      <th>keywords</th>\n",
       "      <th>genres</th>\n",
       "      <th>overview</th>\n",
       "      <th>production_companies</th>\n",
       "      <th>movie_id</th>\n",
       "      <th>cast</th>\n",
       "      <th>crew</th>\n",
       "    </tr>\n",
       "  </thead>\n",
       "  <tbody>\n",
       "    <tr>\n",
       "      <th>0</th>\n",
       "      <td>19995</td>\n",
       "      <td>Avatar</td>\n",
       "      <td>[cultureclash, future, spacewar, spacecolony, ...</td>\n",
       "      <td>[action, adventure, fantasy, sciencefiction]</td>\n",
       "      <td>In the 22nd century, a paraplegic Marine is di...</td>\n",
       "      <td>[ingeniousfilmpartners, twentiethcenturyfoxfil...</td>\n",
       "      <td>19995</td>\n",
       "      <td>[samworthington, zoesaldana, sigourneyweaver, ...</td>\n",
       "      <td>[{\"credit_id\": \"52fe48009251416c750aca23\", \"de...</td>\n",
       "    </tr>\n",
       "    <tr>\n",
       "      <th>1</th>\n",
       "      <td>285</td>\n",
       "      <td>Pirates of the Caribbean: At World's End</td>\n",
       "      <td>[ocean, drugabuse, exoticisland, eastindiatrad...</td>\n",
       "      <td>[adventure, fantasy, action]</td>\n",
       "      <td>Captain Barbossa, long believed to be dead, ha...</td>\n",
       "      <td>[waltdisneypictures, jerrybruckheimerfilms, se...</td>\n",
       "      <td>285</td>\n",
       "      <td>[johnnydepp, orlandobloom, keiraknightley, ste...</td>\n",
       "      <td>[{\"credit_id\": \"52fe4232c3a36847f800b579\", \"de...</td>\n",
       "    </tr>\n",
       "  </tbody>\n",
       "</table>\n",
       "</div>"
      ],
      "text/plain": [
       "      id                                     title  \\\n",
       "0  19995                                    Avatar   \n",
       "1    285  Pirates of the Caribbean: At World's End   \n",
       "\n",
       "                                            keywords  \\\n",
       "0  [cultureclash, future, spacewar, spacecolony, ...   \n",
       "1  [ocean, drugabuse, exoticisland, eastindiatrad...   \n",
       "\n",
       "                                         genres  \\\n",
       "0  [action, adventure, fantasy, sciencefiction]   \n",
       "1                  [adventure, fantasy, action]   \n",
       "\n",
       "                                            overview  \\\n",
       "0  In the 22nd century, a paraplegic Marine is di...   \n",
       "1  Captain Barbossa, long believed to be dead, ha...   \n",
       "\n",
       "                                production_companies  movie_id  \\\n",
       "0  [ingeniousfilmpartners, twentiethcenturyfoxfil...     19995   \n",
       "1  [waltdisneypictures, jerrybruckheimerfilms, se...       285   \n",
       "\n",
       "                                                cast  \\\n",
       "0  [samworthington, zoesaldana, sigourneyweaver, ...   \n",
       "1  [johnnydepp, orlandobloom, keiraknightley, ste...   \n",
       "\n",
       "                                                crew  \n",
       "0  [{\"credit_id\": \"52fe48009251416c750aca23\", \"de...  \n",
       "1  [{\"credit_id\": \"52fe4232c3a36847f800b579\", \"de...  "
      ]
     },
     "execution_count": 28,
     "metadata": {},
     "output_type": "execute_result"
    }
   ],
   "source": [
    "movies['production_companies'] = movies['production_companies'].apply(convert)\n",
    "movies.head(2)"
   ]
  },
  {
   "cell_type": "code",
   "execution_count": 29,
   "id": "06cdec35-1adb-4f52-ba7f-570f1eed1f76",
   "metadata": {},
   "outputs": [
    {
     "data": {
      "text/html": [
       "<div>\n",
       "<style scoped>\n",
       "    .dataframe tbody tr th:only-of-type {\n",
       "        vertical-align: middle;\n",
       "    }\n",
       "\n",
       "    .dataframe tbody tr th {\n",
       "        vertical-align: top;\n",
       "    }\n",
       "\n",
       "    .dataframe thead th {\n",
       "        text-align: right;\n",
       "    }\n",
       "</style>\n",
       "<table border=\"1\" class=\"dataframe\">\n",
       "  <thead>\n",
       "    <tr style=\"text-align: right;\">\n",
       "      <th></th>\n",
       "      <th>id</th>\n",
       "      <th>title</th>\n",
       "      <th>keywords</th>\n",
       "      <th>genres</th>\n",
       "      <th>overview</th>\n",
       "      <th>production_companies</th>\n",
       "      <th>cast</th>\n",
       "      <th>crew</th>\n",
       "    </tr>\n",
       "  </thead>\n",
       "  <tbody>\n",
       "    <tr>\n",
       "      <th>0</th>\n",
       "      <td>19995</td>\n",
       "      <td>Avatar</td>\n",
       "      <td>[cultureclash, future, spacewar, spacecolony, ...</td>\n",
       "      <td>[action, adventure, fantasy, sciencefiction]</td>\n",
       "      <td>In the 22nd century, a paraplegic Marine is di...</td>\n",
       "      <td>[ingeniousfilmpartners, twentiethcenturyfoxfil...</td>\n",
       "      <td>[samworthington, zoesaldana, sigourneyweaver, ...</td>\n",
       "      <td>[{\"credit_id\": \"52fe48009251416c750aca23\", \"de...</td>\n",
       "    </tr>\n",
       "    <tr>\n",
       "      <th>1</th>\n",
       "      <td>285</td>\n",
       "      <td>Pirates of the Caribbean: At World's End</td>\n",
       "      <td>[ocean, drugabuse, exoticisland, eastindiatrad...</td>\n",
       "      <td>[adventure, fantasy, action]</td>\n",
       "      <td>Captain Barbossa, long believed to be dead, ha...</td>\n",
       "      <td>[waltdisneypictures, jerrybruckheimerfilms, se...</td>\n",
       "      <td>[johnnydepp, orlandobloom, keiraknightley, ste...</td>\n",
       "      <td>[{\"credit_id\": \"52fe4232c3a36847f800b579\", \"de...</td>\n",
       "    </tr>\n",
       "  </tbody>\n",
       "</table>\n",
       "</div>"
      ],
      "text/plain": [
       "      id                                     title  \\\n",
       "0  19995                                    Avatar   \n",
       "1    285  Pirates of the Caribbean: At World's End   \n",
       "\n",
       "                                            keywords  \\\n",
       "0  [cultureclash, future, spacewar, spacecolony, ...   \n",
       "1  [ocean, drugabuse, exoticisland, eastindiatrad...   \n",
       "\n",
       "                                         genres  \\\n",
       "0  [action, adventure, fantasy, sciencefiction]   \n",
       "1                  [adventure, fantasy, action]   \n",
       "\n",
       "                                            overview  \\\n",
       "0  In the 22nd century, a paraplegic Marine is di...   \n",
       "1  Captain Barbossa, long believed to be dead, ha...   \n",
       "\n",
       "                                production_companies  \\\n",
       "0  [ingeniousfilmpartners, twentiethcenturyfoxfil...   \n",
       "1  [waltdisneypictures, jerrybruckheimerfilms, se...   \n",
       "\n",
       "                                                cast  \\\n",
       "0  [samworthington, zoesaldana, sigourneyweaver, ...   \n",
       "1  [johnnydepp, orlandobloom, keiraknightley, ste...   \n",
       "\n",
       "                                                crew  \n",
       "0  [{\"credit_id\": \"52fe48009251416c750aca23\", \"de...  \n",
       "1  [{\"credit_id\": \"52fe4232c3a36847f800b579\", \"de...  "
      ]
     },
     "execution_count": 29,
     "metadata": {},
     "output_type": "execute_result"
    }
   ],
   "source": [
    "movies.drop(\"movie_id\",axis=1,inplace=True)\n",
    "movies.head(2)"
   ]
  },
  {
   "cell_type": "markdown",
   "id": "e49a41cd-ad40-4d83-b45f-ff3bcec49031",
   "metadata": {},
   "source": [
    "## Handeling \"crew\" Column"
   ]
  },
  {
   "cell_type": "code",
   "execution_count": 30,
   "id": "e236cf28-3c9f-477e-bb57-5c81d3f9aecf",
   "metadata": {},
   "outputs": [
    {
     "data": {
      "text/plain": [
       "'[{\"credit_id\": \"52fe48009251416c750aca23\", \"department\": \"Editing\", \"gender\": 0, \"id\": 1721, \"job\": \"Editor\", \"name\": \"Stephen E. Rivkin\"}, {\"credit_id\": \"539c47ecc3a36810e3001f87\", \"department\": \"Art\", \"gender\": 2, \"id\": 496, \"job\": \"Production Design\", \"name\": \"Rick Carter\"}, {\"credit_id\": \"54491c89c3a3680fb4001cf7\", \"department\": \"Sound\", \"gender\": 0, \"id\": 900, \"job\": \"Sound Designer\", \"name\": \"Christopher Boyes\"}, {\"credit_id\": \"54491cb70e0a267480001bd0\", \"department\": \"Sound\", \"gender\": 0, \"id\": 900, \"job\": \"Supervising Sound Editor\", \"name\": \"Christopher Boyes\"}, {\"credit_id\": \"539c4a4cc3a36810c9002101\", \"department\": \"Production\", \"gender\": 1, \"id\": 1262, \"job\": \"Casting\", \"name\": \"Mali Finn\"}, {\"credit_id\": \"5544ee3b925141499f0008fc\", \"department\": \"Sound\", \"gender\": 2, \"id\": 1729, \"job\": \"Original Music Composer\", \"name\": \"James Horner\"}, {\"credit_id\": \"52fe48009251416c750ac9c3\", \"department\": \"Directing\", \"gender\": 2, \"id\": 2710, \"job\": \"Director\", \"name\": \"James Cameron\"}, {\"credit_id\": \"52fe48009251416c750ac9d9\", \"department\": \"Writing\", \"gender\": 2, \"id\": 2710, \"job\": \"Writer\", \"name\": \"James Cameron\"}, {\"credit_id\": \"52fe48009251416c750aca17\", \"department\": \"Editing\", \"gender\": 2, \"id\": 2710, \"job\": \"Editor\", \"name\": \"James Cameron\"}, {\"credit_id\": \"52fe48009251416c750aca29\", \"department\": \"Production\", \"gender\": 2, \"id\": 2710, \"job\": \"Producer\", \"name\": \"James Cameron\"}, {\"credit_id\": \"52fe48009251416c750aca3f\", \"department\": \"Writing\", \"gender\": 2, \"id\": 2710, \"job\": \"Screenplay\", \"name\": \"James Cameron\"}, {\"credit_id\": \"539c4987c3a36810ba0021a4\", \"department\": \"Art\", \"gender\": 2, \"id\": 7236, \"job\": \"Art Direction\", \"name\": \"Andrew Menzies\"}, {\"credit_id\": \"549598c3c3a3686ae9004383\", \"department\": \"Visual Effects\", \"gender\": 0, \"id\": 6690, \"job\": \"Visual Effects Producer\", \"name\": \"Jill Brooks\"}, {\"credit_id\": \"52fe48009251416c750aca4b\", \"department\": \"Production\", \"gender\": 1, \"id\": 6347, \"job\": \"Casting\", \"name\": \"Margery Simkin\"}, {\"credit_id\": \"570b6f419251417da70032fe\", \"department\": \"Art\", \"gender\": 2, \"id\": 6878, \"job\": \"Supervising Art Director\", \"name\": \"Kevin Ishioka\"}, {\"credit_id\": \"5495a0fac3a3686ae9004468\", \"department\": \"Sound\", \"gender\": 0, \"id\": 6883, \"job\": \"Music Editor\", \"name\": \"Dick Bernstein\"}, {\"credit_id\": \"54959706c3a3686af3003e81\", \"department\": \"Sound\", \"gender\": 0, \"id\": 8159, \"job\": \"Sound Effects Editor\", \"name\": \"Shannon Mills\"}, {\"credit_id\": \"54491d58c3a3680fb1001ccb\", \"department\": \"Sound\", \"gender\": 0, \"id\": 8160, \"job\": \"Foley\", \"name\": \"Dennie Thorpe\"}, {\"credit_id\": \"54491d6cc3a3680fa5001b2c\", \"department\": \"Sound\", \"gender\": 0, \"id\": 8163, \"job\": \"Foley\", \"name\": \"Jana Vance\"}, {\"credit_id\": \"52fe48009251416c750aca57\", \"department\": \"Costume & Make-Up\", \"gender\": 1, \"id\": 8527, \"job\": \"Costume Design\", \"name\": \"Deborah Lynn Scott\"}, {\"credit_id\": \"52fe48009251416c750aca2f\", \"department\": \"Production\", \"gender\": 2, \"id\": 8529, \"job\": \"Producer\", \"name\": \"Jon Landau\"}, {\"credit_id\": \"539c4937c3a36810ba002194\", \"department\": \"Art\", \"gender\": 0, \"id\": 9618, \"job\": \"Art Direction\", \"name\": \"Sean Haworth\"}, {\"credit_id\": \"539c49b6c3a36810c10020e6\", \"department\": \"Art\", \"gender\": 1, \"id\": 12653, \"job\": \"Set Decoration\", \"name\": \"Kim Sinclair\"}, {\"credit_id\": \"570b6f2f9251413a0e00020d\", \"department\": \"Art\", \"gender\": 1, \"id\": 12653, \"job\": \"Supervising Art Director\", \"name\": \"Kim Sinclair\"}, {\"credit_id\": \"54491a6c0e0a26748c001b19\", \"department\": \"Art\", \"gender\": 2, \"id\": 14350, \"job\": \"Set Designer\", \"name\": \"Richard F. Mays\"}, {\"credit_id\": \"56928cf4c3a3684cff0025c4\", \"department\": \"Production\", \"gender\": 1, \"id\": 20294, \"job\": \"Executive Producer\", \"name\": \"Laeta Kalogridis\"}, {\"credit_id\": \"52fe48009251416c750aca51\", \"department\": \"Costume & Make-Up\", \"gender\": 0, \"id\": 17675, \"job\": \"Costume Design\", \"name\": \"Mayes C. Rubeo\"}, {\"credit_id\": \"52fe48009251416c750aca11\", \"department\": \"Camera\", \"gender\": 2, \"id\": 18265, \"job\": \"Director of Photography\", \"name\": \"Mauro Fiore\"}, {\"credit_id\": \"5449194d0e0a26748f001b39\", \"department\": \"Art\", \"gender\": 0, \"id\": 42281, \"job\": \"Set Designer\", \"name\": \"Scott Herbertson\"}, {\"credit_id\": \"52fe48009251416c750aca05\", \"department\": \"Crew\", \"gender\": 0, \"id\": 42288, \"job\": \"Stunts\", \"name\": \"Woody Schultz\"}, {\"credit_id\": \"5592aefb92514152de0010f5\", \"department\": \"Costume & Make-Up\", \"gender\": 0, \"id\": 29067, \"job\": \"Makeup Artist\", \"name\": \"Linda DeVetta\"}, {\"credit_id\": \"5592afa492514152de00112c\", \"department\": \"Costume & Make-Up\", \"gender\": 0, \"id\": 29067, \"job\": \"Hairstylist\", \"name\": \"Linda DeVetta\"}, {\"credit_id\": \"54959ed592514130fc002e5d\", \"department\": \"Camera\", \"gender\": 2, \"id\": 33302, \"job\": \"Camera Operator\", \"name\": \"Richard Bluck\"}, {\"credit_id\": \"539c4891c3a36810ba002147\", \"department\": \"Art\", \"gender\": 2, \"id\": 33303, \"job\": \"Art Direction\", \"name\": \"Simon Bright\"}, {\"credit_id\": \"54959c069251417a81001f3a\", \"department\": \"Visual Effects\", \"gender\": 0, \"id\": 113145, \"job\": \"Visual Effects Supervisor\", \"name\": \"Richard Martin\"}, {\"credit_id\": \"54959a0dc3a3680ff5002c8d\", \"department\": \"Crew\", \"gender\": 2, \"id\": 58188, \"job\": \"Visual Effects Editor\", \"name\": \"Steve R. Moore\"}, {\"credit_id\": \"52fe48009251416c750aca1d\", \"department\": \"Editing\", \"gender\": 2, \"id\": 58871, \"job\": \"Editor\", \"name\": \"John Refoua\"}, {\"credit_id\": \"54491a4dc3a3680fc30018ca\", \"department\": \"Art\", \"gender\": 0, \"id\": 92359, \"job\": \"Set Designer\", \"name\": \"Karl J. Martin\"}, {\"credit_id\": \"52fe48009251416c750aca35\", \"department\": \"Camera\", \"gender\": 1, \"id\": 72201, \"job\": \"Director of Photography\", \"name\": \"Chiling Lin\"}, {\"credit_id\": \"52fe48009251416c750ac9ff\", \"department\": \"Crew\", \"gender\": 0, \"id\": 89714, \"job\": \"Stunts\", \"name\": \"Ilram Choi\"}, {\"credit_id\": \"54959c529251416e2b004394\", \"department\": \"Visual Effects\", \"gender\": 2, \"id\": 93214, \"job\": \"Visual Effects Supervisor\", \"name\": \"Steven Quale\"}, {\"credit_id\": \"54491edf0e0a267489001c37\", \"department\": \"Crew\", \"gender\": 1, \"id\": 122607, \"job\": \"Dialect Coach\", \"name\": \"Carla Meyer\"}, {\"credit_id\": \"539c485bc3a368653d001a3a\", \"department\": \"Art\", \"gender\": 2, \"id\": 132585, \"job\": \"Art Direction\", \"name\": \"Nick Bassett\"}, {\"credit_id\": \"539c4903c3a368653d001a74\", \"department\": \"Art\", \"gender\": 0, \"id\": 132596, \"job\": \"Art Direction\", \"name\": \"Jill Cormack\"}, {\"credit_id\": \"539c4967c3a368653d001a94\", \"department\": \"Art\", \"gender\": 0, \"id\": 132604, \"job\": \"Art Direction\", \"name\": \"Andy McLaren\"}, {\"credit_id\": \"52fe48009251416c750aca45\", \"department\": \"Crew\", \"gender\": 0, \"id\": 236696, \"job\": \"Motion Capture Artist\", \"name\": \"Terry Notary\"}, {\"credit_id\": \"54959e02c3a3680fc60027d2\", \"department\": \"Crew\", \"gender\": 2, \"id\": 956198, \"job\": \"Stunt Coordinator\", \"name\": \"Garrett Warren\"}, {\"credit_id\": \"54959ca3c3a3686ae300438c\", \"department\": \"Visual Effects\", \"gender\": 2, \"id\": 957874, \"job\": \"Visual Effects Supervisor\", \"name\": \"Jonathan Rothbart\"}, {\"credit_id\": \"570b6f519251412c74001b2f\", \"department\": \"Art\", \"gender\": 0, \"id\": 957889, \"job\": \"Supervising Art Director\", \"name\": \"Stefan Dechant\"}, {\"credit_id\": \"570b6f62c3a3680b77007460\", \"department\": \"Art\", \"gender\": 2, \"id\": 959555, \"job\": \"Supervising Art Director\", \"name\": \"Todd Cherniawsky\"}, {\"credit_id\": \"539c4a3ac3a36810da0021cc\", \"department\": \"Production\", \"gender\": 0, \"id\": 1016177, \"job\": \"Casting\", \"name\": \"Miranda Rivers\"}, {\"credit_id\": \"539c482cc3a36810c1002062\", \"department\": \"Art\", \"gender\": 0, \"id\": 1032536, \"job\": \"Production Design\", \"name\": \"Robert Stromberg\"}, {\"credit_id\": \"539c4b65c3a36810c9002125\", \"department\": \"Costume & Make-Up\", \"gender\": 2, \"id\": 1071680, \"job\": \"Costume Design\", \"name\": \"John Harding\"}, {\"credit_id\": \"54959e6692514130fc002e4e\", \"department\": \"Camera\", \"gender\": 0, \"id\": 1177364, \"job\": \"Steadicam Operator\", \"name\": \"Roberto De Angelis\"}, {\"credit_id\": \"539c49f1c3a368653d001aac\", \"department\": \"Costume & Make-Up\", \"gender\": 2, \"id\": 1202850, \"job\": \"Makeup Department Head\", \"name\": \"Mike Smithson\"}, {\"credit_id\": \"5495999ec3a3686ae100460c\", \"department\": \"Visual Effects\", \"gender\": 0, \"id\": 1204668, \"job\": \"Visual Effects Producer\", \"name\": \"Alain Lalanne\"}, {\"credit_id\": \"54959cdfc3a3681153002729\", \"department\": \"Visual Effects\", \"gender\": 0, \"id\": 1206410, \"job\": \"Visual Effects Supervisor\", \"name\": \"Lucas Salton\"}, {\"credit_id\": \"549596239251417a81001eae\", \"department\": \"Crew\", \"gender\": 0, \"id\": 1234266, \"job\": \"Post Production Supervisor\", \"name\": \"Janace Tashjian\"}, {\"credit_id\": \"54959c859251416e1e003efe\", \"department\": \"Visual Effects\", \"gender\": 0, \"id\": 1271932, \"job\": \"Visual Effects Supervisor\", \"name\": \"Stephen Rosenbaum\"}, {\"credit_id\": \"5592af28c3a368775a00105f\", \"department\": \"Costume & Make-Up\", \"gender\": 0, \"id\": 1310064, \"job\": \"Makeup Artist\", \"name\": \"Frankie Karena\"}, {\"credit_id\": \"539c4adfc3a36810e300203b\", \"department\": \"Costume & Make-Up\", \"gender\": 1, \"id\": 1319844, \"job\": \"Costume Supervisor\", \"name\": \"Lisa Lovaas\"}, {\"credit_id\": \"54959b579251416e2b004371\", \"department\": \"Visual Effects\", \"gender\": 0, \"id\": 1327028, \"job\": \"Visual Effects Supervisor\", \"name\": \"Jonathan Fawkner\"}, {\"credit_id\": \"539c48a7c3a36810b5001fa7\", \"department\": \"Art\", \"gender\": 0, \"id\": 1330561, \"job\": \"Art Direction\", \"name\": \"Robert Bavin\"}, {\"credit_id\": \"539c4a71c3a36810da0021e0\", \"department\": \"Costume & Make-Up\", \"gender\": 0, \"id\": 1330567, \"job\": \"Costume Supervisor\", \"name\": \"Anthony Almaraz\"}, {\"credit_id\": \"539c4a8ac3a36810ba0021e4\", \"department\": \"Costume & Make-Up\", \"gender\": 0, \"id\": 1330570, \"job\": \"Costume Supervisor\", \"name\": \"Carolyn M. Fenton\"}, {\"credit_id\": \"539c4ab6c3a36810da0021f0\", \"department\": \"Costume & Make-Up\", \"gender\": 0, \"id\": 1330574, \"job\": \"Costume Supervisor\", \"name\": \"Beth Koenigsberg\"}, {\"credit_id\": \"54491ab70e0a267480001ba2\", \"department\": \"Art\", \"gender\": 0, \"id\": 1336191, \"job\": \"Set Designer\", \"name\": \"Sam Page\"}, {\"credit_id\": \"544919d9c3a3680fc30018bd\", \"department\": \"Art\", \"gender\": 0, \"id\": 1339441, \"job\": \"Set Designer\", \"name\": \"Tex Kadonaga\"}, {\"credit_id\": \"54491cf50e0a267483001b0c\", \"department\": \"Editing\", \"gender\": 0, \"id\": 1352422, \"job\": \"Dialogue Editor\", \"name\": \"Kim Foscato\"}, {\"credit_id\": \"544919f40e0a26748c001b09\", \"department\": \"Art\", \"gender\": 0, \"id\": 1352962, \"job\": \"Set Designer\", \"name\": \"Tammy S. Lee\"}, {\"credit_id\": \"5495a115c3a3680ff5002d71\", \"department\": \"Crew\", \"gender\": 0, \"id\": 1357070, \"job\": \"Transportation Coordinator\", \"name\": \"Denny Caira\"}, {\"credit_id\": \"5495a12f92514130fc002e94\", \"department\": \"Crew\", \"gender\": 0, \"id\": 1357071, \"job\": \"Transportation Coordinator\", \"name\": \"James Waitkus\"}, {\"credit_id\": \"5495976fc3a36811530026b0\", \"department\": \"Sound\", \"gender\": 0, \"id\": 1360103, \"job\": \"Supervising Sound Editor\", \"name\": \"Addison Teague\"}, {\"credit_id\": \"54491837c3a3680fb1001c5a\", \"department\": \"Art\", \"gender\": 2, \"id\": 1376887, \"job\": \"Set Designer\", \"name\": \"C. Scott Baker\"}, {\"credit_id\": \"54491878c3a3680fb4001c9d\", \"department\": \"Art\", \"gender\": 0, \"id\": 1376888, \"job\": \"Set Designer\", \"name\": \"Luke Caska\"}, {\"credit_id\": \"544918dac3a3680fa5001ae0\", \"department\": \"Art\", \"gender\": 0, \"id\": 1376889, \"job\": \"Set Designer\", \"name\": \"David Chow\"}, {\"credit_id\": \"544919110e0a267486001b68\", \"department\": \"Art\", \"gender\": 0, \"id\": 1376890, \"job\": \"Set Designer\", \"name\": \"Jonathan Dyer\"}, {\"credit_id\": \"54491967c3a3680faa001b5e\", \"department\": \"Art\", \"gender\": 0, \"id\": 1376891, \"job\": \"Set Designer\", \"name\": \"Joseph Hiura\"}, {\"credit_id\": \"54491997c3a3680fb1001c8a\", \"department\": \"Art\", \"gender\": 0, \"id\": 1376892, \"job\": \"Art Department Coordinator\", \"name\": \"Rebecca Jellie\"}, {\"credit_id\": \"544919ba0e0a26748f001b42\", \"department\": \"Art\", \"gender\": 0, \"id\": 1376893, \"job\": \"Set Designer\", \"name\": \"Robert Andrew Johnson\"}, {\"credit_id\": \"54491b1dc3a3680faa001b8c\", \"department\": \"Art\", \"gender\": 0, \"id\": 1376895, \"job\": \"Assistant Art Director\", \"name\": \"Mike Stassi\"}, {\"credit_id\": \"54491b79c3a3680fbb001826\", \"department\": \"Art\", \"gender\": 0, \"id\": 1376897, \"job\": \"Construction Coordinator\", \"name\": \"John Villarino\"}, {\"credit_id\": \"54491baec3a3680fb4001ce6\", \"department\": \"Art\", \"gender\": 2, \"id\": 1376898, \"job\": \"Assistant Art Director\", \"name\": \"Jeffrey Wisniewski\"}, {\"credit_id\": \"54491d2fc3a3680fb4001d07\", \"department\": \"Editing\", \"gender\": 0, \"id\": 1376899, \"job\": \"Dialogue Editor\", \"name\": \"Cheryl Nardi\"}, {\"credit_id\": \"54491d86c3a3680fa5001b2f\", \"department\": \"Editing\", \"gender\": 0, \"id\": 1376901, \"job\": \"Dialogue Editor\", \"name\": \"Marshall Winn\"}, {\"credit_id\": \"54491d9dc3a3680faa001bb0\", \"department\": \"Sound\", \"gender\": 0, \"id\": 1376902, \"job\": \"Supervising Sound Editor\", \"name\": \"Gwendolyn Yates Whittle\"}, {\"credit_id\": \"54491dc10e0a267486001bce\", \"department\": \"Sound\", \"gender\": 0, \"id\": 1376903, \"job\": \"Sound Re-Recording Mixer\", \"name\": \"William Stein\"}, {\"credit_id\": \"54491f500e0a26747c001c07\", \"department\": \"Crew\", \"gender\": 0, \"id\": 1376909, \"job\": \"Choreographer\", \"name\": \"Lula Washington\"}, {\"credit_id\": \"549599239251412c4e002a2e\", \"department\": \"Visual Effects\", \"gender\": 0, \"id\": 1391692, \"job\": \"Visual Effects Producer\", \"name\": \"Chris Del Conte\"}, {\"credit_id\": \"54959d54c3a36831b8001d9a\", \"department\": \"Visual Effects\", \"gender\": 2, \"id\": 1391695, \"job\": \"Visual Effects Supervisor\", \"name\": \"R. Christopher White\"}, {\"credit_id\": \"54959bdf9251412c4e002a66\", \"department\": \"Visual Effects\", \"gender\": 0, \"id\": 1394070, \"job\": \"Visual Effects Supervisor\", \"name\": \"Dan Lemmon\"}, {\"credit_id\": \"5495971d92514132ed002922\", \"department\": \"Sound\", \"gender\": 0, \"id\": 1394129, \"job\": \"Sound Effects Editor\", \"name\": \"Tim Nielsen\"}, {\"credit_id\": \"5592b25792514152cc0011aa\", \"department\": \"Crew\", \"gender\": 0, \"id\": 1394286, \"job\": \"CG Supervisor\", \"name\": \"Michael Mulholland\"}, {\"credit_id\": \"54959a329251416e2b004355\", \"department\": \"Crew\", \"gender\": 0, \"id\": 1394750, \"job\": \"Visual Effects Editor\", \"name\": \"Thomas Nittmann\"}, {\"credit_id\": \"54959d6dc3a3686ae9004401\", \"department\": \"Visual Effects\", \"gender\": 0, \"id\": 1394755, \"job\": \"Visual Effects Supervisor\", \"name\": \"Edson Williams\"}, {\"credit_id\": \"5495a08fc3a3686ae300441c\", \"department\": \"Editing\", \"gender\": 0, \"id\": 1394953, \"job\": \"Digital Intermediate\", \"name\": \"Christine Carr\"}, {\"credit_id\": \"55402d659251413d6d000249\", \"department\": \"Visual Effects\", \"gender\": 0, \"id\": 1395269, \"job\": \"Visual Effects Supervisor\", \"name\": \"John Bruno\"}, {\"credit_id\": \"54959e7b9251416e1e003f3e\", \"department\": \"Camera\", \"gender\": 0, \"id\": 1398970, \"job\": \"Steadicam Operator\", \"name\": \"David Emmerichs\"}, {\"credit_id\": \"54959734c3a3686ae10045e0\", \"department\": \"Sound\", \"gender\": 0, \"id\": 1400906, \"job\": \"Sound Effects Editor\", \"name\": \"Christopher Scarabosio\"}, {\"credit_id\": \"549595dd92514130fc002d79\", \"department\": \"Production\", \"gender\": 0, \"id\": 1401784, \"job\": \"Production Supervisor\", \"name\": \"Jennifer Teves\"}, {\"credit_id\": \"549596009251413af70028cc\", \"department\": \"Production\", \"gender\": 0, \"id\": 1401785, \"job\": \"Production Manager\", \"name\": \"Brigitte Yorke\"}, {\"credit_id\": \"549596e892514130fc002d99\", \"department\": \"Sound\", \"gender\": 0, \"id\": 1401786, \"job\": \"Sound Effects Editor\", \"name\": \"Ken Fischer\"}, {\"credit_id\": \"549598229251412c4e002a1c\", \"department\": \"Crew\", \"gender\": 0, \"id\": 1401787, \"job\": \"Special Effects Coordinator\", \"name\": \"Iain Hutton\"}, {\"credit_id\": \"549598349251416e2b00432b\", \"department\": \"Crew\", \"gender\": 0, \"id\": 1401788, \"job\": \"Special Effects Coordinator\", \"name\": \"Steve Ingram\"}, {\"credit_id\": \"54959905c3a3686ae3004324\", \"department\": \"Visual Effects\", \"gender\": 0, \"id\": 1401789, \"job\": \"Visual Effects Producer\", \"name\": \"Joyce Cox\"}, {\"credit_id\": \"5495994b92514132ed002951\", \"department\": \"Visual Effects\", \"gender\": 0, \"id\": 1401790, \"job\": \"Visual Effects Producer\", \"name\": \"Jenny Foster\"}, {\"credit_id\": \"549599cbc3a3686ae1004613\", \"department\": \"Crew\", \"gender\": 0, \"id\": 1401791, \"job\": \"Visual Effects Editor\", \"name\": \"Christopher Marino\"}, {\"credit_id\": \"549599f2c3a3686ae100461e\", \"department\": \"Crew\", \"gender\": 0, \"id\": 1401792, \"job\": \"Visual Effects Editor\", \"name\": \"Jim Milton\"}, {\"credit_id\": \"54959a51c3a3686af3003eb5\", \"department\": \"Visual Effects\", \"gender\": 0, \"id\": 1401793, \"job\": \"Visual Effects Producer\", \"name\": \"Cyndi Ochs\"}, {\"credit_id\": \"54959a7cc3a36811530026f4\", \"department\": \"Crew\", \"gender\": 0, \"id\": 1401794, \"job\": \"Visual Effects Editor\", \"name\": \"Lucas Putnam\"}, {\"credit_id\": \"54959b91c3a3680ff5002cb4\", \"department\": \"Visual Effects\", \"gender\": 0, \"id\": 1401795, \"job\": \"Visual Effects Supervisor\", \"name\": \"Anthony \\'Max\\' Ivins\"}, {\"credit_id\": \"54959bb69251412c4e002a5f\", \"department\": \"Visual Effects\", \"gender\": 0, \"id\": 1401796, \"job\": \"Visual Effects Supervisor\", \"name\": \"John Knoll\"}, {\"credit_id\": \"54959cbbc3a3686ae3004391\", \"department\": \"Visual Effects\", \"gender\": 2, \"id\": 1401799, \"job\": \"Visual Effects Supervisor\", \"name\": \"Eric Saindon\"}, {\"credit_id\": \"54959d06c3a3686ae90043f6\", \"department\": \"Visual Effects\", \"gender\": 0, \"id\": 1401800, \"job\": \"Visual Effects Supervisor\", \"name\": \"Wayne Stables\"}, {\"credit_id\": \"54959d259251416e1e003f11\", \"department\": \"Visual Effects\", \"gender\": 0, \"id\": 1401801, \"job\": \"Visual Effects Supervisor\", \"name\": \"David Stinnett\"}, {\"credit_id\": \"54959db49251413af7002975\", \"department\": \"Visual Effects\", \"gender\": 0, \"id\": 1401803, \"job\": \"Visual Effects Supervisor\", \"name\": \"Guy Williams\"}, {\"credit_id\": \"54959de4c3a3681153002750\", \"department\": \"Crew\", \"gender\": 0, \"id\": 1401804, \"job\": \"Stunt Coordinator\", \"name\": \"Stuart Thorp\"}, {\"credit_id\": \"54959ef2c3a3680fc60027f2\", \"department\": \"Lighting\", \"gender\": 0, \"id\": 1401805, \"job\": \"Best Boy Electric\", \"name\": \"Giles Coburn\"}, {\"credit_id\": \"54959f07c3a3680fc60027f9\", \"department\": \"Camera\", \"gender\": 2, \"id\": 1401806, \"job\": \"Still Photographer\", \"name\": \"Mark Fellman\"}, {\"credit_id\": \"54959f47c3a3681153002774\", \"department\": \"Lighting\", \"gender\": 0, \"id\": 1401807, \"job\": \"Lighting Technician\", \"name\": \"Scott Sprague\"}, {\"credit_id\": \"54959f8cc3a36831b8001df2\", \"department\": \"Visual Effects\", \"gender\": 0, \"id\": 1401808, \"job\": \"Animation Director\", \"name\": \"Jeremy Hollobon\"}, {\"credit_id\": \"54959fa0c3a36831b8001dfb\", \"department\": \"Visual Effects\", \"gender\": 0, \"id\": 1401809, \"job\": \"Animation Director\", \"name\": \"Orlando Meunier\"}, {\"credit_id\": \"54959fb6c3a3686af3003f54\", \"department\": \"Visual Effects\", \"gender\": 0, \"id\": 1401810, \"job\": \"Animation Director\", \"name\": \"Taisuke Tanimura\"}, {\"credit_id\": \"54959fd2c3a36831b8001e02\", \"department\": \"Costume & Make-Up\", \"gender\": 0, \"id\": 1401812, \"job\": \"Set Costumer\", \"name\": \"Lilia Mishel Acevedo\"}, {\"credit_id\": \"54959ff9c3a3686ae300440c\", \"department\": \"Costume & Make-Up\", \"gender\": 0, \"id\": 1401814, \"job\": \"Set Costumer\", \"name\": \"Alejandro M. Hernandez\"}, {\"credit_id\": \"5495a0ddc3a3686ae10046fe\", \"department\": \"Editing\", \"gender\": 0, \"id\": 1401815, \"job\": \"Digital Intermediate\", \"name\": \"Marvin Hall\"}, {\"credit_id\": \"5495a1f7c3a3686ae3004443\", \"department\": \"Production\", \"gender\": 0, \"id\": 1401816, \"job\": \"Publicist\", \"name\": \"Judy Alley\"}, {\"credit_id\": \"5592b29fc3a36869d100002f\", \"department\": \"Crew\", \"gender\": 0, \"id\": 1418381, \"job\": \"CG Supervisor\", \"name\": \"Mike Perry\"}, {\"credit_id\": \"5592b23a9251415df8001081\", \"department\": \"Crew\", \"gender\": 0, \"id\": 1426854, \"job\": \"CG Supervisor\", \"name\": \"Andrew Morley\"}, {\"credit_id\": \"55491e1192514104c40002d8\", \"department\": \"Art\", \"gender\": 0, \"id\": 1438901, \"job\": \"Conceptual Design\", \"name\": \"Seth Engstrom\"}, {\"credit_id\": \"5525d5809251417276002b06\", \"department\": \"Crew\", \"gender\": 0, \"id\": 1447362, \"job\": \"Visual Effects Art Director\", \"name\": \"Eric Oliver\"}, {\"credit_id\": \"554427ca925141586500312a\", \"department\": \"Visual Effects\", \"gender\": 0, \"id\": 1447503, \"job\": \"Modeling\", \"name\": \"Matsune Suzuki\"}, {\"credit_id\": \"551906889251415aab001c88\", \"department\": \"Art\", \"gender\": 0, \"id\": 1447524, \"job\": \"Art Department Manager\", \"name\": \"Paul Tobin\"}, {\"credit_id\": \"5592af8492514152cc0010de\", \"department\": \"Costume & Make-Up\", \"gender\": 0, \"id\": 1452643, \"job\": \"Hairstylist\", \"name\": \"Roxane Griffin\"}, {\"credit_id\": \"553d3c109251415852001318\", \"department\": \"Lighting\", \"gender\": 0, \"id\": 1453938, \"job\": \"Lighting Artist\", \"name\": \"Arun Ram-Mohan\"}, {\"credit_id\": \"5592af4692514152d5001355\", \"department\": \"Costume & Make-Up\", \"gender\": 0, \"id\": 1457305, \"job\": \"Makeup Artist\", \"name\": \"Georgia Lockhart-Adams\"}, {\"credit_id\": \"5592b2eac3a36877470012a5\", \"department\": \"Crew\", \"gender\": 0, \"id\": 1466035, \"job\": \"CG Supervisor\", \"name\": \"Thrain Shadbolt\"}, {\"credit_id\": \"5592b032c3a36877450015f1\", \"department\": \"Crew\", \"gender\": 0, \"id\": 1483220, \"job\": \"CG Supervisor\", \"name\": \"Brad Alexander\"}, {\"credit_id\": \"5592b05592514152d80012f6\", \"department\": \"Crew\", \"gender\": 0, \"id\": 1483221, \"job\": \"CG Supervisor\", \"name\": \"Shadi Almassizadeh\"}, {\"credit_id\": \"5592b090c3a36877570010b5\", \"department\": \"Crew\", \"gender\": 0, \"id\": 1483222, \"job\": \"CG Supervisor\", \"name\": \"Simon Clutterbuck\"}, {\"credit_id\": \"5592b0dbc3a368774b00112c\", \"department\": \"Crew\", \"gender\": 0, \"id\": 1483223, \"job\": \"CG Supervisor\", \"name\": \"Graeme Demmocks\"}, {\"credit_id\": \"5592b0fe92514152db0010c1\", \"department\": \"Crew\", \"gender\": 0, \"id\": 1483224, \"job\": \"CG Supervisor\", \"name\": \"Adrian Fernandes\"}, {\"credit_id\": \"5592b11f9251415df8001059\", \"department\": \"Crew\", \"gender\": 0, \"id\": 1483225, \"job\": \"CG Supervisor\", \"name\": \"Mitch Gates\"}, {\"credit_id\": \"5592b15dc3a3687745001645\", \"department\": \"Crew\", \"gender\": 0, \"id\": 1483226, \"job\": \"CG Supervisor\", \"name\": \"Jerry Kung\"}, {\"credit_id\": \"5592b18e925141645a0004ae\", \"department\": \"Crew\", \"gender\": 0, \"id\": 1483227, \"job\": \"CG Supervisor\", \"name\": \"Andy Lomas\"}, {\"credit_id\": \"5592b1bfc3a368775d0010e7\", \"department\": \"Crew\", \"gender\": 0, \"id\": 1483228, \"job\": \"CG Supervisor\", \"name\": \"Sebastian Marino\"}, {\"credit_id\": \"5592b2049251415df8001078\", \"department\": \"Crew\", \"gender\": 0, \"id\": 1483229, \"job\": \"CG Supervisor\", \"name\": \"Matthias Menz\"}, {\"credit_id\": \"5592b27b92514152d800136a\", \"department\": \"Crew\", \"gender\": 0, \"id\": 1483230, \"job\": \"CG Supervisor\", \"name\": \"Sergei Nevshupov\"}, {\"credit_id\": \"5592b2c3c3a36869e800003c\", \"department\": \"Crew\", \"gender\": 0, \"id\": 1483231, \"job\": \"CG Supervisor\", \"name\": \"Philippe Rebours\"}, {\"credit_id\": \"5592b317c3a36877470012af\", \"department\": \"Crew\", \"gender\": 0, \"id\": 1483232, \"job\": \"CG Supervisor\", \"name\": \"Michael Takarangi\"}, {\"credit_id\": \"5592b345c3a36877470012bb\", \"department\": \"Crew\", \"gender\": 0, \"id\": 1483233, \"job\": \"CG Supervisor\", \"name\": \"David Weitzberg\"}, {\"credit_id\": \"5592b37cc3a368775100113b\", \"department\": \"Crew\", \"gender\": 0, \"id\": 1483234, \"job\": \"CG Supervisor\", \"name\": \"Ben White\"}, {\"credit_id\": \"573c8e2f9251413f5d000094\", \"department\": \"Crew\", \"gender\": 1, \"id\": 1621932, \"job\": \"Stunts\", \"name\": \"Min Windle\"}]'"
      ]
     },
     "execution_count": 30,
     "metadata": {},
     "output_type": "execute_result"
    }
   ],
   "source": [
    "movies['crew'].iloc[0]"
   ]
  },
  {
   "cell_type": "markdown",
   "id": "fc95e3b6-ce54-4826-a391-9af05e906e64",
   "metadata": {},
   "source": [
    "### We Need to Extract Director name, means we need to extract name where job type is \"Director\""
   ]
  },
  {
   "cell_type": "code",
   "execution_count": 31,
   "id": "33ac733a-81d4-4b9f-ad4f-fdb4c4c6b6c6",
   "metadata": {},
   "outputs": [],
   "source": [
    "def crew_convert(text):\n",
    "    L=[]\n",
    "    data=json.loads(text)\n",
    "    for i in range(len(data)):\n",
    "        if (data[i]['job']=='Director'):\n",
    "            L.append(data[i]['name'].replace(\" \",\"\").lower())\n",
    "    return L "
   ]
  },
  {
   "cell_type": "code",
   "execution_count": 32,
   "id": "fac85f90-5749-449a-b895-43be98dcbcbb",
   "metadata": {},
   "outputs": [
    {
     "data": {
      "text/html": [
       "<div>\n",
       "<style scoped>\n",
       "    .dataframe tbody tr th:only-of-type {\n",
       "        vertical-align: middle;\n",
       "    }\n",
       "\n",
       "    .dataframe tbody tr th {\n",
       "        vertical-align: top;\n",
       "    }\n",
       "\n",
       "    .dataframe thead th {\n",
       "        text-align: right;\n",
       "    }\n",
       "</style>\n",
       "<table border=\"1\" class=\"dataframe\">\n",
       "  <thead>\n",
       "    <tr style=\"text-align: right;\">\n",
       "      <th></th>\n",
       "      <th>id</th>\n",
       "      <th>title</th>\n",
       "      <th>keywords</th>\n",
       "      <th>genres</th>\n",
       "      <th>overview</th>\n",
       "      <th>production_companies</th>\n",
       "      <th>cast</th>\n",
       "      <th>crew</th>\n",
       "    </tr>\n",
       "  </thead>\n",
       "  <tbody>\n",
       "    <tr>\n",
       "      <th>0</th>\n",
       "      <td>19995</td>\n",
       "      <td>Avatar</td>\n",
       "      <td>[cultureclash, future, spacewar, spacecolony, ...</td>\n",
       "      <td>[action, adventure, fantasy, sciencefiction]</td>\n",
       "      <td>In the 22nd century, a paraplegic Marine is di...</td>\n",
       "      <td>[ingeniousfilmpartners, twentiethcenturyfoxfil...</td>\n",
       "      <td>[samworthington, zoesaldana, sigourneyweaver, ...</td>\n",
       "      <td>[jamescameron]</td>\n",
       "    </tr>\n",
       "    <tr>\n",
       "      <th>1</th>\n",
       "      <td>285</td>\n",
       "      <td>Pirates of the Caribbean: At World's End</td>\n",
       "      <td>[ocean, drugabuse, exoticisland, eastindiatrad...</td>\n",
       "      <td>[adventure, fantasy, action]</td>\n",
       "      <td>Captain Barbossa, long believed to be dead, ha...</td>\n",
       "      <td>[waltdisneypictures, jerrybruckheimerfilms, se...</td>\n",
       "      <td>[johnnydepp, orlandobloom, keiraknightley, ste...</td>\n",
       "      <td>[goreverbinski]</td>\n",
       "    </tr>\n",
       "  </tbody>\n",
       "</table>\n",
       "</div>"
      ],
      "text/plain": [
       "      id                                     title  \\\n",
       "0  19995                                    Avatar   \n",
       "1    285  Pirates of the Caribbean: At World's End   \n",
       "\n",
       "                                            keywords  \\\n",
       "0  [cultureclash, future, spacewar, spacecolony, ...   \n",
       "1  [ocean, drugabuse, exoticisland, eastindiatrad...   \n",
       "\n",
       "                                         genres  \\\n",
       "0  [action, adventure, fantasy, sciencefiction]   \n",
       "1                  [adventure, fantasy, action]   \n",
       "\n",
       "                                            overview  \\\n",
       "0  In the 22nd century, a paraplegic Marine is di...   \n",
       "1  Captain Barbossa, long believed to be dead, ha...   \n",
       "\n",
       "                                production_companies  \\\n",
       "0  [ingeniousfilmpartners, twentiethcenturyfoxfil...   \n",
       "1  [waltdisneypictures, jerrybruckheimerfilms, se...   \n",
       "\n",
       "                                                cast             crew  \n",
       "0  [samworthington, zoesaldana, sigourneyweaver, ...   [jamescameron]  \n",
       "1  [johnnydepp, orlandobloom, keiraknightley, ste...  [goreverbinski]  "
      ]
     },
     "execution_count": 32,
     "metadata": {},
     "output_type": "execute_result"
    }
   ],
   "source": [
    "movies['crew'] = movies['crew'].apply(crew_convert)\n",
    "movies.head(2)"
   ]
  },
  {
   "cell_type": "code",
   "execution_count": 33,
   "id": "c18bd55d-6dad-456c-854b-078797c287ab",
   "metadata": {},
   "outputs": [
    {
     "data": {
      "text/plain": [
       "(['jamescameron'], ['goreverbinski'])"
      ]
     },
     "execution_count": 33,
     "metadata": {},
     "output_type": "execute_result"
    }
   ],
   "source": [
    "movies['crew'].iloc[0],movies['crew'].iloc[1]"
   ]
  },
  {
   "cell_type": "markdown",
   "id": "f67cd2df-01b0-44d1-87e9-956a18820d83",
   "metadata": {},
   "source": [
    "### Handeling \"overview\" Column"
   ]
  },
  {
   "cell_type": "code",
   "execution_count": 34,
   "id": "135960fa-e0c0-431b-b803-ecc9661f2e0c",
   "metadata": {},
   "outputs": [],
   "source": [
    "def overview_convert(text):\n",
    "    return text.lower().split()\n"
   ]
  },
  {
   "cell_type": "code",
   "execution_count": 35,
   "id": "9b91c64a-5f60-4d0c-8b6b-7a96146da87f",
   "metadata": {},
   "outputs": [
    {
     "data": {
      "text/html": [
       "<div>\n",
       "<style scoped>\n",
       "    .dataframe tbody tr th:only-of-type {\n",
       "        vertical-align: middle;\n",
       "    }\n",
       "\n",
       "    .dataframe tbody tr th {\n",
       "        vertical-align: top;\n",
       "    }\n",
       "\n",
       "    .dataframe thead th {\n",
       "        text-align: right;\n",
       "    }\n",
       "</style>\n",
       "<table border=\"1\" class=\"dataframe\">\n",
       "  <thead>\n",
       "    <tr style=\"text-align: right;\">\n",
       "      <th></th>\n",
       "      <th>id</th>\n",
       "      <th>title</th>\n",
       "      <th>keywords</th>\n",
       "      <th>genres</th>\n",
       "      <th>overview</th>\n",
       "      <th>production_companies</th>\n",
       "      <th>cast</th>\n",
       "      <th>crew</th>\n",
       "    </tr>\n",
       "  </thead>\n",
       "  <tbody>\n",
       "    <tr>\n",
       "      <th>0</th>\n",
       "      <td>19995</td>\n",
       "      <td>Avatar</td>\n",
       "      <td>[cultureclash, future, spacewar, spacecolony, ...</td>\n",
       "      <td>[action, adventure, fantasy, sciencefiction]</td>\n",
       "      <td>[in, the, 22nd, century,, a, paraplegic, marin...</td>\n",
       "      <td>[ingeniousfilmpartners, twentiethcenturyfoxfil...</td>\n",
       "      <td>[samworthington, zoesaldana, sigourneyweaver, ...</td>\n",
       "      <td>[jamescameron]</td>\n",
       "    </tr>\n",
       "    <tr>\n",
       "      <th>1</th>\n",
       "      <td>285</td>\n",
       "      <td>Pirates of the Caribbean: At World's End</td>\n",
       "      <td>[ocean, drugabuse, exoticisland, eastindiatrad...</td>\n",
       "      <td>[adventure, fantasy, action]</td>\n",
       "      <td>[captain, barbossa,, long, believed, to, be, d...</td>\n",
       "      <td>[waltdisneypictures, jerrybruckheimerfilms, se...</td>\n",
       "      <td>[johnnydepp, orlandobloom, keiraknightley, ste...</td>\n",
       "      <td>[goreverbinski]</td>\n",
       "    </tr>\n",
       "  </tbody>\n",
       "</table>\n",
       "</div>"
      ],
      "text/plain": [
       "      id                                     title  \\\n",
       "0  19995                                    Avatar   \n",
       "1    285  Pirates of the Caribbean: At World's End   \n",
       "\n",
       "                                            keywords  \\\n",
       "0  [cultureclash, future, spacewar, spacecolony, ...   \n",
       "1  [ocean, drugabuse, exoticisland, eastindiatrad...   \n",
       "\n",
       "                                         genres  \\\n",
       "0  [action, adventure, fantasy, sciencefiction]   \n",
       "1                  [adventure, fantasy, action]   \n",
       "\n",
       "                                            overview  \\\n",
       "0  [in, the, 22nd, century,, a, paraplegic, marin...   \n",
       "1  [captain, barbossa,, long, believed, to, be, d...   \n",
       "\n",
       "                                production_companies  \\\n",
       "0  [ingeniousfilmpartners, twentiethcenturyfoxfil...   \n",
       "1  [waltdisneypictures, jerrybruckheimerfilms, se...   \n",
       "\n",
       "                                                cast             crew  \n",
       "0  [samworthington, zoesaldana, sigourneyweaver, ...   [jamescameron]  \n",
       "1  [johnnydepp, orlandobloom, keiraknightley, ste...  [goreverbinski]  "
      ]
     },
     "execution_count": 35,
     "metadata": {},
     "output_type": "execute_result"
    }
   ],
   "source": [
    "movies['overview'] = movies['overview'].apply(overview_convert)\n",
    "movies.head(2)"
   ]
  },
  {
   "cell_type": "markdown",
   "id": "a950ac30-de38-44e2-b3af-a79bff288cef",
   "metadata": {},
   "source": [
    "### Create a New Column \"tag\""
   ]
  },
  {
   "cell_type": "code",
   "execution_count": 36,
   "id": "6c02fdc2-64e4-4d0b-b537-e364c70a16c6",
   "metadata": {},
   "outputs": [],
   "source": [
    "movies['tags'] = movies['overview'] + movies['genres'] + movies['keywords'] + movies['cast'] + movies['crew']+movies['production_companies']"
   ]
  },
  {
   "cell_type": "code",
   "execution_count": 37,
   "id": "2fe560b0-6186-426c-a3fb-71a4a2afcce4",
   "metadata": {},
   "outputs": [
    {
     "data": {
      "text/html": [
       "<div>\n",
       "<style scoped>\n",
       "    .dataframe tbody tr th:only-of-type {\n",
       "        vertical-align: middle;\n",
       "    }\n",
       "\n",
       "    .dataframe tbody tr th {\n",
       "        vertical-align: top;\n",
       "    }\n",
       "\n",
       "    .dataframe thead th {\n",
       "        text-align: right;\n",
       "    }\n",
       "</style>\n",
       "<table border=\"1\" class=\"dataframe\">\n",
       "  <thead>\n",
       "    <tr style=\"text-align: right;\">\n",
       "      <th></th>\n",
       "      <th>id</th>\n",
       "      <th>title</th>\n",
       "      <th>tags</th>\n",
       "    </tr>\n",
       "  </thead>\n",
       "  <tbody>\n",
       "    <tr>\n",
       "      <th>0</th>\n",
       "      <td>19995</td>\n",
       "      <td>Avatar</td>\n",
       "      <td>[in, the, 22nd, century,, a, paraplegic, marin...</td>\n",
       "    </tr>\n",
       "    <tr>\n",
       "      <th>1</th>\n",
       "      <td>285</td>\n",
       "      <td>Pirates of the Caribbean: At World's End</td>\n",
       "      <td>[captain, barbossa,, long, believed, to, be, d...</td>\n",
       "    </tr>\n",
       "    <tr>\n",
       "      <th>2</th>\n",
       "      <td>206647</td>\n",
       "      <td>Spectre</td>\n",
       "      <td>[a, cryptic, message, from, bond’s, past, send...</td>\n",
       "    </tr>\n",
       "    <tr>\n",
       "      <th>3</th>\n",
       "      <td>49026</td>\n",
       "      <td>The Dark Knight Rises</td>\n",
       "      <td>[following, the, death, of, district, attorney...</td>\n",
       "    </tr>\n",
       "    <tr>\n",
       "      <th>4</th>\n",
       "      <td>49529</td>\n",
       "      <td>John Carter</td>\n",
       "      <td>[john, carter, is, a, war-weary,, former, mili...</td>\n",
       "    </tr>\n",
       "  </tbody>\n",
       "</table>\n",
       "</div>"
      ],
      "text/plain": [
       "       id                                     title  \\\n",
       "0   19995                                    Avatar   \n",
       "1     285  Pirates of the Caribbean: At World's End   \n",
       "2  206647                                   Spectre   \n",
       "3   49026                     The Dark Knight Rises   \n",
       "4   49529                               John Carter   \n",
       "\n",
       "                                                tags  \n",
       "0  [in, the, 22nd, century,, a, paraplegic, marin...  \n",
       "1  [captain, barbossa,, long, believed, to, be, d...  \n",
       "2  [a, cryptic, message, from, bond’s, past, send...  \n",
       "3  [following, the, death, of, district, attorney...  \n",
       "4  [john, carter, is, a, war-weary,, former, mili...  "
      ]
     },
     "execution_count": 37,
     "metadata": {},
     "output_type": "execute_result"
    }
   ],
   "source": [
    "movies_new = movies.drop(columns=['overview','genres','keywords','cast','crew','production_companies'])\n",
    "movies_new.head()"
   ]
  },
  {
   "cell_type": "code",
   "execution_count": 38,
   "id": "04c1f580-d27a-4e00-bd45-fe22e1d33cf9",
   "metadata": {},
   "outputs": [
    {
     "data": {
      "text/plain": [
       "['in',\n",
       " 'the',\n",
       " '22nd',\n",
       " 'century,',\n",
       " 'a',\n",
       " 'paraplegic',\n",
       " 'marine',\n",
       " 'is',\n",
       " 'dispatched',\n",
       " 'to',\n",
       " 'the',\n",
       " 'moon',\n",
       " 'pandora',\n",
       " 'on',\n",
       " 'a',\n",
       " 'unique',\n",
       " 'mission,',\n",
       " 'but',\n",
       " 'becomes',\n",
       " 'torn',\n",
       " 'between',\n",
       " 'following',\n",
       " 'orders',\n",
       " 'and',\n",
       " 'protecting',\n",
       " 'an',\n",
       " 'alien',\n",
       " 'civilization.',\n",
       " 'action',\n",
       " 'adventure',\n",
       " 'fantasy',\n",
       " 'sciencefiction',\n",
       " 'cultureclash',\n",
       " 'future',\n",
       " 'spacewar',\n",
       " 'spacecolony',\n",
       " 'society',\n",
       " 'spacetravel',\n",
       " 'futuristic',\n",
       " 'romance',\n",
       " 'space',\n",
       " 'alien',\n",
       " 'tribe',\n",
       " 'alienplanet',\n",
       " 'cgi',\n",
       " 'marine',\n",
       " 'soldier',\n",
       " 'battle',\n",
       " 'loveaffair',\n",
       " 'antiwar',\n",
       " 'powerrelations',\n",
       " 'mindandsoul',\n",
       " '3d',\n",
       " 'samworthington',\n",
       " 'zoesaldana',\n",
       " 'sigourneyweaver',\n",
       " 'stephenlang',\n",
       " 'jamescameron',\n",
       " 'ingeniousfilmpartners',\n",
       " 'twentiethcenturyfoxfilmcorporation',\n",
       " 'duneentertainment',\n",
       " 'lightstormentertainment']"
      ]
     },
     "execution_count": 38,
     "metadata": {},
     "output_type": "execute_result"
    }
   ],
   "source": [
    "movies['tags'][0]"
   ]
  },
  {
   "cell_type": "raw",
   "id": "04c6c6d0-a3ac-4709-9424-a6c3f885c6c7",
   "metadata": {},
   "source": [
    ".apply(lambda x: \" \".join(x)): This applies a lambda function to each element in the 'tags' column. The lambda function takes a list x and joins its elements into a single string using the join method with a space as the separator.\n",
    "\n",
    "input--> ['action', 'adventure', 'sci-fi']\n",
    "output-->'action adventure sci-fi'"
   ]
  },
  {
   "cell_type": "code",
   "execution_count": 39,
   "id": "372e0b0b-69c1-4354-aaa3-94f5717d609c",
   "metadata": {},
   "outputs": [
    {
     "data": {
      "text/html": [
       "<div>\n",
       "<style scoped>\n",
       "    .dataframe tbody tr th:only-of-type {\n",
       "        vertical-align: middle;\n",
       "    }\n",
       "\n",
       "    .dataframe tbody tr th {\n",
       "        vertical-align: top;\n",
       "    }\n",
       "\n",
       "    .dataframe thead th {\n",
       "        text-align: right;\n",
       "    }\n",
       "</style>\n",
       "<table border=\"1\" class=\"dataframe\">\n",
       "  <thead>\n",
       "    <tr style=\"text-align: right;\">\n",
       "      <th></th>\n",
       "      <th>id</th>\n",
       "      <th>title</th>\n",
       "      <th>tags</th>\n",
       "    </tr>\n",
       "  </thead>\n",
       "  <tbody>\n",
       "    <tr>\n",
       "      <th>0</th>\n",
       "      <td>19995</td>\n",
       "      <td>Avatar</td>\n",
       "      <td>in the 22nd century, a paraplegic marine is di...</td>\n",
       "    </tr>\n",
       "    <tr>\n",
       "      <th>1</th>\n",
       "      <td>285</td>\n",
       "      <td>Pirates of the Caribbean: At World's End</td>\n",
       "      <td>captain barbossa, long believed to be dead, ha...</td>\n",
       "    </tr>\n",
       "  </tbody>\n",
       "</table>\n",
       "</div>"
      ],
      "text/plain": [
       "      id                                     title  \\\n",
       "0  19995                                    Avatar   \n",
       "1    285  Pirates of the Caribbean: At World's End   \n",
       "\n",
       "                                                tags  \n",
       "0  in the 22nd century, a paraplegic marine is di...  \n",
       "1  captain barbossa, long believed to be dead, ha...  "
      ]
     },
     "execution_count": 39,
     "metadata": {},
     "output_type": "execute_result"
    }
   ],
   "source": [
    "movies_new['tags'] = movies_new['tags'].apply(lambda x: \" \".join(x))\n",
    "movies_new.head(2)"
   ]
  },
  {
   "cell_type": "code",
   "execution_count": 40,
   "id": "bc8c50cd-b92d-4c03-99e3-d294b2da0f27",
   "metadata": {},
   "outputs": [
    {
     "data": {
      "text/plain": [
       "'in the 22nd century, a paraplegic marine is dispatched to the moon pandora on a unique mission, but becomes torn between following orders and protecting an alien civilization. action adventure fantasy sciencefiction cultureclash future spacewar spacecolony society spacetravel futuristic romance space alien tribe alienplanet cgi marine soldier battle loveaffair antiwar powerrelations mindandsoul 3d samworthington zoesaldana sigourneyweaver stephenlang jamescameron ingeniousfilmpartners twentiethcenturyfoxfilmcorporation duneentertainment lightstormentertainment'"
      ]
     },
     "execution_count": 40,
     "metadata": {},
     "output_type": "execute_result"
    }
   ],
   "source": [
    "movies_new['tags'].iloc[0]"
   ]
  },
  {
   "cell_type": "code",
   "execution_count": 41,
   "id": "48f1acc8-480d-4deb-9f13-dc1aa891889c",
   "metadata": {},
   "outputs": [
    {
     "data": {
      "text/plain": [
       "\"captain barbossa, long believed to be dead, has come back to life and is headed to the edge of the earth with will turner and elizabeth swann. but nothing is quite as it seems. adventure fantasy action ocean drugabuse exoticisland eastindiatradingcompany loveofone'slife traitor shipwreck strongwoman ship alliance calypso afterlife fighter pirate swashbuckler aftercreditsstinger johnnydepp orlandobloom keiraknightley stellanskarsgård goreverbinski waltdisneypictures jerrybruckheimerfilms secondmateproductions\""
      ]
     },
     "execution_count": 41,
     "metadata": {},
     "output_type": "execute_result"
    }
   ],
   "source": [
    "movies_new['tags'].iloc[1]"
   ]
  },
  {
   "cell_type": "markdown",
   "id": "4d64e87d-c761-4002-bb3c-589ac8e735b7",
   "metadata": {},
   "source": [
    "## Remove Stop Words from the tags"
   ]
  },
  {
   "cell_type": "code",
   "execution_count": 42,
   "id": "d3abfe6f-c2c5-4c49-955e-c026203feb7b",
   "metadata": {},
   "outputs": [
    {
     "name": "stderr",
     "output_type": "stream",
     "text": [
      "[nltk_data] Downloading package stopwords to\n",
      "[nltk_data]     C:\\Users\\prana\\AppData\\Roaming\\nltk_data...\n",
      "[nltk_data]   Package stopwords is already up-to-date!\n",
      "[nltk_data] Downloading package punkt to\n",
      "[nltk_data]     C:\\Users\\prana\\AppData\\Roaming\\nltk_data...\n",
      "[nltk_data]   Package punkt is already up-to-date!\n"
     ]
    },
    {
     "data": {
      "text/plain": [
       "True"
      ]
     },
     "execution_count": 42,
     "metadata": {},
     "output_type": "execute_result"
    }
   ],
   "source": [
    "import nltk\n",
    "from nltk.corpus import stopwords\n",
    "from nltk.tokenize import word_tokenize\n",
    "\n",
    "nltk.download('stopwords')\n",
    "nltk.download('punkt')"
   ]
  },
  {
   "cell_type": "code",
   "execution_count": 43,
   "id": "7f9f07fc-906f-4ee6-84da-8e6cb199c456",
   "metadata": {},
   "outputs": [],
   "source": [
    "def remove_stopwords(input_string):\n",
    "    stop_words = set(stopwords.words('english'))\n",
    "    words = word_tokenize(input_string)\n",
    "    filtered_words = [word for word in words if word.lower() not in stop_words]\n",
    "    return ' '.join(filtered_words)"
   ]
  },
  {
   "cell_type": "code",
   "execution_count": 44,
   "id": "b503388f-46a9-4cc8-ab67-e196ecd0ba5c",
   "metadata": {},
   "outputs": [
    {
     "data": {
      "text/html": [
       "<div>\n",
       "<style scoped>\n",
       "    .dataframe tbody tr th:only-of-type {\n",
       "        vertical-align: middle;\n",
       "    }\n",
       "\n",
       "    .dataframe tbody tr th {\n",
       "        vertical-align: top;\n",
       "    }\n",
       "\n",
       "    .dataframe thead th {\n",
       "        text-align: right;\n",
       "    }\n",
       "</style>\n",
       "<table border=\"1\" class=\"dataframe\">\n",
       "  <thead>\n",
       "    <tr style=\"text-align: right;\">\n",
       "      <th></th>\n",
       "      <th>id</th>\n",
       "      <th>title</th>\n",
       "      <th>tags</th>\n",
       "    </tr>\n",
       "  </thead>\n",
       "  <tbody>\n",
       "    <tr>\n",
       "      <th>0</th>\n",
       "      <td>19995</td>\n",
       "      <td>Avatar</td>\n",
       "      <td>22nd century , paraplegic marine dispatched mo...</td>\n",
       "    </tr>\n",
       "    <tr>\n",
       "      <th>1</th>\n",
       "      <td>285</td>\n",
       "      <td>Pirates of the Caribbean: At World's End</td>\n",
       "      <td>captain barbossa , long believed dead , come b...</td>\n",
       "    </tr>\n",
       "    <tr>\n",
       "      <th>2</th>\n",
       "      <td>206647</td>\n",
       "      <td>Spectre</td>\n",
       "      <td>cryptic message bond ’ past sends trail uncove...</td>\n",
       "    </tr>\n",
       "  </tbody>\n",
       "</table>\n",
       "</div>"
      ],
      "text/plain": [
       "       id                                     title  \\\n",
       "0   19995                                    Avatar   \n",
       "1     285  Pirates of the Caribbean: At World's End   \n",
       "2  206647                                   Spectre   \n",
       "\n",
       "                                                tags  \n",
       "0  22nd century , paraplegic marine dispatched mo...  \n",
       "1  captain barbossa , long believed dead , come b...  \n",
       "2  cryptic message bond ’ past sends trail uncove...  "
      ]
     },
     "execution_count": 44,
     "metadata": {},
     "output_type": "execute_result"
    }
   ],
   "source": [
    "movies_new['tags']=movies_new['tags'].apply(remove_stopwords)\n",
    "movies_new.head(3)"
   ]
  },
  {
   "cell_type": "markdown",
   "id": "bf6c9f24-747f-4d84-af67-9e5b93fe0d33",
   "metadata": {},
   "source": [
    "## Apply Steemer on the tags"
   ]
  },
  {
   "cell_type": "code",
   "execution_count": 45,
   "id": "0ac44904-7069-4f42-9beb-e3b880fc0538",
   "metadata": {},
   "outputs": [],
   "source": [
    "import nltk\n",
    "from nltk.stem.porter import PorterStemmer\n",
    "ps=PorterStemmer()"
   ]
  },
  {
   "cell_type": "code",
   "execution_count": 46,
   "id": "b42bde07-f968-4666-9a41-7e238db314ca",
   "metadata": {},
   "outputs": [
    {
     "data": {
      "text/plain": [
       "('action', 'action', 'action', 'action')"
      ]
     },
     "execution_count": 46,
     "metadata": {},
     "output_type": "execute_result"
    }
   ],
   "source": [
    "ps.stem('action'),ps.stem('actioned'),ps.stem('actions'),ps.stem('actioning')"
   ]
  },
  {
   "cell_type": "code",
   "execution_count": 47,
   "id": "a53c0c83-c0cd-428e-94ef-9e2636e9a75e",
   "metadata": {},
   "outputs": [
    {
     "data": {
      "text/plain": [
       "('danc', 'danc', 'danc')"
      ]
     },
     "execution_count": 47,
     "metadata": {},
     "output_type": "execute_result"
    }
   ],
   "source": [
    "ps.stem('dance'),ps.stem('dancing'),ps.stem('danced')"
   ]
  },
  {
   "cell_type": "code",
   "execution_count": 48,
   "id": "f1a1fcf6-f322-4b96-a6d6-94a7111e4c43",
   "metadata": {},
   "outputs": [],
   "source": [
    "def stem_text(text):\n",
    "    y=[]\n",
    "    for i in text.split():\n",
    "        stem_word=ps.stem(i)\n",
    "        y.append(stem_word)\n",
    "\n",
    "    # Convert List into a String\n",
    "    return \" \".join(y)"
   ]
  },
  {
   "cell_type": "code",
   "execution_count": 49,
   "id": "33b35fb1-7756-433c-9739-6ccfc11b33ca",
   "metadata": {},
   "outputs": [
    {
     "data": {
      "text/html": [
       "<div>\n",
       "<style scoped>\n",
       "    .dataframe tbody tr th:only-of-type {\n",
       "        vertical-align: middle;\n",
       "    }\n",
       "\n",
       "    .dataframe tbody tr th {\n",
       "        vertical-align: top;\n",
       "    }\n",
       "\n",
       "    .dataframe thead th {\n",
       "        text-align: right;\n",
       "    }\n",
       "</style>\n",
       "<table border=\"1\" class=\"dataframe\">\n",
       "  <thead>\n",
       "    <tr style=\"text-align: right;\">\n",
       "      <th></th>\n",
       "      <th>id</th>\n",
       "      <th>title</th>\n",
       "      <th>tags</th>\n",
       "    </tr>\n",
       "  </thead>\n",
       "  <tbody>\n",
       "    <tr>\n",
       "      <th>0</th>\n",
       "      <td>19995</td>\n",
       "      <td>Avatar</td>\n",
       "      <td>22nd centuri , parapleg marin dispatch moon pa...</td>\n",
       "    </tr>\n",
       "    <tr>\n",
       "      <th>1</th>\n",
       "      <td>285</td>\n",
       "      <td>Pirates of the Caribbean: At World's End</td>\n",
       "      <td>captain barbossa , long believ dead , come bac...</td>\n",
       "    </tr>\n",
       "    <tr>\n",
       "      <th>2</th>\n",
       "      <td>206647</td>\n",
       "      <td>Spectre</td>\n",
       "      <td>cryptic messag bond ’ past send trail uncov si...</td>\n",
       "    </tr>\n",
       "  </tbody>\n",
       "</table>\n",
       "</div>"
      ],
      "text/plain": [
       "       id                                     title  \\\n",
       "0   19995                                    Avatar   \n",
       "1     285  Pirates of the Caribbean: At World's End   \n",
       "2  206647                                   Spectre   \n",
       "\n",
       "                                                tags  \n",
       "0  22nd centuri , parapleg marin dispatch moon pa...  \n",
       "1  captain barbossa , long believ dead , come bac...  \n",
       "2  cryptic messag bond ’ past send trail uncov si...  "
      ]
     },
     "execution_count": 49,
     "metadata": {},
     "output_type": "execute_result"
    }
   ],
   "source": [
    "movies_new['tags']=movies_new['tags'].apply(stem_text)\n",
    "movies_new.head(3)"
   ]
  },
  {
   "cell_type": "markdown",
   "id": "021b5a78-841f-4bb6-bf1b-513468a6e2de",
   "metadata": {},
   "source": [
    "### We have to Calculate the Similarity Score between the Two text\n",
    "1. We can count Number of similar words in order to know how much both the movie are related\n",
    "2. or Perform Vecterization"
   ]
  },
  {
   "cell_type": "markdown",
   "id": "747ebeed-b219-46d4-9f29-330dfc572ccf",
   "metadata": {},
   "source": [
    "## 1. Count Number of Common Word between two Movies"
   ]
  },
  {
   "cell_type": "code",
   "execution_count": 50,
   "id": "01836a82-dff6-491f-8bdd-3fe3ee78410e",
   "metadata": {},
   "outputs": [],
   "source": [
    "def common_word_count(str1, str2, i):\n",
    "    \n",
    "    # Tokenize the strings into words\n",
    "    words1 = set(str1.split())\n",
    "    words2 = set(str2.split())\n",
    "    \n",
    "    # Find the intersection of the two sets\n",
    "    common_words = words1.intersection(words2)\n",
    "    \n",
    "    # Calculate the count of common words\n",
    "    count_common_words = len(common_words)\n",
    "    \n",
    "    return count_common_words"
   ]
  },
  {
   "cell_type": "markdown",
   "id": "c480e1d5-2c26-4823-9c6f-452277bdfe31",
   "metadata": {},
   "source": [
    "### Generate a Random Movie Index (Methode 1)"
   ]
  },
  {
   "cell_type": "code",
   "execution_count": 51,
   "id": "b70b3182-dcec-45bf-8f6c-9699ae3d6c57",
   "metadata": {},
   "outputs": [
    {
     "name": "stdout",
     "output_type": "stream",
     "text": [
      "3510\n"
     ]
    }
   ],
   "source": [
    "import random\n",
    "\n",
    "random_movie = random.randint(0, 4805)\n",
    "print(random_movie)"
   ]
  },
  {
   "cell_type": "code",
   "execution_count": 52,
   "id": "953185d6-633f-442a-9dba-9b1e77878d03",
   "metadata": {},
   "outputs": [
    {
     "data": {
      "text/plain": [
       "id                                                   35689\n",
       "title                                            Don McKay\n",
       "tags     everyth appear off-kilt man return hometown 25...\n",
       "Name: 3510, dtype: object"
      ]
     },
     "execution_count": 52,
     "metadata": {},
     "output_type": "execute_result"
    }
   ],
   "source": [
    "movies_new.iloc[random_movie]"
   ]
  },
  {
   "cell_type": "code",
   "execution_count": 53,
   "id": "ec38c8d4-1383-41f3-97e2-0bada3a689a3",
   "metadata": {},
   "outputs": [
    {
     "data": {
      "text/html": [
       "<div>\n",
       "<style scoped>\n",
       "    .dataframe tbody tr th:only-of-type {\n",
       "        vertical-align: middle;\n",
       "    }\n",
       "\n",
       "    .dataframe tbody tr th {\n",
       "        vertical-align: top;\n",
       "    }\n",
       "\n",
       "    .dataframe thead th {\n",
       "        text-align: right;\n",
       "    }\n",
       "</style>\n",
       "<table border=\"1\" class=\"dataframe\">\n",
       "  <thead>\n",
       "    <tr style=\"text-align: right;\">\n",
       "      <th></th>\n",
       "      <th>id</th>\n",
       "      <th>title</th>\n",
       "      <th>tags</th>\n",
       "    </tr>\n",
       "  </thead>\n",
       "  <tbody>\n",
       "    <tr>\n",
       "      <th>3510</th>\n",
       "      <td>35689</td>\n",
       "      <td>Don McKay</td>\n",
       "      <td>everyth appear off-kilt man return hometown 25...</td>\n",
       "    </tr>\n",
       "  </tbody>\n",
       "</table>\n",
       "</div>"
      ],
      "text/plain": [
       "         id      title                                               tags\n",
       "3510  35689  Don McKay  everyth appear off-kilt man return hometown 25..."
      ]
     },
     "execution_count": 53,
     "metadata": {},
     "output_type": "execute_result"
    }
   ],
   "source": [
    "movies_new.iloc[random_movie]\n",
    "movies_new[movies_new.index==random_movie]"
   ]
  },
  {
   "cell_type": "code",
   "execution_count": 54,
   "id": "d608cd97-73db-42da-afc2-f8236308cd26",
   "metadata": {},
   "outputs": [
    {
     "data": {
      "text/plain": [
       "'everyth appear off-kilt man return hometown 25 year visit former lover . crime mysteri thriller independentfilm thomashadenchurch elisabethshu melissaleo m.emmetwalsh jakegoldberg animusfilm'"
      ]
     },
     "execution_count": 54,
     "metadata": {},
     "output_type": "execute_result"
    }
   ],
   "source": [
    "movies_new['tags'].iloc[random_movie]"
   ]
  },
  {
   "cell_type": "markdown",
   "id": "fbb598da-9143-4683-bd2c-79aa8024386b",
   "metadata": {},
   "source": [
    "### Search Movie by Name (Methode 2)"
   ]
  },
  {
   "cell_type": "code",
   "execution_count": 55,
   "id": "b6a5eb66-4292-482a-bdc8-cb5a35f54b50",
   "metadata": {},
   "outputs": [
    {
     "data": {
      "text/html": [
       "<div>\n",
       "<style scoped>\n",
       "    .dataframe tbody tr th:only-of-type {\n",
       "        vertical-align: middle;\n",
       "    }\n",
       "\n",
       "    .dataframe tbody tr th {\n",
       "        vertical-align: top;\n",
       "    }\n",
       "\n",
       "    .dataframe thead th {\n",
       "        text-align: right;\n",
       "    }\n",
       "</style>\n",
       "<table border=\"1\" class=\"dataframe\">\n",
       "  <thead>\n",
       "    <tr style=\"text-align: right;\">\n",
       "      <th></th>\n",
       "      <th>id</th>\n",
       "      <th>title</th>\n",
       "      <th>tags</th>\n",
       "    </tr>\n",
       "  </thead>\n",
       "  <tbody>\n",
       "    <tr>\n",
       "      <th>0</th>\n",
       "      <td>19995</td>\n",
       "      <td>Avatar</td>\n",
       "      <td>22nd centuri , parapleg marin dispatch moon pa...</td>\n",
       "    </tr>\n",
       "  </tbody>\n",
       "</table>\n",
       "</div>"
      ],
      "text/plain": [
       "      id   title                                               tags\n",
       "0  19995  Avatar  22nd centuri , parapleg marin dispatch moon pa..."
      ]
     },
     "execution_count": 55,
     "metadata": {},
     "output_type": "execute_result"
    }
   ],
   "source": [
    "movie_name='Avatar'\n",
    "movies_new[movies_new['title']==movie_name]"
   ]
  },
  {
   "cell_type": "code",
   "execution_count": 56,
   "id": "326a16f5-96ca-48f4-82a4-97f6df72f199",
   "metadata": {},
   "outputs": [
    {
     "data": {
      "text/plain": [
       "0"
      ]
     },
     "execution_count": 56,
     "metadata": {},
     "output_type": "execute_result"
    }
   ],
   "source": [
    "movies_new[movies_new['title']==movie_name].index[0]"
   ]
  },
  {
   "cell_type": "code",
   "execution_count": 57,
   "id": "968c294a-e45d-40db-bdba-243720933713",
   "metadata": {},
   "outputs": [],
   "source": [
    "random_movie=movies_new[movies_new['title']==movie_name].index[0]"
   ]
  },
  {
   "cell_type": "code",
   "execution_count": 58,
   "id": "66c3fc00-c245-470d-a7e5-0c83dd7b4002",
   "metadata": {},
   "outputs": [
    {
     "data": {
      "text/plain": [
       "'22nd centuri , parapleg marin dispatch moon pandora uniqu mission , becom torn follow order protect alien civil . action adventur fantasi sciencefict cultureclash futur spacewar spacecoloni societi spacetravel futurist romanc space alien tribe alienplanet cgi marin soldier battl loveaffair antiwar powerrel mindandsoul 3d samworthington zoesaldana sigourneyweav stephenlang jamescameron ingeniousfilmpartn twentiethcenturyfoxfilmcorpor duneentertain lightstormentertain'"
      ]
     },
     "execution_count": 58,
     "metadata": {},
     "output_type": "execute_result"
    }
   ],
   "source": [
    "movies_new['tags'].iloc[random_movie]"
   ]
  },
  {
   "cell_type": "markdown",
   "id": "97ae4348-b647-4a67-b9d2-4e4c1fa2d8a6",
   "metadata": {},
   "source": [
    "## Recommendation"
   ]
  },
  {
   "cell_type": "code",
   "execution_count": 59,
   "id": "af724fe7-420c-4e71-a414-faf9c12a3a89",
   "metadata": {},
   "outputs": [
    {
     "name": "stdout",
     "output_type": "stream",
     "text": [
      "[{'name': 'Star Trek Into Darkness', 'count': 11}, {'name': 'Aliens', 'count': 11}, {'name': 'Jupiter Ascending', 'count': 10}, {'name': 'Independence Day', 'count': 10}, {'name': 'Predators', 'count': 10}, {'name': 'Aliens vs Predator: Requiem', 'count': 10}, {'name': 'John Carter', 'count': 9}, {'name': 'Green Lantern', 'count': 9}, {'name': 'Captain America: The Winter Soldier', 'count': 9}, {'name': 'X-Men Origins: Wolverine', 'count': 9}]\n"
     ]
    }
   ],
   "source": [
    "# Initialize a list to store dictionaries with movie names and counts\n",
    "similarities = []\n",
    "for i in range(0,4805):\n",
    "    if i!=random_movie:\n",
    "        word_count=common_word_count(movies_new['tags'].iloc[i],movies_new['tags'].iloc[random_movie],i)\n",
    "        # Create a dictionary with movie name and count of common words\n",
    "        similarity_dict = {'name':movies_new['title'].iloc[i] , 'count': word_count}\n",
    "        # Append the dictionary to the list\n",
    "        similarities.append(similarity_dict)\n",
    "        \n",
    "# Sort the list based on the count in descending order\n",
    "similarities.sort(key=lambda x: x['count'], reverse=True)\n",
    "\n",
    "# Take the top five movies\n",
    "top_five_movies = similarities[:10]\n",
    "\n",
    "# Print the result\n",
    "print(top_five_movies)"
   ]
  },
  {
   "cell_type": "markdown",
   "id": "5ad38d16-d837-4932-baef-9623669f9d3b",
   "metadata": {},
   "source": [
    "### We need Only Name of the Movie"
   ]
  },
  {
   "cell_type": "code",
   "execution_count": 60,
   "id": "b16e42d3-72f6-4241-84d9-9a313ddafbba",
   "metadata": {},
   "outputs": [
    {
     "name": "stdout",
     "output_type": "stream",
     "text": [
      "Star Trek Into Darkness\n",
      "Aliens\n",
      "Jupiter Ascending\n",
      "Independence Day\n",
      "Predators\n",
      "Aliens vs Predator: Requiem\n",
      "John Carter\n",
      "Green Lantern\n",
      "Captain America: The Winter Soldier\n",
      "X-Men Origins: Wolverine\n"
     ]
    }
   ],
   "source": [
    "for i in range(0,10):\n",
    "     print(similarities[i]['name'])\n",
    "    "
   ]
  },
  {
   "cell_type": "markdown",
   "id": "4c24b26e-4614-4b74-b7e1-381cfd95bb1a",
   "metadata": {},
   "source": [
    "### 2. Convert text to vector (Vecterization)"
   ]
  },
  {
   "cell_type": "code",
   "execution_count": 61,
   "id": "f272aa8a-e759-4131-a35a-602fd59c8e22",
   "metadata": {},
   "outputs": [
    {
     "data": {
      "text/plain": [
       "'22nd centuri , parapleg marin dispatch moon pandora uniqu mission , becom torn follow order protect alien civil . action adventur fantasi sciencefict cultureclash futur spacewar spacecoloni societi spacetravel futurist romanc space alien tribe alienplanet cgi marin soldier battl loveaffair antiwar powerrel mindandsoul 3d samworthington zoesaldana sigourneyweav stephenlang jamescameron ingeniousfilmpartn twentiethcenturyfoxfilmcorpor duneentertain lightstormentertain'"
      ]
     },
     "execution_count": 61,
     "metadata": {},
     "output_type": "execute_result"
    }
   ],
   "source": [
    "movies_new['tags'].iloc[0]"
   ]
  },
  {
   "cell_type": "code",
   "execution_count": 62,
   "id": "fd3cca20-d80f-4375-b903-a0b7982f7376",
   "metadata": {},
   "outputs": [
    {
     "data": {
      "text/plain": [
       "\"captain barbossa , long believ dead , come back life head edg earth turner elizabeth swann . noth quit seem . adventur fantasi action ocean drugabus exoticisland eastindiatradingcompani loveofone'slif traitor shipwreck strongwoman ship allianc calypso afterlif fighter pirat swashbuckl aftercreditssting johnnydepp orlandobloom keiraknightley stellanskarsgård goreverbinski waltdisneypictur jerrybruckheimerfilm secondmateproduct\""
      ]
     },
     "execution_count": 62,
     "metadata": {},
     "output_type": "execute_result"
    }
   ],
   "source": [
    "movies_new['tags'].iloc[1]"
   ]
  },
  {
   "cell_type": "markdown",
   "id": "c44b87ad-8c8f-4b91-9742-a8f0b60e013b",
   "metadata": {},
   "source": [
    "### We have to Compare two movies on the basis of their \"tags\", So We convert \"tags\" of the movie into a vector in order two calculate Similarity Score between individual movies"
   ]
  },
  {
   "cell_type": "code",
   "execution_count": 63,
   "id": "0b9659d0-91f5-477f-8ee1-127e1a6667e5",
   "metadata": {},
   "outputs": [],
   "source": [
    "from sklearn.feature_extraction.text import CountVectorizer\n",
    "cv = CountVectorizer(max_features=5000,stop_words='english')"
   ]
  },
  {
   "cell_type": "code",
   "execution_count": 64,
   "id": "73ef9093-e45d-41f9-9db8-660dbaab43ae",
   "metadata": {},
   "outputs": [],
   "source": [
    "# Here we take all the movie tags and from that we Will extract 5000 most frequent Words\n",
    "# tags 1 + tags2 + tags3 + tags4 + ............(All Movies tags(4806 movies))\n",
    "vector = cv.fit_transform(movies_new['tags']).toarray()"
   ]
  },
  {
   "cell_type": "code",
   "execution_count": 65,
   "id": "0f86b9c4-dc8b-446f-82cf-14360bfe8e17",
   "metadata": {},
   "outputs": [
    {
     "data": {
      "text/plain": [
       "(4806, 5000)"
      ]
     },
     "execution_count": 65,
     "metadata": {},
     "output_type": "execute_result"
    }
   ],
   "source": [
    "# Shape---> (Total Number of movies X Total Number of Most Common Words)\n",
    "vector.shape"
   ]
  },
  {
   "cell_type": "code",
   "execution_count": 66,
   "id": "d81ba64a-6e81-4385-b81b-e871f3b64c55",
   "metadata": {},
   "outputs": [
    {
     "data": {
      "text/plain": [
       "array([[0, 0, 0, ..., 0, 0, 0],\n",
       "       [0, 0, 0, ..., 0, 0, 0],\n",
       "       [0, 0, 0, ..., 0, 0, 0],\n",
       "       ...,\n",
       "       [0, 0, 0, ..., 0, 0, 0],\n",
       "       [0, 0, 0, ..., 0, 0, 0],\n",
       "       [0, 0, 0, ..., 0, 0, 0]], dtype=int64)"
      ]
     },
     "execution_count": 66,
     "metadata": {},
     "output_type": "execute_result"
    }
   ],
   "source": [
    "vector"
   ]
  },
  {
   "cell_type": "code",
   "execution_count": 67,
   "id": "c7d9cfc7-1047-4c33-98d8-b0bc8205df0a",
   "metadata": {},
   "outputs": [
    {
     "data": {
      "text/plain": [
       "array([0, 0, 0, ..., 0, 0, 0], dtype=int64)"
      ]
     },
     "execution_count": 67,
     "metadata": {},
     "output_type": "execute_result"
    }
   ],
   "source": [
    "# It is For Movie \"Avatar\", It contain lots of Zero's because all 5000 words are can't be present in single movie.\n",
    "vector[0]"
   ]
  },
  {
   "cell_type": "code",
   "execution_count": 68,
   "id": "acdf145f-a0d2-4e5b-91d5-85080face334",
   "metadata": {},
   "outputs": [
    {
     "data": {
      "text/plain": [
       "array([0, 0, 0, ..., 0, 0, 0], dtype=int64)"
      ]
     },
     "execution_count": 68,
     "metadata": {},
     "output_type": "execute_result"
    }
   ],
   "source": [
    "# It is For Movie \"Batman Begins\", It contain lots of Zero's because all 5000 words are can't be present in single movie.\n",
    "vector[119]"
   ]
  },
  {
   "cell_type": "code",
   "execution_count": 69,
   "id": "c2102586-8f68-428e-ab52-acb57de69cdb",
   "metadata": {},
   "outputs": [
    {
     "data": {
      "text/plain": [
       "array(['000', '007', '10', ..., 'zone', 'zoo', 'zooeydeschanel'],\n",
       "      dtype=object)"
      ]
     },
     "execution_count": 69,
     "metadata": {},
     "output_type": "execute_result"
    }
   ],
   "source": [
    "# Numeric value may represent movies of 1930s or 1920s\n",
    "# 5000 most frequent Words\n",
    "cv.get_feature_names_out()"
   ]
  },
  {
   "cell_type": "code",
   "execution_count": 70,
   "id": "add007de-68ea-47be-9a06-00b0ff8c6adb",
   "metadata": {},
   "outputs": [
    {
     "data": {
      "text/plain": [
       "5000"
      ]
     },
     "execution_count": 70,
     "metadata": {},
     "output_type": "execute_result"
    }
   ],
   "source": [
    "# 5000 most frequent Words\n",
    "len(cv.get_feature_names_out())"
   ]
  },
  {
   "cell_type": "code",
   "execution_count": 71,
   "id": "3794e022-0952-4963-9473-b80506ba0abc",
   "metadata": {},
   "outputs": [],
   "source": [
    "from sklearn.metrics.pairwise import cosine_similarity"
   ]
  },
  {
   "cell_type": "code",
   "execution_count": 72,
   "id": "7c521f82-a2e3-45c1-bfff-771fdce48b4b",
   "metadata": {},
   "outputs": [
    {
     "data": {
      "text/plain": [
       "(4806, 4806)"
      ]
     },
     "execution_count": 72,
     "metadata": {},
     "output_type": "execute_result"
    }
   ],
   "source": [
    "# Here We have Total 4806 movie \n",
    "# Here we find Cosine Similarity between a Particular movie and all other movie\n",
    "# Thats why size of the matrix becomes 4806 X 4806\n",
    "cosine_similarity(vector).shape"
   ]
  },
  {
   "cell_type": "code",
   "execution_count": 73,
   "id": "e9de9c0b-32d6-4d45-97b5-2f790e089683",
   "metadata": {},
   "outputs": [
    {
     "data": {
      "text/plain": [
       "array([[1.        , 0.07808688, 0.07919455, ..., 0.06205716, 0.02328101,\n",
       "        0.        ],\n",
       "       [0.07808688, 1.        , 0.05634362, ..., 0.02207554, 0.        ,\n",
       "        0.        ],\n",
       "       [0.07919455, 0.05634362, 1.        , ..., 0.04477737, 0.        ,\n",
       "        0.        ],\n",
       "       ...,\n",
       "       [0.06205716, 0.02207554, 0.04477737, ..., 1.        , 0.05923489,\n",
       "        0.04039786],\n",
       "       [0.02328101, 0.        , 0.        , ..., 0.05923489, 1.        ,\n",
       "        0.04546629],\n",
       "       [0.        , 0.        , 0.        , ..., 0.04039786, 0.04546629,\n",
       "        1.        ]])"
      ]
     },
     "execution_count": 73,
     "metadata": {},
     "output_type": "execute_result"
    }
   ],
   "source": [
    "similarity_matrix = cosine_similarity(vector)\n",
    "similarity_matrix "
   ]
  },
  {
   "cell_type": "code",
   "execution_count": 74,
   "id": "3c16bb99-7eda-4f8d-8abe-1dc9cbf7d010",
   "metadata": {},
   "outputs": [
    {
     "data": {
      "text/plain": [
       "array([1.        , 0.07808688, 0.07919455, ..., 0.06205716, 0.02328101,\n",
       "       0.        ])"
      ]
     },
     "execution_count": 74,
     "metadata": {},
     "output_type": "execute_result"
    }
   ],
   "source": [
    "# It is For Movie \"Avatar\", Cosine Similarity between movie \"Avatar\" and All other Movies\n",
    "similarity_matrix[0]"
   ]
  },
  {
   "cell_type": "code",
   "execution_count": 75,
   "id": "6fe29c61-346d-4da8-84a2-6fc32225db57",
   "metadata": {},
   "outputs": [
    {
     "data": {
      "text/plain": [
       "array([0.07808688, 1.        , 0.05634362, ..., 0.02207554, 0.        ,\n",
       "       0.        ])"
      ]
     },
     "execution_count": 75,
     "metadata": {},
     "output_type": "execute_result"
    }
   ],
   "source": [
    "# It is For Movie \"Batman Begins\", Cosine Similarity between movie \"Batman Begins\" and All other Movies\n",
    "similarity_matrix[1]"
   ]
  },
  {
   "cell_type": "code",
   "execution_count": 76,
   "id": "f99b35ee-b05e-4492-a840-30ff64ce5c27",
   "metadata": {},
   "outputs": [
    {
     "data": {
      "text/plain": [
       "[(0, 0.07808688094430304),\n",
       " (1, 1.0000000000000002),\n",
       " (2, 0.0563436169819011),\n",
       " (3, 0.018294043331615058),\n",
       " (4, 0.09622504486493763),\n",
       " (5, 0.10849075915068657),\n",
       " (6, 0.03849001794597504),\n",
       " (7, 0.1414213562373095),\n",
       " (8, 0.05892556509887895),\n",
       " (9, 0.08753762190648169),\n",
       " (10, 0.07808688094430304),\n",
       " (11, 0.07216878364870322),\n",
       " (12, 0.4789474720713996),\n",
       " (13, 0.12803687993289598),\n",
       " (14, 0.10411584125907071),\n",
       " (15, 0.09072184232530289),\n",
       " (16, 0.07715167498104596),\n",
       " (17, 0.2894143807081531),\n",
       " (18, 0.060633906259083235),\n",
       " (19, 0.09820927516479827),\n",
       " (20, 0.07231015260621872),\n",
       " (21, 0.05555555555555555),\n",
       " (22, 0.05892556509887895),\n",
       " (23, 0.08703882797784893),\n",
       " (24, 0.13344012817090595),\n",
       " (25, 0.10482848367219183),\n",
       " (26, 0.09938079899999065),\n",
       " (27, 0.08679260732054925),\n",
       " (28, 0.05555555555555555),\n",
       " (29, 0.043396303660274624),\n",
       " (30, 0.11446713662390752),\n",
       " (31, 0.09284766908852593),\n",
       " (32, 0.10257624248277726),\n",
       " (33, 0.08451542547285165),\n",
       " (34, 0.06189844605901729),\n",
       " (35, 0.08333333333333333),\n",
       " (36, 0.0629940788348712),\n",
       " (37, 0.07715167498104596),\n",
       " (38, 0.10105651043180539),\n",
       " (39, 0.08219949365267865),\n",
       " (40, 0.10540925533894598),\n",
       " (41, 0.06804138174397717),\n",
       " (42, 0.0222717701593687),\n",
       " (43, 0.045360921162651446),\n",
       " (44, 0.03268602252303067),\n",
       " (45, 0.06154574548966636),\n",
       " (46, 0.10286889997472794),\n",
       " (47, 0.08084520834544431),\n",
       " (48, 0.10180787029692101),\n",
       " (49, 0.027777777777777776),\n",
       " (50, 0.13699915608779772),\n",
       " (51, 0.03849001794597504),\n",
       " (52, 0.07453559924999299),\n",
       " (53, 0.0668153104781061),\n",
       " (54, 0.06085806194501845),\n",
       " (55, 0.08735706972682653),\n",
       " (56, 0.06666666666666667),\n",
       " (57, 0.10540925533894598),\n",
       " (58, 0.08989331499509895),\n",
       " (59, 0.0878410461157883),\n",
       " (60, 0.0),\n",
       " (61, 0.12830005981991682),\n",
       " (62, 0.10910894511799618),\n",
       " (63, 0.044946657497549475),\n",
       " (64, 0.027399831217559546),\n",
       " (65, 0.01911797782254681),\n",
       " (66, 0.11556254088025605),\n",
       " (67, 0.05479966243511909),\n",
       " (68, 0.09128709291752768),\n",
       " (69, 0.0629940788348712),\n",
       " (70, 0.050251890762960605),\n",
       " (71, 0.09938079899999065),\n",
       " (72, 0.10166571355506977),\n",
       " (73, 0.030949223029508643),\n",
       " (74, 0.022893427324781505),\n",
       " (75, 0.15811388300841897),\n",
       " (76, 0.047619047619047616),\n",
       " (77, 0.0549857399228215),\n",
       " (78, 0.07293249574894728),\n",
       " (79, 0.11904761904761904),\n",
       " (80, 0.0335012605086404),\n",
       " (81, 0.09147021665807528),\n",
       " (82, 0.024310831916315757),\n",
       " (83, 0.06933752452815364),\n",
       " (84, 0.0802572353905128),\n",
       " (85, 0.11495508245250086),\n",
       " (86, 0.04914731871829904),\n",
       " (87, 0.05555555555555555),\n",
       " (88, 0.11433239009500587),\n",
       " (89, 0.02923526731023431),\n",
       " (90, 0.1217161238900369),\n",
       " (91, 0.13518451760896877),\n",
       " (92, 0.06509445549041193),\n",
       " (93, 0.046225016352102424),\n",
       " (94, 0.14291548761875733),\n",
       " (95, 0.045360921162651446),\n",
       " (96, 0.07808688094430304),\n",
       " (97, 0.09428090415820634),\n",
       " (98, 0.12422599874998831),\n",
       " (99, 0.053376051268362375),\n",
       " (100, 0.03268602252303067),\n",
       " (101, 0.04914731871829904),\n",
       " (102, 0.041666666666666664),\n",
       " (103, 0.12499999999999999),\n",
       " (104, 0.1388888888888889),\n",
       " (105, 0.12830005981991682),\n",
       " (106, 0.10499013139145198),\n",
       " (107, 0.06108472217815261),\n",
       " (108, 0.04578685464956301),\n",
       " (109, 0.17010345435994292),\n",
       " (110, 0.04578685464956301),\n",
       " (111, 0.07142857142857142),\n",
       " (112, 0.050251890762960605),\n",
       " (113, 0.047619047619047616),\n",
       " (114, 0.047619047619047616),\n",
       " (115, 0.09335200560186731),\n",
       " (116, 0.023112508176051212),\n",
       " (117, 0.08451542547285165),\n",
       " (118, 0.03300491809922248),\n",
       " (119, 0.043033148291193514),\n",
       " (120, 0.0),\n",
       " (121, 0.10050378152592121),\n",
       " (122, 0.10814761408717502),\n",
       " (123, 0.043768810953240846),\n",
       " (124, 0.0890870806374748),\n",
       " (125, 0.028903665650803996),\n",
       " (126, 0.10814761408717502),\n",
       " (127, 0.1125087900926024),\n",
       " (128, 0.05270462766947299),\n",
       " (129, 0.14586499149789456),\n",
       " (130, 0.05892556509887895),\n",
       " (131, 0.13176156917368248),\n",
       " (132, 0.06509445549041193),\n",
       " (133, 0.05892556509887895),\n",
       " (134, 0.06189844605901729),\n",
       " (135, 0.0),\n",
       " (136, 0.06933752452815364),\n",
       " (137, 0.01642215463607155),\n",
       " (138, 0.14433756729740646),\n",
       " (139, 0.07968190728895957),\n",
       " (140, 0.023570226039551584),\n",
       " (141, 0.029934217004462485),\n",
       " (142, 0.08451542547285165),\n",
       " (143, 0.1058334391668254),\n",
       " (144, 0.05143444998736397),\n",
       " (145, 0.06154574548966636),\n",
       " (146, 0.015089291007086421),\n",
       " (147, 0.05555555555555555),\n",
       " (148, 0.06189844605901729),\n",
       " (149, 0.08268982305947231),\n",
       " (150, 0.07911877721292354),\n",
       " (151, 0.06415002990995841),\n",
       " (152, 0.08333333333333333),\n",
       " (153, 0.03984095364447979),\n",
       " (154, 0.030429030972509225),\n",
       " (155, 0.0),\n",
       " (156, 0.04042260417272216),\n",
       " (157, 0.06415002990995841),\n",
       " (158, 0.06741998624632421),\n",
       " (159, 0.06189844605901729),\n",
       " (160, 0.06734350297014738),\n",
       " (161, 0.032075014954979206),\n",
       " (162, 0.0629940788348712),\n",
       " (163, 0.024056261216234408),\n",
       " (164, 0.08219949365267865),\n",
       " (165, 0.022473328748774737),\n",
       " (166, 0.049690399499995326),\n",
       " (167, 0.1496710850223124),\n",
       " (168, 0.10050378152592121),\n",
       " (169, 0.11135885079684349),\n",
       " (170, 0.041666666666666664),\n",
       " (171, 0.13699915608779772),\n",
       " (172, 0.06666666666666667),\n",
       " (173, 0.023112508176051212),\n",
       " (174, 0.07624928516630233),\n",
       " (175, 0.07001400420140048),\n",
       " (176, 0.0563436169819011),\n",
       " (177, 0.0),\n",
       " (178, 0.07216878364870322),\n",
       " (179, 0.036369648372665396),\n",
       " (180, 0.022075539284417398),\n",
       " (181, 0.0445435403187374),\n",
       " (182, 0.07715167498104596),\n",
       " (183, 0.05360562674188974),\n",
       " (184, 0.04914731871829904),\n",
       " (185, 0.025717224993681984),\n",
       " (186, 0.05773502691896257),\n",
       " (187, 0.18220272220337372),\n",
       " (188, 0.021166687833365082),\n",
       " (189, 0.07647191129018724),\n",
       " (190, 0.13749298523071757),\n",
       " (191, 0.1228682967957476),\n",
       " (192, 0.04714045207910317),\n",
       " (193, 0.12038585308576918),\n",
       " (194, 0.032075014954979206),\n",
       " (195, 0.05555555555555555),\n",
       " (196, 0.05479966243511909),\n",
       " (197, 0.0668153104781061),\n",
       " (198, 0.0563436169819011),\n",
       " (199, 0.331133089266261),\n",
       " (200, 0.034752402342845795),\n",
       " (201, 0.0),\n",
       " (202, 0.030949223029508643),\n",
       " (203, 0.050832856777534886),\n",
       " (204, 0.02457365935914952),\n",
       " (205, 0.07106690545187014),\n",
       " (206, 0.10336227882434039),\n",
       " (207, 0.05407380704358751),\n",
       " (208, 0.0944911182523068),\n",
       " (209, 0.09284766908852593),\n",
       " (210, 0.049690399499995326),\n",
       " (211, 0.024845199749997663),\n",
       " (212, 0.041030496993110906),\n",
       " (213, 0.040723148118768406),\n",
       " (214, 0.026688025634181187),\n",
       " (215, 0.08606629658238703),\n",
       " (216, 0.18257418583505536),\n",
       " (217, 0.06350006350009524),\n",
       " (218, 0.03823595564509362),\n",
       " (219, 0.057166195047502935),\n",
       " (220, 0.08574929257125441),\n",
       " (221, 0.044946657497549475),\n",
       " (222, 0.10257624248277726),\n",
       " (223, 0.052057920629535355),\n",
       " (224, 0.01950685786602176),\n",
       " (225, 0.047619047619047616),\n",
       " (226, 0.05892556509887895),\n",
       " (227, 0.10540925533894598),\n",
       " (228, 0.06741998624632421),\n",
       " (229, 0.036369648372665396),\n",
       " (230, 0.03928371006591931),\n",
       " (231, 0.022893427324781505),\n",
       " (232, 0.10675210253672475),\n",
       " (233, 0.06666666666666667),\n",
       " (234, 0.08679260732054925),\n",
       " (235, 0.049690399499995326),\n",
       " (236, 0.029934217004462485),\n",
       " (237, 0.06537204504606134),\n",
       " (238, 0.05455447255899809),\n",
       " (239, 0.03955938860646177),\n",
       " (240, 0.09335200560186731),\n",
       " (241, 0.07905694150420949),\n",
       " (242, 0.07624928516630233),\n",
       " (243, 0.0890870806374748),\n",
       " (244, 0.030949223029508643),\n",
       " (245, 0.0563436169819011),\n",
       " (246, 0.08084520834544431),\n",
       " (247, 0.029934217004462485),\n",
       " (248, 0.043396303660274624),\n",
       " (249, 0.06804138174397717),\n",
       " (250, 0.027777777777777776),\n",
       " (251, 0.0),\n",
       " (252, 0.041344911529736156),\n",
       " (253, 0.042333375666730164),\n",
       " (254, 0.045360921162651446),\n",
       " (255, 0.04914731871829904),\n",
       " (256, 0.034752402342845795),\n",
       " (257, 0.04914731871829904),\n",
       " (258, 0.016265001215808886),\n",
       " (259, 0.06189844605901729),\n",
       " (260, 0.08838834764831843),\n",
       " (261, 0.024056261216234408),\n",
       " (262, 0.11556254088025605),\n",
       " (263, 0.1),\n",
       " (264, 0.0),\n",
       " (265, 0.05270462766947299),\n",
       " (266, 0.0445435403187374),\n",
       " (267, 0.09284766908852593),\n",
       " (268, 0.053376051268362375),\n",
       " (269, 0.029462782549439476),\n",
       " (270, 0.06741998624632421),\n",
       " (271, 0.09245003270420485),\n",
       " (272, 0.0),\n",
       " (273, 0.08606629658238703),\n",
       " (274, 0.043193421279068),\n",
       " (275, 0.027036903521793755),\n",
       " (276, 0.1259881576697424),\n",
       " (277, 0.037742567804819854),\n",
       " (278, 0.046676002800933654),\n",
       " (279, 0.022680460581325723),\n",
       " (280, 0.05270462766947299),\n",
       " (281, 0.043033148291193514),\n",
       " (282, 0.027777777777777776),\n",
       " (283, 0.025717224993681984),\n",
       " (284, 0.018751465015433733),\n",
       " (285, 0.037502930030867465),\n",
       " (286, 0.06154574548966636),\n",
       " (287, 0.026028960314767677),\n",
       " (288, 0.027399831217559546),\n",
       " (289, 0.07142857142857142),\n",
       " (290, 0.0629940788348712),\n",
       " (291, 0.09829463743659808),\n",
       " (292, 0.08838834764831843),\n",
       " (293, 0.02817180849095055),\n",
       " (294, 0.08451542547285165),\n",
       " (295, 0.050832856777534886),\n",
       " (296, 0.060633906259083235),\n",
       " (297, 0.021698151830137312),\n",
       " (298, 0.0),\n",
       " (299, 0.058520573598065284),\n",
       " (300, 0.049690399499995326),\n",
       " (301, 0.036588086663230115),\n",
       " (302, 0.047619047619047616),\n",
       " (303, 0.026688025634181187),\n",
       " (304, 0.07513913622228602),\n",
       " (305, 0.08206099398622181),\n",
       " (306, 0.028583097523751468),\n",
       " (307, 0.04811252243246881),\n",
       " (308, 0.032075014954979206),\n",
       " (309, 0.06537204504606134),\n",
       " (310, 0.13867504905630726),\n",
       " (311, 0.02457365935914952),\n",
       " (312, 0.07537783614444091),\n",
       " (313, 0.0),\n",
       " (314, 0.0),\n",
       " (315, 0.08574929257125441),\n",
       " (316, 0.020361574059384203),\n",
       " (317, 0.0),\n",
       " (318, 0.0),\n",
       " (319, 0.0314970394174356),\n",
       " (320, 0.06189844605901729),\n",
       " (321, 0.0),\n",
       " (322, 0.07715167498104596),\n",
       " (323, 0.029934217004462485),\n",
       " (324, 0.023809523809523808),\n",
       " (325, 0.12379689211803457),\n",
       " (326, 0.05555555555555555),\n",
       " (327, 0.05270462766947299),\n",
       " (328, 0.05555555555555555),\n",
       " (329, 0.10286889997472794),\n",
       " (330, 0.10050378152592121),\n",
       " (331, 0.045360921162651446),\n",
       " (332, 0.07624928516630233),\n",
       " (333, 0.024310831916315757),\n",
       " (334, 0.10050378152592121),\n",
       " (335, 0.024056261216234408),\n",
       " (336, 0.06950480468569159),\n",
       " (337, 0.022075539284417398),\n",
       " (338, 0.0),\n",
       " (339, 0.07905694150420949),\n",
       " (340, 0.14586499149789456),\n",
       " (341, 0.05143444998736397),\n",
       " (342, 0.08986064433619867),\n",
       " (343, 0.02021130208636108),\n",
       " (344, 0.028583097523751468),\n",
       " (345, 0.045360921162651446),\n",
       " (346, 0.026028960314767677),\n",
       " (347, 0.0),\n",
       " (348, 0.05555555555555555),\n",
       " (349, 0.09724332766526303),\n",
       " (350, 0.050832856777534886),\n",
       " (351, 0.0),\n",
       " (352, 0.08451542547285165),\n",
       " (353, 0.020515248496555453),\n",
       " (354, 0.0),\n",
       " (355, 0.05735393346764043),\n",
       " (356, 0.0563436169819011),\n",
       " (357, 0.0),\n",
       " (358, 0.08980265101338746),\n",
       " (359, 0.1160517706371319),\n",
       " (360, 0.0),\n",
       " (361, 0.10540925533894598),\n",
       " (362, 0.030949223029508643),\n",
       " (363, 0.03955938860646177),\n",
       " (364, 0.08006407690254357),\n",
       " (365, 0.0),\n",
       " (366, 0.026028960314767677),\n",
       " (367, 0.0),\n",
       " (368, 0.05986843400892497),\n",
       " (369, 0.07216878364870322),\n",
       " (370, 0.05143444998736397),\n",
       " (371, 0.048112522432468816),\n",
       " (372, 0.024310831916315757),\n",
       " (373, 0.0),\n",
       " (374, 0.0802572353905128),\n",
       " (375, 0.0200643088476282),\n",
       " (376, 0.043768810953240846),\n",
       " (377, 0.021698151830137312),\n",
       " (378, 0.029462782549439476),\n",
       " (379, 0.0670025210172808),\n",
       " (380, 0.0),\n",
       " (381, 0.0890870806374748),\n",
       " (382, 0.0),\n",
       " (383, 0.044151078568834795),\n",
       " (384, 0.11433239009500587),\n",
       " (385, 0.027036903521793755),\n",
       " (386, 0.06565321642986127),\n",
       " (387, 0.026352313834736494),\n",
       " (388, 0.022680460581325723),\n",
       " (389, 0.1160517706371319),\n",
       " (390, 0.026028960314767677),\n",
       " (391, 0.05892556509887897),\n",
       " (392, 0.08703882797784893),\n",
       " (393, 0.05270462766947299),\n",
       " (394, 0.024845199749997663),\n",
       " (395, 0.0),\n",
       " (396, 0.044151078568834795),\n",
       " (397, 0.025416428388767443),\n",
       " (398, 0.043768810953240846),\n",
       " (399, 0.023809523809523808),\n",
       " (400, 0.05986843400892497),\n",
       " (401, 0.0),\n",
       " (402, 0.050832856777534886),\n",
       " (403, 0.1259881576697424),\n",
       " (404, 0.0),\n",
       " (405, 0.057166195047502935),\n",
       " (406, 0.0),\n",
       " (407, 0.06509445549041193),\n",
       " (408, 0.034020690871988585),\n",
       " (409, 0.029462782549439476),\n",
       " (410, 0.04914731871829904),\n",
       " (411, 0.07624928516630233),\n",
       " (412, 0.11446713662390753),\n",
       " (413, 0.05479966243511909),\n",
       " (414, 0.027399831217559546),\n",
       " (415, 0.018405254345807753),\n",
       " (416, 0.052057920629535355),\n",
       " (417, 0.032075014954979206),\n",
       " (418, 0.034752402342845795),\n",
       " (419, 0.07001400420140048),\n",
       " (420, 0.08679260732054925),\n",
       " (421, 0.0),\n",
       " (422, 0.028583097523751468),\n",
       " (423, 0.048112522432468816),\n",
       " (424, 0.037742567804819854),\n",
       " (425, 0.044151078568834795),\n",
       " (426, 0.05212860351426869),\n",
       " (427, 0.07715167498104596),\n",
       " (428, 0.037986858819879316),\n",
       " (429, 0.0),\n",
       " (430, 0.025717224993681984),\n",
       " (431, 0.049690399499995326),\n",
       " (432, 0.046676002800933654),\n",
       " (433, 0.029462782549439476),\n",
       " (434, 0.023112508176051212),\n",
       " (435, 0.06950480468569159),\n",
       " (436, 0.0),\n",
       " (437, 0.047619047619047616),\n",
       " (438, 0.0),\n",
       " (439, 0.0),\n",
       " (440, 0.0),\n",
       " (441, 0.0),\n",
       " (442, 0.022893427324781505),\n",
       " (443, 0.09938079899999065),\n",
       " (444, 0.024056261216234408),\n",
       " (445, 0.02457365935914952),\n",
       " (446, 0.048621663832631515),\n",
       " (447, 0.043033148291193514),\n",
       " (448, 0.046225016352102424),\n",
       " (449, 0.02817180849095055),\n",
       " (450, 0.023570226039551584),\n",
       " (451, 0.025416428388767443),\n",
       " (452, 0.030949223029508643),\n",
       " (453, 0.023570226039551584),\n",
       " (454, 0.0445435403187374),\n",
       " (455, 0.020833333333333332),\n",
       " (456, 0.022075539284417398),\n",
       " (457, 0.13699915608779772),\n",
       " (458, 0.021516574145596757),\n",
       " (459, 0.03333333333333333),\n",
       " (460, 0.047619047619047616),\n",
       " (461, 0.08838834764831843),\n",
       " (462, 0.036588086663230115),\n",
       " (463, 0.0),\n",
       " (464, 0.0),\n",
       " (465, 0.034020690871988585),\n",
       " (466, 0.06666666666666667),\n",
       " (467, 0.08466675133346033),\n",
       " (468, 0.05270462766947299),\n",
       " (469, 0.044151078568834795),\n",
       " (470, 0.046225016352102424),\n",
       " (471, 0.09938079899999065),\n",
       " (472, 0.09428090415820634),\n",
       " (473, 0.048112522432468816),\n",
       " (474, 0.0),\n",
       " (475, 0.06622661785325219),\n",
       " (476, 0.0314970394174356),\n",
       " (477, 0.0),\n",
       " (478, 0.053916386601719206),\n",
       " (479, 0.034380708208626445),\n",
       " (480, 0.047619047619047616),\n",
       " (481, 0.0),\n",
       " (482, 0.0),\n",
       " (483, 0.08838834764831843),\n",
       " (484, 0.06189844605901729),\n",
       " (485, 0.05479966243511909),\n",
       " (486, 0.08211077318035775),\n",
       " (487, 0.05986843400892497),\n",
       " (488, 0.034752402342845795),\n",
       " (489, 0.032075014954979206),\n",
       " (490, 0.06415002990995841),\n",
       " (491, 0.041996052556580794),\n",
       " (492, 0.05986843400892497),\n",
       " (493, 0.036369648372665396),\n",
       " (494, 0.06537204504606134),\n",
       " (495, 0.06666666666666667),\n",
       " (496, 0.0),\n",
       " (497, 0.0),\n",
       " (498, 0.06666666666666667),\n",
       " (499, 0.027777777777777776),\n",
       " (500, 0.025717224993681984),\n",
       " (501, 0.0629940788348712),\n",
       " (502, 0.044946657497549475),\n",
       " (503, 0.07624928516630233),\n",
       " (504, 0.030949223029508643),\n",
       " (505, 0.06950480468569159),\n",
       " (506, 0.0),\n",
       " (507, 0.06350006350009524),\n",
       " (508, 0.10540925533894598),\n",
       " (509, 0.0629940788348712),\n",
       " (510, 0.02457365935914952),\n",
       " (511, 0.08219949365267865),\n",
       " (512, 0.026352313834736494),\n",
       " (513, 0.07372097807744857),\n",
       " (514, 0.07453559924999299),\n",
       " (515, 0.024056261216234408),\n",
       " (516, 0.0),\n",
       " (517, 0.041996052556580794),\n",
       " (518, 0.06933752452815364),\n",
       " (519, 0.0),\n",
       " (520, 0.0),\n",
       " (521, 0.0),\n",
       " (522, 0.0),\n",
       " (523, 0.046225016352102424),\n",
       " (524, 0.029012942659282975),\n",
       " (525, 0.022893427324781505),\n",
       " (526, 0.0),\n",
       " (527, 0.0),\n",
       " (528, 0.022680460581325723),\n",
       " (529, 0.022680460581325723),\n",
       " (530, 0.06189844605901729),\n",
       " (531, 0.04578685464956301),\n",
       " (532, 0.0),\n",
       " (533, 0.027777777777777776),\n",
       " (534, 0.036369648372665396),\n",
       " (535, 0.05270462766947299),\n",
       " (536, 0.023338001400466827),\n",
       " (537, 0.06950480468569159),\n",
       " (538, 0.0),\n",
       " (539, 0.05555555555555555),\n",
       " (540, 0.049690399499995326),\n",
       " (541, 0.03984095364447979),\n",
       " (542, 0.036588086663230115),\n",
       " (543, 0.10050378152592121),\n",
       " (544, 0.08111071056538127),\n",
       " (545, 0.026352313834736494),\n",
       " (546, 0.06415002990995841),\n",
       " (547, 0.08006407690254357),\n",
       " (548, 0.0),\n",
       " (549, 0.07142857142857142),\n",
       " (550, 0.0),\n",
       " (551, 0.06401843996644799),\n",
       " (552, 0.0),\n",
       " (553, 0.02817180849095055),\n",
       " (554, 0.027036903521793755),\n",
       " (555, 0.015963771420352522),\n",
       " (556, 0.027399831217559546),\n",
       " (557, 0.027399831217559546),\n",
       " (558, 0.0),\n",
       " (559, 0.029934217004462485),\n",
       " (560, 0.03928371006591931),\n",
       " (561, 0.030429030972509225),\n",
       " (562, 0.0314970394174356),\n",
       " (563, 0.050251890762960605),\n",
       " (564, 0.02817180849095055),\n",
       " (565, 0.043396303660274624),\n",
       " (566, 0.09428090415820634),\n",
       " (567, 0.0),\n",
       " (568, 0.05479966243511909),\n",
       " (569, 0.09428090415820634),\n",
       " (570, 0.03268602252303067),\n",
       " (571, 0.020361574059384203),\n",
       " (572, 0.08753762190648169),\n",
       " (573, 0.020672455764868078),\n",
       " (574, 0.022893427324781505),\n",
       " (575, 0.025717224993681984),\n",
       " (576, 0.053376051268362375),\n",
       " (577, 0.053376051268362375),\n",
       " (578, 0.037502930030867465),\n",
       " (579, 0.029012942659282975),\n",
       " (580, 0.022893427324781505),\n",
       " (581, 0.09128709291752768),\n",
       " (582, 0.0445435403187374),\n",
       " (583, 0.13736056394868904),\n",
       " (584, 0.041666666666666664),\n",
       " (585, 0.023809523809523808),\n",
       " (586, 0.041030496993110906),\n",
       " (587, 0.09724332766526303),\n",
       " (588, 0.025416428388767443),\n",
       " (589, 0.045360921162651446),\n",
       " (590, 0.030429030972509225),\n",
       " (591, 0.048112522432468816),\n",
       " (592, 0.06933752452815364),\n",
       " (593, 0.0),\n",
       " (594, 0.07624928516630233),\n",
       " (595, 0.046225016352102424),\n",
       " (596, 0.09245003270420485),\n",
       " (597, 0.057166195047502935),\n",
       " (598, 0.0),\n",
       " (599, 0.01567868113972662),\n",
       " (600, 0.04578685464956301),\n",
       " (601, 0.05),\n",
       " (602, 0.04267895997763199),\n",
       " (603, 0.048112522432468816),\n",
       " (604, 0.06085806194501845),\n",
       " (605, 0.0),\n",
       " (606, 0.0),\n",
       " (607, 0.07647191129018724),\n",
       " (608, 0.0),\n",
       " (609, 0.043033148291193514),\n",
       " (610, 0.07749842582921285),\n",
       " (611, 0.021884405476620423),\n",
       " (612, 0.06454972243679027),\n",
       " (613, 0.034752402342845795),\n",
       " (614, 0.026028960314767677),\n",
       " (615, 0.0314970394174356),\n",
       " (616, 0.034020690871988585),\n",
       " (617, 0.025717224993681984),\n",
       " (618, 0.08268982305947231),\n",
       " (619, 0.04914731871829904),\n",
       " (620, 0.0),\n",
       " (621, 0.06666666666666667),\n",
       " (622, 0.020998026278290397),\n",
       " (623, 0.04267895997763199),\n",
       " (624, 0.06666666666666667),\n",
       " (625, 0.0),\n",
       " (626, 0.027036903521793755),\n",
       " (627, 0.10425720702853739),\n",
       " (628, 0.04914731871829904),\n",
       " (629, 0.048112522432468816),\n",
       " (630, 0.023809523809523808),\n",
       " (631, 0.024056261216234408),\n",
       " (632, 0.0),\n",
       " (633, 0.042333375666730164),\n",
       " (634, 0.048621663832631515),\n",
       " (635, 0.0222717701593687),\n",
       " (636, 0.08219949365267865),\n",
       " (637, 0.0),\n",
       " (638, 0.0),\n",
       " (639, 0.023338001400466827),\n",
       " (640, 0.04914731871829904),\n",
       " (641, 0.0),\n",
       " (642, 0.029462782549439476),\n",
       " (643, 0.07071067811865475),\n",
       " (644, 0.050832856777534886),\n",
       " (645, 0.06741998624632421),\n",
       " (646, 0.10675210253672475),\n",
       " (647, 0.0),\n",
       " (648, 0.0),\n",
       " (649, 0.09622504486493763),\n",
       " (650, 0.05270462766947299),\n",
       " (651, 0.04714045207910317),\n",
       " (652, 0.0),\n",
       " (653, 0.034752402342845795),\n",
       " (654, 0.06108472217815261),\n",
       " (655, 0.023809523809523808),\n",
       " (656, 0.0),\n",
       " (657, 0.052999894000318),\n",
       " (658, 0.04714045207910317),\n",
       " (659, 0.07624928516630233),\n",
       " (660, 0.0629940788348712),\n",
       " (661, 0.06108472217815261),\n",
       " (662, 0.0),\n",
       " (663, 0.0),\n",
       " (664, 0.09284766908852593),\n",
       " (665, 0.07071067811865475),\n",
       " (666, 0.050251890762960605),\n",
       " (667, 0.0),\n",
       " (668, 0.05986843400892497),\n",
       " (669, 0.0),\n",
       " (670, 0.0),\n",
       " (671, 0.022893427324781505),\n",
       " (672, 0.027036903521793755),\n",
       " (673, 0.0),\n",
       " (674, 0.022893427324781505),\n",
       " (675, 0.045360921162651446),\n",
       " (676, 0.05986843400892497),\n",
       " (677, 0.025125945381480302),\n",
       " (678, 0.05802588531856595),\n",
       " (679, 0.0),\n",
       " (680, 0.024056261216234408),\n",
       " (681, 0.0),\n",
       " (682, 0.0),\n",
       " (683, 0.04714045207910317),\n",
       " (684, 0.0),\n",
       " (685, 0.032075014954979206),\n",
       " (686, 0.06415002990995841),\n",
       " (687, 0.050832856777534886),\n",
       " (688, 0.022473328748774737),\n",
       " (689, 0.04714045207910317),\n",
       " (690, 0.048112522432468816),\n",
       " (691, 0.1126872339638022),\n",
       " (692, 0.0222717701593687),\n",
       " (693, 0.0),\n",
       " (694, 0.08679260732054925),\n",
       " (695, 0.09622504486493762),\n",
       " (696, 0.0401286176952564),\n",
       " (697, 0.07808688094430302),\n",
       " (698, 0.044151078568834795),\n",
       " (699, 0.0),\n",
       " (700, 0.0563436169819011),\n",
       " (701, 0.0),\n",
       " (702, 0.04578685464956301),\n",
       " (703, 0.0),\n",
       " (704, 0.021884405476620423),\n",
       " (705, 0.04578685464956301),\n",
       " (706, 0.07216878364870322),\n",
       " (707, 0.06415002990995841),\n",
       " (708, 0.04914731871829904),\n",
       " (709, 0.03984095364447979),\n",
       " (710, 0.044151078568834795),\n",
       " (711, 0.08703882797784893),\n",
       " (712, 0.023809523809523808),\n",
       " (713, 0.0),\n",
       " (714, 0.0),\n",
       " (715, 0.09128709291752768),\n",
       " (716, 0.05802588531856595),\n",
       " (717, 0.06454972243679027),\n",
       " (718, 0.021516574145596757),\n",
       " (719, 0.03928371006591931),\n",
       " (720, 0.0),\n",
       " (721, 0.06189844605901729),\n",
       " (722, 0.04578685464956301),\n",
       " (723, 0.0),\n",
       " (724, 0.06868028197434452),\n",
       " (725, 0.02817180849095055),\n",
       " (726, 0.0),\n",
       " (727, 0.03494282789073061),\n",
       " (728, 0.046225016352102424),\n",
       " (729, 0.0),\n",
       " (730, 0.09147021665807528),\n",
       " (731, 0.07293249574894728),\n",
       " (732, 0.04714045207910317),\n",
       " (733, 0.041996052556580794),\n",
       " (734, 0.07293249574894728),\n",
       " (735, 0.022473328748774737),\n",
       " (736, 0.030429030972509225),\n",
       " (737, 0.048621663832631515),\n",
       " (738, 0.06415002990995841),\n",
       " (739, 0.03553345272593507),\n",
       " (740, 0.043033148291193514),\n",
       " (741, 0.05407380704358751),\n",
       " (742, 0.06666666666666667),\n",
       " (743, 0.021698151830137312),\n",
       " (744, 0.05407380704358751),\n",
       " (745, 0.08333333333333333),\n",
       " (746, 0.06804138174397717),\n",
       " (747, 0.04267895997763199),\n",
       " (748, 0.03333333333333333),\n",
       " (749, 0.021884405476620423),\n",
       " (750, 0.0445435403187374),\n",
       " (751, 0.0),\n",
       " (752, 0.044946657497549475),\n",
       " (753, 0.026688025634181187),\n",
       " (754, 0.050832856777534886),\n",
       " (755, 0.07911877721292354),\n",
       " (756, 0.0),\n",
       " (757, 0.0),\n",
       " (758, 0.07001400420140048),\n",
       " (759, 0.021884405476620423),\n",
       " (760, 0.0),\n",
       " (761, 0.05479966243511909),\n",
       " (762, 0.029934217004462485),\n",
       " (763, 0.0),\n",
       " (764, 0.05407380704358751),\n",
       " (765, 0.024845199749997663),\n",
       " (766, 0.0),\n",
       " (767, 0.046225016352102424),\n",
       " (768, 0.03849001794597504),\n",
       " (769, 0.0629940788348712),\n",
       " (770, 0.06509445549041193),\n",
       " (771, 0.0),\n",
       " (772, 0.029012942659282975),\n",
       " (773, 0.1259881576697424),\n",
       " (774, 0.03823595564509362),\n",
       " (775, 0.07715167498104594),\n",
       " (776, 0.03726779962499649),\n",
       " (777, 0.06509445549041193),\n",
       " (778, 0.11556254088025605),\n",
       " (779, 0.0),\n",
       " (780, 0.03928371006591931),\n",
       " (781, 0.1496710850223124),\n",
       " (782, 0.04714045207910317),\n",
       " (783, 0.0629940788348712),\n",
       " (784, 0.12422599874998831),\n",
       " (785, 0.05555555555555555),\n",
       " (786, 0.08980265101338746),\n",
       " (787, 0.027399831217559546),\n",
       " (788, 0.09523809523809523),\n",
       " (789, 0.0),\n",
       " (790, 0.021516574145596757),\n",
       " (791, 0.05802588531856595),\n",
       " (792, 0.08111071056538127),\n",
       " (793, 0.050251890762960605),\n",
       " (794, 0.05986843400892497),\n",
       " (795, 0.0),\n",
       " (796, 0.03928371006591931),\n",
       " (797, 0.0),\n",
       " (798, 0.0),\n",
       " (799, 0.036588086663230115),\n",
       " (800, 0.07453559924999298),\n",
       " (801, 0.0),\n",
       " (802, 0.027777777777777776),\n",
       " (803, 0.07216878364870322),\n",
       " (804, 0.048112522432468816),\n",
       " (805, 0.08006407690254357),\n",
       " (806, 0.0),\n",
       " (807, 0.05143444998736397),\n",
       " (808, 0.06804138174397717),\n",
       " (809, 0.021516574145596757),\n",
       " (810, 0.053376051268362375),\n",
       " (811, 0.0),\n",
       " (812, 0.14147911460452756),\n",
       " (813, 0.09724332766526303),\n",
       " (814, 0.027777777777777776),\n",
       " (815, 0.022075539284417398),\n",
       " (816, 0.044946657497549475),\n",
       " (817, 0.0),\n",
       " (818, 0.14744195615489714),\n",
       " (819, 0.022680460581325723),\n",
       " (820, 0.04833682445228318),\n",
       " (821, 0.06734350297014738),\n",
       " (822, 0.021339479988815996),\n",
       " (823, 0.08111071056538127),\n",
       " (824, 0.0),\n",
       " (825, 0.0),\n",
       " (826, 0.0314970394174356),\n",
       " (827, 0.0890870806374748),\n",
       " (828, 0.025416428388767443),\n",
       " (829, 0.0),\n",
       " (830, 0.08219949365267865),\n",
       " (831, 0.048112522432468816),\n",
       " (832, 0.027036903521793755),\n",
       " (833, 0.048112522432468816),\n",
       " (834, 0.0445435403187374),\n",
       " (835, 0.07453559924999299),\n",
       " (836, 0.0625),\n",
       " (837, 0.027777777777777776),\n",
       " (838, 0.03984095364447979),\n",
       " (839, 0.034020690871988585),\n",
       " (840, 0.08574929257125441),\n",
       " (841, 0.04714045207910317),\n",
       " (842, 0.020515248496555453),\n",
       " (843, 0.025416428388767443),\n",
       " (844, 0.027036903521793755),\n",
       " (845, 0.019374606457303212),\n",
       " (846, 0.0),\n",
       " (847, 0.0),\n",
       " (848, 0.1743714581157289),\n",
       " (849, 0.025717224993681984),\n",
       " (850, 0.07647191129018724),\n",
       " (851, 0.02817180849095055),\n",
       " (852, 0.0),\n",
       " (853, 0.028583097523751468),\n",
       " (854, 0.026028960314767677),\n",
       " (855, 0.026028960314767677),\n",
       " (856, 0.023338001400466827),\n",
       " (857, 0.0),\n",
       " (858, 0.07856742013183862),\n",
       " (859, 0.08219949365267865),\n",
       " (860, 0.0328443092721431),\n",
       " (861, 0.019920476822239894),\n",
       " (862, 0.026688025634181187),\n",
       " (863, 0.028583097523751468),\n",
       " (864, 0.03594425773447947),\n",
       " (865, 0.0),\n",
       " (866, 0.07647191129018724),\n",
       " (867, 0.0),\n",
       " (868, 0.04714045207910317),\n",
       " (869, 0.05407380704358751),\n",
       " (870, 0.07372097807744857),\n",
       " (871, 0.0),\n",
       " (872, 0.0),\n",
       " (873, 0.04267895997763199),\n",
       " (874, 0.025416428388767443),\n",
       " (875, 0.0),\n",
       " (876, 0.0),\n",
       " (877, 0.030949223029508643),\n",
       " (878, 0.0314970394174356),\n",
       " (879, 0.0),\n",
       " (880, 0.027777777777777776),\n",
       " (881, 0.03333333333333333),\n",
       " (882, 0.027036903521793755),\n",
       " (883, 0.0),\n",
       " (884, 0.026688025634181187),\n",
       " (885, 0.0),\n",
       " (886, 0.0),\n",
       " (887, 0.018405254345807753),\n",
       " (888, 0.046225016352102424),\n",
       " (889, 0.01650245904961124),\n",
       " (890, 0.026352313834736494),\n",
       " (891, 0.041666666666666664),\n",
       " (892, 0.07453559924999298),\n",
       " (893, 0.037742567804819854),\n",
       " (894, 0.05407380704358751),\n",
       " (895, 0.027036903521793755),\n",
       " (896, 0.0),\n",
       " (897, 0.0),\n",
       " (898, 0.050832856777534886),\n",
       " (899, 0.05143444998736397),\n",
       " (900, 0.0),\n",
       " (901, 0.05479966243511909),\n",
       " (902, 0.0),\n",
       " (903, 0.06666666666666667),\n",
       " (904, 0.022075539284417398),\n",
       " (905, 0.0),\n",
       " (906, 0.03553345272593507),\n",
       " (907, 0.0),\n",
       " (908, 0.0),\n",
       " (909, 0.029462782549439476),\n",
       " (910, 0.0),\n",
       " (911, 0.0445435403187374),\n",
       " (912, 0.03268602252303067),\n",
       " (913, 0.07106690545187014),\n",
       " (914, 0.034020690871988585),\n",
       " (915, 0.024845199749997663),\n",
       " (916, 0.0),\n",
       " (917, 0.057166195047502935),\n",
       " (918, 0.0),\n",
       " (919, 0.04714045207910317),\n",
       " (920, 0.05986843400892497),\n",
       " (921, 0.04714045207910317),\n",
       " (922, 0.08111071056538127),\n",
       " (923, 0.0),\n",
       " (924, 0.0),\n",
       " (925, 0.02021130208636108),\n",
       " (926, 0.0),\n",
       " (927, 0.02817180849095055),\n",
       " (928, 0.0),\n",
       " (929, 0.025416428388767443),\n",
       " (930, 0.04578685464956301),\n",
       " (931, 0.11433239009500587),\n",
       " (932, 0.04714045207910317),\n",
       " (933, 0.09523809523809523),\n",
       " (934, 0.028583097523751468),\n",
       " (935, 0.09805806756909201),\n",
       " (936, 0.0),\n",
       " (937, 0.04578685464956301),\n",
       " (938, 0.0),\n",
       " (939, 0.08084520834544431),\n",
       " (940, 0.0),\n",
       " (941, 0.030429030972509225),\n",
       " (942, 0.10540925533894598),\n",
       " (943, 0.026352313834736494),\n",
       " (944, 0.0),\n",
       " (945, 0.029462782549439476),\n",
       " (946, 0.0),\n",
       " (947, 0.01650245904961124),\n",
       " (948, 0.0),\n",
       " (949, 0.062017367294604234),\n",
       " (950, 0.055901699437494734),\n",
       " (951, 0.0563436169819011),\n",
       " (952, 0.024845199749997663),\n",
       " (953, 0.023338001400466827),\n",
       " (954, 0.0),\n",
       " (955, 0.027036903521793755),\n",
       " (956, 0.024310831916315757),\n",
       " (957, 0.029934217004462485),\n",
       " (958, 0.0),\n",
       " (959, 0.07808688094430304),\n",
       " (960, 0.08703882797784893),\n",
       " (961, 0.050251890762960605),\n",
       " (962, 0.09157370929912602),\n",
       " (963, 0.021166687833365082),\n",
       " (964, 0.0),\n",
       " (965, 0.0),\n",
       " (966, 0.03726779962499649),\n",
       " (967, 0.034020690871988585),\n",
       " (968, 0.0),\n",
       " (969, 0.0601929265428846),\n",
       " (970, 0.0),\n",
       " (971, 0.06415002990995841),\n",
       " (972, 0.11433239009500587),\n",
       " (973, 0.1111111111111111),\n",
       " (974, 0.012320354515909546),\n",
       " (975, 0.012123216124221799),\n",
       " (976, 0.029012942659282975),\n",
       " (977, 0.0),\n",
       " (978, 0.0),\n",
       " (979, 0.049690399499995326),\n",
       " (980, 0.05802588531856595),\n",
       " (981, 0.16025399127347054),\n",
       " (982, 0.041030496993110906),\n",
       " (983, 0.0),\n",
       " (984, 0.02817180849095055),\n",
       " (985, 0.03253000243161777),\n",
       " (986, 0.0),\n",
       " (987, 0.15249857033260467),\n",
       " (988, 0.050251890762960605),\n",
       " (989, 0.05802588531856595),\n",
       " (990, 0.02457365935914952),\n",
       " (991, 0.03333333333333333),\n",
       " (992, 0.043396303660274624),\n",
       " (993, 0.0),\n",
       " (994, 0.047619047619047616),\n",
       " (995, 0.06666666666666667),\n",
       " (996, 0.027777777777777776),\n",
       " (997, 0.023338001400466827),\n",
       " (998, 0.030429030972509225),\n",
       " (999, 0.0),\n",
       " ...]"
      ]
     },
     "execution_count": 76,
     "metadata": {},
     "output_type": "execute_result"
    }
   ],
   "source": [
    "# Enumerate the array to get both Cosine_Similarity_values and indices\n",
    "enumerated_array = list(enumerate(similarity_matrix[1]))\n",
    "enumerated_array"
   ]
  },
  {
   "cell_type": "code",
   "execution_count": 77,
   "id": "a2dc0e1c-a027-4ef6-9e7c-3a602e8ff16b",
   "metadata": {},
   "outputs": [],
   "source": [
    "def recommend(movie_name):\n",
    "    # Get an Index of the Movie\n",
    "    f=0\n",
    "    # Here we take an \"Index\" of the movie not \"Id\" of the movie\n",
    "    \n",
    "    index=movies_new[movies_new['title']==movie_name].index[0]\n",
    "    enumerated_array = list(enumerate(similarity_matrix[index]))\n",
    "    \n",
    "    # Sort the array based on the values in descending order\n",
    "    sorted_distance = sorted(enumerated_array, key=lambda x: x[1], reverse=True)\n",
    "    \n",
    "    # Get the top five distances with their indices\n",
    "    top_five_elements = sorted_distance[:6]\n",
    "\n",
    "    # here index means movie \"index\" not \"id\"\n",
    "    # here value means \"Cosine_Similarity_Value\", Check it in above cell\n",
    "    for index,value in top_five_elements:\n",
    "        if f!=0: # In order to eliminate Same Movie.\n",
    "            print(movies_new['title'].iloc[index])\n",
    "        f=1\n",
    "    "
   ]
  },
  {
   "cell_type": "code",
   "execution_count": 78,
   "id": "7992f80d-3b24-49da-ae21-c7973f6eb5e7",
   "metadata": {},
   "outputs": [
    {
     "name": "stdout",
     "output_type": "stream",
     "text": [
      "Aliens vs Predator: Requiem\n",
      "Titan A.E.\n",
      "Meet Dave\n",
      "Independence Day\n",
      "Aliens\n"
     ]
    }
   ],
   "source": [
    "movie_name='Avatar'\n",
    "recommend(movie_name)"
   ]
  },
  {
   "cell_type": "code",
   "execution_count": 79,
   "id": "ba67f06e-dde0-4e58-a640-81ce3471b4e0",
   "metadata": {},
   "outputs": [],
   "source": [
    "import pickle\n",
    "pickle.dump(movies_new,open('movie_list.pkl','wb'))\n",
    "pickle.dump(similarity_matrix,open('similarity.pkl','wb'))"
   ]
  },
  {
   "cell_type": "code",
   "execution_count": 80,
   "id": "a2f86bb7-95fe-4c3b-bc5a-dfc68a789f38",
   "metadata": {},
   "outputs": [],
   "source": [
    "#import pandas as pd\n",
    "\n",
    "# Assuming 'df' is your DataFrame\n",
    "#movies_new.to_csv('movies_new.csv', index=False)"
   ]
  },
  {
   "cell_type": "markdown",
   "id": "57674845",
   "metadata": {},
   "source": [
    "### Prediction Using Pickle File"
   ]
  },
  {
   "cell_type": "code",
   "execution_count": 81,
   "id": "54ff718d",
   "metadata": {},
   "outputs": [],
   "source": [
    "similarity_model=pickle.load(open('similarity.pkl','rb'))\n"
   ]
  },
  {
   "cell_type": "code",
   "execution_count": 82,
   "id": "a9818af3",
   "metadata": {},
   "outputs": [],
   "source": [
    "def recommend(movie_name):\n",
    "    # Get an Index of the Movie\n",
    "    f=0\n",
    "    index=movies_new[movies_new['title']==movie_name].index[0]\n",
    "    enumerated_array = list(enumerate(similarity_model[index]))\n",
    "    \n",
    "    # Sort the array based on the values in descending order\n",
    "    sorted_distance = sorted(enumerated_array, key=lambda x: x[1], reverse=True)\n",
    "    \n",
    "    # Get the top five distances with their indices\n",
    "    top_five_elements = sorted_distance[:6]\n",
    "\n",
    "    for index,value in top_five_elements:\n",
    "        if f!=0: # In order to eliminate Same Movie.\n",
    "            print(movies_new['title'].iloc[index])\n",
    "        f=1"
   ]
  },
  {
   "cell_type": "code",
   "execution_count": 84,
   "id": "5157c1ad",
   "metadata": {},
   "outputs": [
    {
     "name": "stdout",
     "output_type": "stream",
     "text": [
      "Aliens vs Predator: Requiem\n",
      "Titan A.E.\n",
      "Meet Dave\n",
      "Independence Day\n",
      "Aliens\n"
     ]
    }
   ],
   "source": [
    "movie_name='Avatar'\n",
    "recommend(movie_name)"
   ]
  },
  {
   "cell_type": "markdown",
   "id": "14ad0ba5",
   "metadata": {},
   "source": [
    "### Experiment for Fetch Poster"
   ]
  },
  {
   "cell_type": "code",
   "execution_count": 87,
   "id": "28c05683",
   "metadata": {},
   "outputs": [
    {
     "data": {
      "text/html": [
       "<div>\n",
       "<style scoped>\n",
       "    .dataframe tbody tr th:only-of-type {\n",
       "        vertical-align: middle;\n",
       "    }\n",
       "\n",
       "    .dataframe tbody tr th {\n",
       "        vertical-align: top;\n",
       "    }\n",
       "\n",
       "    .dataframe thead th {\n",
       "        text-align: right;\n",
       "    }\n",
       "</style>\n",
       "<table border=\"1\" class=\"dataframe\">\n",
       "  <thead>\n",
       "    <tr style=\"text-align: right;\">\n",
       "      <th></th>\n",
       "      <th>id</th>\n",
       "      <th>title</th>\n",
       "      <th>tags</th>\n",
       "    </tr>\n",
       "  </thead>\n",
       "  <tbody>\n",
       "    <tr>\n",
       "      <th>0</th>\n",
       "      <td>19995</td>\n",
       "      <td>Avatar</td>\n",
       "      <td>22nd centuri , parapleg marin dispatch moon pa...</td>\n",
       "    </tr>\n",
       "    <tr>\n",
       "      <th>1</th>\n",
       "      <td>285</td>\n",
       "      <td>Pirates of the Caribbean: At World's End</td>\n",
       "      <td>captain barbossa , long believ dead , come bac...</td>\n",
       "    </tr>\n",
       "    <tr>\n",
       "      <th>2</th>\n",
       "      <td>206647</td>\n",
       "      <td>Spectre</td>\n",
       "      <td>cryptic messag bond ’ past send trail uncov si...</td>\n",
       "    </tr>\n",
       "    <tr>\n",
       "      <th>3</th>\n",
       "      <td>49026</td>\n",
       "      <td>The Dark Knight Rises</td>\n",
       "      <td>follow death district attorney harvey dent , b...</td>\n",
       "    </tr>\n",
       "    <tr>\n",
       "      <th>4</th>\n",
       "      <td>49529</td>\n",
       "      <td>John Carter</td>\n",
       "      <td>john carter war-weari , former militari captai...</td>\n",
       "    </tr>\n",
       "  </tbody>\n",
       "</table>\n",
       "</div>"
      ],
      "text/plain": [
       "       id                                     title  \\\n",
       "0   19995                                    Avatar   \n",
       "1     285  Pirates of the Caribbean: At World's End   \n",
       "2  206647                                   Spectre   \n",
       "3   49026                     The Dark Knight Rises   \n",
       "4   49529                               John Carter   \n",
       "\n",
       "                                                tags  \n",
       "0  22nd centuri , parapleg marin dispatch moon pa...  \n",
       "1  captain barbossa , long believ dead , come bac...  \n",
       "2  cryptic messag bond ’ past send trail uncov si...  \n",
       "3  follow death district attorney harvey dent , b...  \n",
       "4  john carter war-weari , former militari captai...  "
      ]
     },
     "execution_count": 87,
     "metadata": {},
     "output_type": "execute_result"
    }
   ],
   "source": [
    "movies_new.head()"
   ]
  },
  {
   "cell_type": "markdown",
   "id": "4472ac1b",
   "metadata": {},
   "source": [
    "### Find Movie Id Given Movie index"
   ]
  },
  {
   "cell_type": "code",
   "execution_count": 122,
   "id": "16a90205",
   "metadata": {},
   "outputs": [],
   "source": [
    "# Movie Index given\n",
    "movie_index=2"
   ]
  },
  {
   "cell_type": "code",
   "execution_count": 123,
   "id": "5dbce337",
   "metadata": {},
   "outputs": [
    {
     "data": {
      "text/plain": [
       "0        19995\n",
       "1          285\n",
       "2       206647\n",
       "3        49026\n",
       "4        49529\n",
       "         ...  \n",
       "4801      9367\n",
       "4802     72766\n",
       "4803    231617\n",
       "4804    126186\n",
       "4805     25975\n",
       "Name: id, Length: 4806, dtype: int64"
      ]
     },
     "execution_count": 123,
     "metadata": {},
     "output_type": "execute_result"
    }
   ],
   "source": [
    "movies_new['id']"
   ]
  },
  {
   "cell_type": "code",
   "execution_count": 124,
   "id": "66dc7f83",
   "metadata": {},
   "outputs": [
    {
     "data": {
      "text/plain": [
       "2    206647\n",
       "Name: id, dtype: int64"
      ]
     },
     "execution_count": 124,
     "metadata": {},
     "output_type": "execute_result"
    }
   ],
   "source": [
    "movie_id=movies_new[movies_new.index==movie_index]['id']\n",
    "movie_id"
   ]
  },
  {
   "cell_type": "code",
   "execution_count": 125,
   "id": "4f18a195",
   "metadata": {},
   "outputs": [
    {
     "data": {
      "text/plain": [
       "array([206647], dtype=int64)"
      ]
     },
     "execution_count": 125,
     "metadata": {},
     "output_type": "execute_result"
    }
   ],
   "source": [
    "np.array(movie_id)"
   ]
  },
  {
   "cell_type": "code",
   "execution_count": 126,
   "id": "80f5c69a",
   "metadata": {},
   "outputs": [
    {
     "data": {
      "text/plain": [
       "206647"
      ]
     },
     "execution_count": 126,
     "metadata": {},
     "output_type": "execute_result"
    }
   ],
   "source": [
    "np.array(movie_id)[0]"
   ]
  },
  {
   "cell_type": "code",
   "execution_count": 127,
   "id": "a7598a9a",
   "metadata": {},
   "outputs": [
    {
     "data": {
      "text/plain": [
       "206647"
      ]
     },
     "execution_count": 127,
     "metadata": {},
     "output_type": "execute_result"
    }
   ],
   "source": [
    "# Work Properly\n",
    "movie_id = movies_new.loc[movie_index, 'id']\n",
    "movie_id"
   ]
  }
 ],
 "metadata": {
  "kernelspec": {
   "display_name": "Python 3 (ipykernel)",
   "language": "python",
   "name": "python3"
  },
  "language_info": {
   "codemirror_mode": {
    "name": "ipython",
    "version": 3
   },
   "file_extension": ".py",
   "mimetype": "text/x-python",
   "name": "python",
   "nbconvert_exporter": "python",
   "pygments_lexer": "ipython3",
   "version": "3.11.7"
  }
 },
 "nbformat": 4,
 "nbformat_minor": 5
}
